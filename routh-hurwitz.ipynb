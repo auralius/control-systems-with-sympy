{
 "cells": [
  {
   "cell_type": "markdown",
   "metadata": {},
   "source": [
    "# Routh-Hurwitz Stability Criterion"
   ]
  },
  {
   "cell_type": "markdown",
   "metadata": {},
   "source": [
    "## Required imports"
   ]
  },
  {
   "cell_type": "code",
   "execution_count": 1,
   "metadata": {},
   "outputs": [],
   "source": [
    "from sympy import *\n",
    "from sympy.abc import s, epsilon, k\n",
    "\n",
    "from mathprint import *"
   ]
  },
  {
   "cell_type": "markdown",
   "metadata": {},
   "source": [
    "## Motivation"
   ]
  },
  {
   "cell_type": "markdown",
   "metadata": {},
   "source": [
    "Given the following transfer function:\n",
    "\n",
    "$$ G(S) = \\frac{ N(s) }{D(s)}$$\n",
    "\n",
    "where $N(s)$ is the numerator and $D(s)$ is the denominator. Both are polynomials. The roots of the numerator defines the system stabilty. \n",
    "\n",
    "**Routh-Hurwitz method allows us to conclude the system's stability without actually calculating the polynomial roots of the denominator.**"
   ]
  },
  {
   "cell_type": "markdown",
   "metadata": {},
   "source": [
    "## The Routh table"
   ]
  },
  {
   "cell_type": "markdown",
   "metadata": {},
   "source": [
    "Given the following system:\n",
    "\n",
    "$\\boxed{G(s) = \\frac{ \\text{num}(s)}{a_ns^n + a_{n-1}s^{n-1} + \\dots + a_1s + a_0}}$\n",
    "\n",
    "As an example, let us take $n=4$. The RH-table is as follows:\n",
    "\n",
    "\n",
    "| $s^4$ | $a_4$ | $a_2$ | $a_0$ |\n",
    "| :---: | :---: | :---: | :---: |\n",
    "| $s^3$ | $a_3$ | $a_1$ | 0 |\n",
    "| $s^2$ | $\\frac{-\\left\\|\\begin{array}{ll}a_4 & a_2 \\\\ a_3 & a_1\\end{array}\\right\\|}{a_3}=b_1$ | $\\frac{-\\left\\|\\begin{array}{cc}a_4 & a_0 \\\\ a_3 & 0\\end{array}\\right\\|}{a_3}=b_2$ | $\\frac{-\\left\\|\\begin{array}{ll}a_4 & 0 \\\\ a_3 & 0\\end{array}\\right\\|}{a_3}=0$ |\n",
    "| $s^1$ | $\\frac{-\\left\\|\\begin{array}{ll}a_3 & a_1 \\\\b_1 & b_2\\end{array}\\right\\|}{b_1}=c_1$ | $\\frac{-\\left\\|\\begin{array}{ll}a_3 & 0 \\\\ b_1 & 0\\end{array}\\right\\|}{b_1}=0$ | $\\frac{-\\left\\|\\begin{array}{ll}a_3 & 0 \\\\ b_1 & 0\\end{array}\\right\\|}{b_1}=0$ |\n",
    "| $s^0$ | $\\frac{-\\left\\|\\begin{array}{cc}b_1 & b_2 \\\\c_1 & 0\\end{array}\\right\\|}{c_1}=d_1$ | $\\frac{-\\left\\|\\begin{array}{ll}b_1 & 0 \\\\ c_1 & 0\\end{array}\\right\\|}{c_1}=0$ | $\\frac{-\\left\\|\\begin{array}{ll}b_1 & 0 \\\\ c_1 & 0\\end{array}\\right\\|}{c_1}=0$ |  \n",
    "\n",
    "\n",
    "$$\n",
    "\\boxed{ \n",
    "\\text{ \n",
    "The denominator polynomial is stable iff all elements of the first column of the Routh table are nonzero and have the same sign.\n",
    "} \n",
    "} \n",
    "$$"
   ]
  },
  {
   "cell_type": "markdown",
   "metadata": {},
   "source": [
    "As we can see, the procedures to build a Routh table is repetitive. Thus, we will use Python SymPy to automate the the procedure. "
   ]
  },
  {
   "cell_type": "markdown",
   "metadata": {},
   "source": [
    "## Implementations"
   ]
  },
  {
   "cell_type": "markdown",
   "metadata": {},
   "source": [
    "The implementation involves four functions:\n",
    "- ```simplify_line```\n",
    "- ```make_routh_table```\n",
    "- ```evaluate_table```\n",
    "- ```print_table```"
   ]
  },
  {
   "cell_type": "code",
   "execution_count": 2,
   "metadata": {},
   "outputs": [],
   "source": [
    "'''\n",
    "This function is to simplify one line/row by dividing all its elements \n",
    "with the greatest common divisor. However, before that, we must exclude\n",
    "any element that is zero.\n",
    "'''\n",
    "def simplify_line(line):\n",
    "    l = []\n",
    "    for k in range(len(line)):\n",
    "        if line[k] != 0.0:\n",
    "            l.append(line[k])\n",
    "\n",
    "    return gcd(l)"
   ]
  },
  {
   "cell_type": "code",
   "execution_count": 3,
   "metadata": {},
   "outputs": [],
   "source": [
    "'''\n",
    "This is the core function that generates the RH-table.\n",
    "'''\n",
    "def make_routh_table(sys):\n",
    "    table = []\n",
    "\n",
    "    # convert into fraction, \n",
    "    # take the coefficients of the denominator\n",
    "    f = fraction(sys)\n",
    "    den = Poly(f[1], s)\n",
    "    a = den.all_coeffs()\n",
    "    \n",
    "    norder = len(a) - 1 # system order number\n",
    "    nrow = norder + 1\n",
    "    ncol = round(norder / 2)\n",
    "    if ncol % 2 == 0:\n",
    "        ncol = ncol + 1\n",
    "\n",
    "    table = zeros(nrow, ncol)\n",
    "\n",
    "    # Fill the first two rows\n",
    "    table[0, 0:len(a[0::2])] = [a[0::2]]\n",
    "    table[1, 0:len(a[1::2])] = [a[1::2]]\n",
    "    \n",
    "    for j in range(norder-1):\n",
    "        r = simplify_line(table[j,:])\n",
    "        table[j,:] = table[j,:] / r\n",
    "\n",
    "        if table[j+1,:].is_zero_matrix == False:  # NOT a row of all zeros\n",
    "            if (table[j+1,0]== 0):                # case 1: first column is zero, avoid division by zero\n",
    "                table[j+1,0] = epsilon\n",
    "        elif table[j+1,:].is_zero_matrix == True: # case2: a row of all zeros  \n",
    "            expr = 0.0\n",
    "            for k in range(0,ncol):\n",
    "                expr =  expr + table[j,k]*s**((norder-2)-2*k)\n",
    "\n",
    "            a = Poly(diff(expr,s), s).all_coeffs()[0::2]\n",
    "            table[j+1,0:len(a)] = [a]\n",
    "\n",
    "        for k in range(ncol-1):\n",
    "            A = Matrix([[table[j,0],    table[j,k+1]],\n",
    "                       [table[j+1,0],  table[j+1,k+1]]])\n",
    "            \n",
    "            table[j+2,k] = simplify(-A.det()/A[1,0])\n",
    "        \n",
    "    return table"
   ]
  },
  {
   "cell_type": "code",
   "execution_count": 4,
   "metadata": {},
   "outputs": [],
   "source": [
    "'''\n",
    "This function does not conclude the stability based on the generated Routh table. \n",
    "It simply generates and print the first-column signs which we can use to draw the conclusion.\n",
    "'''\n",
    "def evaluate_table(table):\n",
    "    signs = []\n",
    "    for k in range(len(table[:,0])):\n",
    "        table[k,0] = table[k,0].subs(epsilon, 0.001) \n",
    "        if table[k,0].evalf() < 0:\n",
    "            signs.append('-')\n",
    "        elif table[k,0].evalf() > 0:\n",
    "            signs.append('+')\n",
    "\n",
    "    sp = ''\n",
    "    cnt = 0\n",
    "    for k, s in enumerate(signs):\n",
    "        if (k > 0) and (s != sp):\n",
    "            cnt = cnt + 1\n",
    "        sp = s\n",
    "\n",
    "    print(cnt, 'sign changes.')\n",
    "    \n",
    "    return signs"
   ]
  },
  {
   "cell_type": "code",
   "execution_count": 5,
   "metadata": {},
   "outputs": [],
   "source": [
    "'''\n",
    "This prints the Routh table\n",
    "'''\n",
    "def print_table(table):\n",
    "    mprint(latex(Matrix(table)))"
   ]
  },
  {
   "cell_type": "markdown",
   "metadata": {},
   "source": [
    "## Examples"
   ]
  },
  {
   "cell_type": "markdown",
   "metadata": {},
   "source": [
    "### Example 1\n",
    "\n",
    "$$ \\frac{1}{a_0s^3 + a_1s^2 + a_2s + a_3}$$"
   ]
  },
  {
   "cell_type": "code",
   "execution_count": 6,
   "metadata": {},
   "outputs": [
    {
     "data": {
      "text/latex": [
       "$\\displaystyle \\left[\\begin{matrix}a_{0} & a_{2} & 0\\\\a_{1} & a_{3} & 0\\\\- \\frac{a_{0} a_{3}}{a_{1}} + a_{2} & 0 & 0\\\\a_{3} & 0 & 0\\end{matrix}\\right]$"
      ],
      "text/plain": [
       "<IPython.core.display.Math object>"
      ]
     },
     "metadata": {},
     "output_type": "display_data"
    }
   ],
   "source": [
    "a0, a1, a2, a3 = symbols(\"a0 a1 a2 a3\")\n",
    "table = make_routh_table(1 / (a0*s**3 + a1*s**2 + a2*s + a3))\n",
    "print_table(table)"
   ]
  },
  {
   "cell_type": "markdown",
   "metadata": {},
   "source": [
    "Therefore, to guarantee stabilty:"
   ]
  },
  {
   "cell_type": "code",
   "execution_count": 7,
   "metadata": {},
   "outputs": [
    {
     "data": {
      "text/latex": [
       "$\\displaystyle - \\frac{a_{0} a_{3}}{a_{1}} + a_{2} > 0$"
      ],
      "text/plain": [
       "-a0*a3/a1 + a2 > 0"
      ]
     },
     "execution_count": 7,
     "metadata": {},
     "output_type": "execute_result"
    }
   ],
   "source": [
    "table[2,0]>0"
   ]
  },
  {
   "cell_type": "markdown",
   "metadata": {},
   "source": [
    "### Example 2\n",
    "\n",
    "$$ \\frac{1000}{s^3 + 10s^2 + 31s + 1030}$$"
   ]
  },
  {
   "cell_type": "code",
   "execution_count": 8,
   "metadata": {},
   "outputs": [
    {
     "data": {
      "text/latex": [
       "$\\displaystyle \\left[\\begin{matrix}1 & 31 & 0\\\\1 & 103 & 0\\\\-72 & 0 & 0\\\\103 & 0 & 0\\end{matrix}\\right]$"
      ],
      "text/plain": [
       "<IPython.core.display.Math object>"
      ]
     },
     "metadata": {},
     "output_type": "display_data"
    },
    {
     "name": "stdout",
     "output_type": "stream",
     "text": [
      "2 sign changes.\n"
     ]
    },
    {
     "data": {
      "text/plain": [
       "['+', '+', '-', '+']"
      ]
     },
     "execution_count": 8,
     "metadata": {},
     "output_type": "execute_result"
    }
   ],
   "source": [
    "table = make_routh_table(1000 / (s**3 + 10*s**2 + 31*s + 1030))\n",
    "print_table(table)\n",
    "evaluate_table(table)"
   ]
  },
  {
   "cell_type": "markdown",
   "metadata": {},
   "source": [
    "### Example 3\n",
    "\n",
    "$$G(s)= \\frac{10}{s^5+2s^4+3s^3+6s^2+5s+3}$$"
   ]
  },
  {
   "cell_type": "code",
   "execution_count": 9,
   "metadata": {},
   "outputs": [
    {
     "data": {
      "text/latex": [
       "$\\displaystyle \\left[\\begin{matrix}1 & 3 & 5\\\\2 & 6 & 3\\\\\\epsilon & \\frac{7}{2} & 0\\\\6 - \\frac{7}{\\epsilon} & 3 & 0\\\\\\frac{- 6 \\epsilon \\left(\\epsilon - 7\\right) - 49}{2 \\left(6 \\epsilon - 7\\right)} & 0 & 0\\\\3 & 0 & 0\\end{matrix}\\right]$"
      ],
      "text/plain": [
       "<IPython.core.display.Math object>"
      ]
     },
     "metadata": {},
     "output_type": "display_data"
    },
    {
     "name": "stdout",
     "output_type": "stream",
     "text": [
      "2 sign changes.\n"
     ]
    },
    {
     "data": {
      "text/plain": [
       "['+', '+', '+', '-', '+', '+']"
      ]
     },
     "execution_count": 9,
     "metadata": {},
     "output_type": "execute_result"
    }
   ],
   "source": [
    "table = make_routh_table(10 / (s**5 + 2*s**4 + 3*s**3 + 6*s**2 + 5*s + 3))\n",
    "print_table(table)\n",
    "evaluate_table(table)"
   ]
  },
  {
   "cell_type": "markdown",
   "metadata": {},
   "source": [
    "### Example 4\n",
    "\n",
    "$$ \\frac{128}{s^8 + 3s^7 + 10s^6 + 24s^5 + 48s^4 + 96s^3 + 128s^2 + 192s + 128}$$"
   ]
  },
  {
   "cell_type": "code",
   "execution_count": 10,
   "metadata": {},
   "outputs": [
    {
     "data": {
      "text/latex": [
       "$\\displaystyle \\left[\\begin{matrix}1 & 10 & 48 & 128 & 128\\\\1 & 8 & 32 & 64 & 0\\\\1 & 8 & 32 & 64 & 0\\\\3 & 16 & 32 & 0 & 0\\\\1 & 8 & 24 & 0 & 0\\\\-1 & -5 & 0 & 0 & 0\\\\1 & 8 & 0 & 0 & 0\\\\3 & 0 & 0 & 0 & 0\\\\8 & 0 & 0 & 0 & 0\\end{matrix}\\right]$"
      ],
      "text/plain": [
       "<IPython.core.display.Math object>"
      ]
     },
     "metadata": {},
     "output_type": "display_data"
    },
    {
     "name": "stdout",
     "output_type": "stream",
     "text": [
      "2 sign changes.\n"
     ]
    },
    {
     "data": {
      "text/plain": [
       "['+', '+', '+', '+', '+', '-', '+', '+', '+']"
      ]
     },
     "execution_count": 10,
     "metadata": {},
     "output_type": "execute_result"
    }
   ],
   "source": [
    "table = make_routh_table(128 / (s**8 + 3*s**7 + 10*s**6 + 24*s**5 + 48*s**4 + 96*s**3 + 128*s**2 + 192*s + 128))\n",
    "print_table(table)\n",
    "evaluate_table(table)"
   ]
  },
  {
   "cell_type": "markdown",
   "metadata": {},
   "source": [
    "### Example 5\n",
    "\n",
    "$$ \\frac{k}{s^3 + 10s^2 + 31s + 30+k}$$\n",
    "\n",
    "Find the largest $k$ that does not cause the closed-loop system unstable."
   ]
  },
  {
   "cell_type": "code",
   "execution_count": 11,
   "metadata": {},
   "outputs": [
    {
     "data": {
      "text/latex": [
       "$\\displaystyle \\left[\\begin{matrix}1 & 31 & 0\\\\10 & k + 30 & 0\\\\28 - \\frac{k}{10} & 0 & 0\\\\k + 30 & 0 & 0\\end{matrix}\\right]$"
      ],
      "text/plain": [
       "<IPython.core.display.Math object>"
      ]
     },
     "metadata": {},
     "output_type": "display_data"
    }
   ],
   "source": [
    "table = make_routh_table(k / (s**3 + 10*s**2 + 31*s + 30+k))\n",
    "print_table(table)"
   ]
  },
  {
   "cell_type": "markdown",
   "metadata": {},
   "source": [
    "Our main interest lies in row #3, column #1: it must be a positive number."
   ]
  },
  {
   "cell_type": "code",
   "execution_count": 12,
   "metadata": {},
   "outputs": [
    {
     "data": {
      "text/latex": [
       "$\\displaystyle 28 - \\frac{k}{10}$"
      ],
      "text/plain": [
       "28 - k/10"
      ]
     },
     "execution_count": 12,
     "metadata": {},
     "output_type": "execute_result"
    }
   ],
   "source": [
    "table[2,0]"
   ]
  },
  {
   "cell_type": "markdown",
   "metadata": {},
   "source": [
    "Hence, we create the inequality and solve for $k$:"
   ]
  },
  {
   "cell_type": "code",
   "execution_count": 14,
   "metadata": {},
   "outputs": [
    {
     "data": {
      "text/latex": [
       "$\\displaystyle -\\infty < k \\wedge k < 280$"
      ],
      "text/plain": [
       "(-oo < k) & (k < 280)"
      ]
     },
     "execution_count": 14,
     "metadata": {},
     "output_type": "execute_result"
    }
   ],
   "source": [
    "reduce_inequalities(table[2,0] > 0, k)"
   ]
  },
  {
   "cell_type": "markdown",
   "metadata": {},
   "source": [
    "## Good readings\n",
    "* Modern Control Engineering (5th-edition), Chapter 5, by K. Ogata\n",
    "* [Elementary proof of the Routh-Hurwitz test, by Gjerrit Meinsma](https://doi.org/10.1016/0167-6911(94)00089-E)\n"
   ]
  }
 ],
 "metadata": {
  "kernelspec": {
   "display_name": "Python 3 (ipykernel)",
   "language": "python",
   "name": "python3"
  },
  "language_info": {
   "codemirror_mode": {
    "name": "ipython",
    "version": 3
   },
   "file_extension": ".py",
   "mimetype": "text/x-python",
   "name": "python",
   "nbconvert_exporter": "python",
   "pygments_lexer": "ipython3",
   "version": "3.12.3"
  }
 },
 "nbformat": 4,
 "nbformat_minor": 4
}

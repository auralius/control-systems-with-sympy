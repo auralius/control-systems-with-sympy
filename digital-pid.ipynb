{
 "cells": [
  {
   "cell_type": "markdown",
   "id": "5172e3fc-1c19-4bae-b3b2-2bd4e1de4be5",
   "metadata": {},
   "source": [
    "# Digital PID Control - Part 1"
   ]
  },
  {
   "cell_type": "markdown",
   "id": "2756afde-43d2-4c43-a1ee-22f335822ba9",
   "metadata": {},
   "source": [
    "## Required imports"
   ]
  },
  {
   "cell_type": "code",
   "execution_count": 31,
   "id": "ad9bdd2e-5939-45d4-b13a-b48a606a71f1",
   "metadata": {},
   "outputs": [],
   "source": [
    "from IPython.core.display import HTML\n",
    "from sympy import *\n",
    "from mathprint import *"
   ]
  },
  {
   "cell_type": "markdown",
   "id": "8ff04e43-b694-498f-bcb2-cef1ceb04e3b",
   "metadata": {},
   "source": [
    "## Define symbols"
   ]
  },
  {
   "cell_type": "code",
   "execution_count": 32,
   "id": "37a338f7-7248-47ab-a0a2-20576c90e61f",
   "metadata": {},
   "outputs": [],
   "source": [
    "Kp, Ki, Kd = symbols('K_p K_i K_d', positive=True)\n",
    "\n",
    "Ts, N = symbols('T_s N', positive=True)\n",
    "s = symbols('s', complex=True)\n",
    "z = symbols('z')\n",
    "\n",
    "e, u = symbols('e u')\n",
    "e0, e1, e2 = symbols('e_k e_{k-1} e_{k-2}')\n",
    "u0, u1, u2 = symbols('u_k u_{k-1} u_{k-2}')"
   ]
  },
  {
   "cell_type": "markdown",
   "id": "58e98ced-f94f-4835-b81e-cae9b6a6beec",
   "metadata": {},
   "source": [
    "## Continuous-time PID"
   ]
  },
  {
   "cell_type": "markdown",
   "id": "27a73aa0-277d-43a3-b7b0-8c20ec39b87a",
   "metadata": {},
   "source": [
    "Let us start with defining our PID control in a continuous form. Here, we are going to follow **MATLAB Simulink** implementation. In Simulink, the derivative term is a first-order low-pass filter.\n",
    "\n",
    "$$ U(s) = \\Bigg( K_p + K_i \\underbrace{\\boxed{\\frac{1}{s}}}_{\\text{integrator}} + \\underbrace{\\boxed{s}}_{\\text{differentiator}} K_d \\Bigg) E(s) $$\n",
    "\n",
    "where:\n",
    "* $K_p$ is the proportional gain\n",
    "* $K_i$ is the integral gain\n",
    "* $K_d$ is the derivative gain\n",
    "* $e(t)$ or $E(s)$ is the input to the controller, which is the error between the target and the actual output of the system\n",
    "* $u(t)$ or $U(s)$ is the computed control signal that will be sent to the system"
   ]
  },
  {
   "cell_type": "markdown",
   "id": "2ccc572d-26ee-45f2-8cc4-802c51bf8d76",
   "metadata": {},
   "source": [
    "### Discrete-time PID"
   ]
  },
  {
   "cell_type": "markdown",
   "id": "547d2810-6803-42fb-a1e5-c095e2965d3e",
   "metadata": {},
   "source": [
    "Let us use the buliear transform method for both the integral term and the derivative term.\n",
    "\n",
    "$$ \\frac{1}{s} \\longleftarrow \\frac{T_s}{2} \\frac{z+1}{z-1} $$"
   ]
  },
  {
   "cell_type": "code",
   "execution_count": 33,
   "id": "b3c79c4d-e8a3-47d9-8c67-18a8d77b3f7c",
   "metadata": {
    "scrolled": true
   },
   "outputs": [
    {
     "data": {
      "text/latex": [
       "$\\displaystyle G_{PID}=K_{d} s + \\frac{K_{i}}{s} + K_{p}$"
      ],
      "text/plain": [
       "<IPython.core.display.Math object>"
      ]
     },
     "metadata": {},
     "output_type": "display_data"
    },
    {
     "data": {
      "text/latex": [
       "$\\displaystyle G_{PID}=\\frac{2 K_{d} \\left(z - 1\\right)}{T_{s} \\left(z + 1\\right)} + \\frac{K_{i} T_{s} \\left(z + 1\\right)}{2 \\left(z - 1\\right)} + K_{p}$"
      ],
      "text/plain": [
       "<IPython.core.display.Math object>"
      ]
     },
     "metadata": {},
     "output_type": "display_data"
    },
    {
     "data": {
      "text/latex": [
       "$\\displaystyle \\boxed{G_{PID}=\\frac{4 K_{d} + K_{i} T_{s}^{2} - 2 K_{p} T_{s} + z^{2} \\left(4 K_{d} + K_{i} T_{s}^{2} + 2 K_{p} T_{s}\\right) + z \\left(- 8 K_{d} + 2 K_{i} T_{s}^{2}\\right)}{2 T_{s} \\left(z^{2} - 1\\right)}}$"
      ],
      "text/plain": [
       "<IPython.core.display.Math object>"
      ]
     },
     "metadata": {},
     "output_type": "display_data"
    }
   ],
   "source": [
    "Gpid = Kp + Ki/s + Kd*s     # PID-control\n",
    "mprint(\"G_{PID}=\", latex(Gpid))\n",
    "\n",
    "Gpid = Gpid.subs(1/s, Ts/2 * (z+1)/(z-1) )\n",
    "mprint(\"G_{PID}=\", latex(Gpid))\n",
    "\n",
    "Gpid = factor(Gpid)\n",
    "\n",
    "Gpid = collect(numer(Gpid), [z**2, z]) /  collect(expand(denom(Gpid)), [2*Ts])\n",
    "mprintb(\"G_{PID}=\", latex(Gpid))"
   ]
  },
  {
   "cell_type": "code",
   "execution_count": 34,
   "id": "e68ceb73-9d99-47bc-9536-2853ca29ff5a",
   "metadata": {},
   "outputs": [
    {
     "data": {
      "text/latex": [
       "$\\displaystyle \\small u = \\frac{e \\left(4 K_{d} + K_{i} T_{s}^{2} - 2 K_{p} T_{s} + z^{2} \\left(4 K_{d} + K_{i} T_{s}^{2} + 2 K_{p} T_{s}\\right) + z \\left(- 8 K_{d} + 2 K_{i} T_{s}^{2}\\right)\\right)}{2 T_{s} \\left(z^{2} - 1\\right)}$"
      ],
      "text/plain": [
       "<IPython.core.display.Math object>"
      ]
     },
     "metadata": {},
     "output_type": "display_data"
    },
    {
     "data": {
      "text/latex": [
       "$\\displaystyle \\small e \\left(4 K_{d} + K_{i} T_{s}^{2} - 2 K_{p} T_{s} + z^{2} \\left(4 K_{d} + K_{i} T_{s}^{2} + 2 K_{p} T_{s}\\right) + z \\left(- 8 K_{d} + 2 K_{i} T_{s}^{2}\\right)\\right) = 2 T_{s} u \\left(z^{2} - 1\\right)$"
      ],
      "text/plain": [
       "<IPython.core.display.Math object>"
      ]
     },
     "metadata": {},
     "output_type": "display_data"
    },
    {
     "data": {
      "text/latex": [
       "$\\displaystyle \\small \\frac{2 K_{d} e}{T_{s}} - \\frac{4 K_{d} e}{T_{s} z} + \\frac{2 K_{d} e}{T_{s} z^{2}} + \\frac{K_{i} T_{s} e}{2} + \\frac{K_{i} T_{s} e}{z} + \\frac{K_{i} T_{s} e}{2 z^{2}} + K_{p} e - \\frac{K_{p} e}{z^{2}} = u - \\frac{u}{z^{2}}$"
      ],
      "text/plain": [
       "<IPython.core.display.Math object>"
      ]
     },
     "metadata": {},
     "output_type": "display_data"
    },
    {
     "data": {
      "text/latex": [
       "$\\displaystyle \\small \\frac{2 K_{d} e_{k}}{T_{s}} - \\frac{4 K_{d} e_{k-1}}{T_{s}} + \\frac{2 K_{d} e_{k-2}}{T_{s}} + \\frac{K_{i} T_{s} e_{k}}{2} + K_{i} T_{s} e_{k-1} + \\frac{K_{i} T_{s} e_{k-2}}{2} + K_{p} e_{k} - K_{p} e_{k-2} = u_{k} - u_{k-2}$"
      ],
      "text/plain": [
       "<IPython.core.display.Math object>"
      ]
     },
     "metadata": {},
     "output_type": "display_data"
    },
    {
     "data": {
      "text/latex": [
       "$\\displaystyle \\boxed{\\small u_{k} - u_{k-2} = e_{k} \\left(\\frac{2 K_{d}}{T_{s}} + \\frac{K_{i} T_{s}}{2} + K_{p}\\right) + e_{k-1} \\left(- \\frac{4 K_{d}}{T_{s}} + K_{i} T_{s}\\right) + e_{k-2} \\left(\\frac{2 K_{d}}{T_{s}} + \\frac{K_{i} T_{s}}{2} - K_{p}\\right)}$"
      ],
      "text/plain": [
       "<IPython.core.display.Math object>"
      ]
     },
     "metadata": {},
     "output_type": "display_data"
    }
   ],
   "source": [
    "eq = Eq(u, Gpid * e)\n",
    "mprint(\"\\\\small \", latex(eq))\n",
    "\n",
    "eq = Eq(numer(eq.rhs), eq.lhs * denom(eq.rhs))\n",
    "mprint(\"\\\\small \", latex(eq))\n",
    "\n",
    "eq = expand(Eq(eq.lhs/z**2/Ts/2, eq.rhs/z**2/Ts/2))\n",
    "mprint(\"\\\\small \", latex(eq))\n",
    "\n",
    "eq = eq.subs(e/z**2, e2).subs(e/z, e1).subs(e, e0).subs(u/z**2, u2).subs(u/z, u1).subs(u, u0)\n",
    "mprint(\"\\\\small \", latex(eq))\n",
    "\n",
    "eq_ = Eq(collect(eq.rhs, [u0, u1, u2]), collect(expand(eq.lhs), [e0, e1, e2]))\n",
    "mprintb(\"\\\\small \", latex(eq_))"
   ]
  },
  {
   "cell_type": "markdown",
   "id": "227f6f99-c2e3-477e-80f2-8241ca7ace15",
   "metadata": {
    "editable": true,
    "slideshow": {
     "slide_type": ""
    },
    "tags": []
   },
   "source": [
    "## Continuous-time \"PID with derivative filter\""
   ]
  },
  {
   "cell_type": "markdown",
   "id": "d6d406d9-4eb2-4cb2-879a-f415742eac9e",
   "metadata": {},
   "source": [
    "![](./images/p19.png)"
   ]
  },
  {
   "cell_type": "markdown",
   "id": "00507c54-0059-428e-9794-71633aa4c161",
   "metadata": {},
   "source": [
    "Let us start with defining our PID control in a continuous form. Here, we are going to follow **MATLAB Simulink** implementation. In Simulink, the derivative term is a first-order low-pass filter.\n",
    "\n",
    "$$ U(s) = \\Bigg( K_p + K_i \\underbrace{\\boxed{\\frac{1}{s}}}_{\\text{integrator}} + K_d \\frac{N}{1+N \\underbrace{\\boxed{\\frac{1}{s}}}_{\\text{filter}}} \\Bigg) E(s) $$\n",
    "\n",
    "* where:\n",
    "* $K_p$ is the proportional gain\n",
    "* $K_i$ is the integral gain\n",
    "* $K_d$ is the derivative gain\n",
    "* $N$ is the filter coefficient\n",
    "* $e(t)$ or $E(s)$ is the input to the controller, which is the error between the target and the actual output of the system\n",
    "* $u(t)$ or $U(s)$ is the computed control signal that will be sent to the system"
   ]
  },
  {
   "cell_type": "markdown",
   "id": "e770d32f-b647-4361-bdc1-e9ea25917452",
   "metadata": {},
   "source": [
    "As for the discretization methods, we will use the **tarpezoidal (bilinear transform or Tustin) metod**. From this point onwards, let us introduce $T_s$ as the sampling period of the discrete-time PID control."
   ]
  },
  {
   "cell_type": "markdown",
   "id": "b888d089-fedb-4a6a-bc50-a40f95d51c55",
   "metadata": {},
   "source": [
    "### Discrete-time \"PID with derivative filter\""
   ]
  },
  {
   "cell_type": "markdown",
   "id": "d37b588f-95a1-406f-9f6e-58afd0e551ba",
   "metadata": {},
   "source": [
    "Let us use the buliear transform method for both the integral term and the filter.\n",
    "\n",
    "$$ \\frac{1}{s} \\longleftarrow \\frac{T_s}{2} \\frac{z+1}{z-1} $$"
   ]
  },
  {
   "cell_type": "code",
   "execution_count": 35,
   "id": "05ade8c8-3f3b-423f-a647-ca7182a28f72",
   "metadata": {
    "editable": true,
    "slideshow": {
     "slide_type": ""
    },
    "tags": [
     "full-width"
    ]
   },
   "outputs": [
    {
     "data": {
      "text/latex": [
       "$\\displaystyle G_{PID}=\\frac{K_{d} N}{\\frac{N}{s} + 1} + \\frac{K_{i}}{s} + K_{p}$"
      ],
      "text/plain": [
       "<IPython.core.display.Math object>"
      ]
     },
     "metadata": {},
     "output_type": "display_data"
    },
    {
     "data": {
      "text/latex": [
       "$\\displaystyle G_{PID}=\\frac{K_{d} N}{\\frac{N T_{s} \\left(z + 1\\right)}{2 \\left(z - 1\\right)} + 1} + \\frac{K_{i} T_{s} \\left(z + 1\\right)}{2 \\left(z - 1\\right)} + K_{p}$"
      ],
      "text/plain": [
       "<IPython.core.display.Math object>"
      ]
     },
     "metadata": {},
     "output_type": "display_data"
    },
    {
     "data": {
      "text/latex": [
       "$\\displaystyle \\boxed{\\small G_{PID}=\\frac{4 K_{d} N + K_{i} N T_{s}^{2} - 2 K_{i} T_{s} - 2 K_{p} N T_{s} + 4 K_{p} + z^{2} \\left(4 K_{d} N + K_{i} N T_{s}^{2} + 2 K_{i} T_{s} + 2 K_{p} N T_{s} + 4 K_{p}\\right) + z \\left(- 8 K_{d} N + 2 K_{i} N T_{s}^{2} - 8 K_{p}\\right)}{- 2 N T_{s} + z^{2} \\left(2 N T_{s} + 4\\right) - 8 z + 4}}$"
      ],
      "text/plain": [
       "<IPython.core.display.Math object>"
      ]
     },
     "metadata": {},
     "output_type": "display_data"
    }
   ],
   "source": [
    "Gpid = Kp + Ki/s + Kd*N/(1+N/s)     # PID-control\n",
    "mprint(\"G_{PID}=\", latex(Gpid))\n",
    "\n",
    "Gpid = Gpid.subs(1/s, Ts/2 * (z+1)/(z-1) )\n",
    "mprint(\"G_{PID}=\", latex(Gpid))\n",
    "\n",
    "Gpid = factor(Gpid)\n",
    "\n",
    "Gpid = collect(numer(Gpid), [z**2, z]) /  collect(expand(denom(Gpid)), [z**2, z])\n",
    "mprintb(\"\\\\small \", \"G_{PID}=\", latex(Gpid))"
   ]
  },
  {
   "cell_type": "markdown",
   "id": "38d3b1e6-14b8-459d-b945-cca8aaca4684",
   "metadata": {},
   "source": [
    "Now, let us apply the input to the output and turn the transfer function into algorithm (or difference equation)."
   ]
  },
  {
   "cell_type": "code",
   "execution_count": 36,
   "id": "ab1a79dc-b86f-4fc3-8400-67dfd2944eca",
   "metadata": {
    "editable": true,
    "slideshow": {
     "slide_type": ""
    },
    "tags": [
     "full-width"
    ]
   },
   "outputs": [
    {
     "data": {
      "text/latex": [
       "$\\displaystyle \\small u = \\frac{e \\left(4 K_{d} N + K_{i} N T_{s}^{2} - 2 K_{i} T_{s} - 2 K_{p} N T_{s} + 4 K_{p} + z^{2} \\left(4 K_{d} N + K_{i} N T_{s}^{2} + 2 K_{i} T_{s} + 2 K_{p} N T_{s} + 4 K_{p}\\right) + z \\left(- 8 K_{d} N + 2 K_{i} N T_{s}^{2} - 8 K_{p}\\right)\\right)}{- 2 N T_{s} + z^{2} \\left(2 N T_{s} + 4\\right) - 8 z + 4}$"
      ],
      "text/plain": [
       "<IPython.core.display.Math object>"
      ]
     },
     "metadata": {},
     "output_type": "display_data"
    },
    {
     "data": {
      "text/latex": [
       "$\\displaystyle \\small e \\left(4 K_{d} N + K_{i} N T_{s}^{2} - 2 K_{i} T_{s} - 2 K_{p} N T_{s} + 4 K_{p} + z^{2} \\left(4 K_{d} N + K_{i} N T_{s}^{2} + 2 K_{i} T_{s} + 2 K_{p} N T_{s} + 4 K_{p}\\right) + z \\left(- 8 K_{d} N + 2 K_{i} N T_{s}^{2} - 8 K_{p}\\right)\\right) = u \\left(- 2 N T_{s} + z^{2} \\left(2 N T_{s} + 4\\right) - 8 z + 4\\right)$"
      ],
      "text/plain": [
       "<IPython.core.display.Math object>"
      ]
     },
     "metadata": {},
     "output_type": "display_data"
    },
    {
     "data": {
      "text/latex": [
       "$\\displaystyle \\small \\frac{K_{d} e}{2 T_{s}} - \\frac{K_{d} e}{T_{s} z} + \\frac{K_{d} e}{2 T_{s} z^{2}} + \\frac{K_{i} T_{s} e}{8} + \\frac{K_{i} T_{s} e}{4 z} + \\frac{K_{i} T_{s} e}{8 z^{2}} + \\frac{K_{i} e}{4 N} - \\frac{K_{i} e}{4 N z^{2}} + \\frac{K_{p} e}{4} - \\frac{K_{p} e}{4 z^{2}} + \\frac{K_{p} e}{2 N T_{s}} - \\frac{K_{p} e}{N T_{s} z} + \\frac{K_{p} e}{2 N T_{s} z^{2}} = \\frac{u}{4} - \\frac{u}{4 z^{2}} + \\frac{u}{2 N T_{s}} - \\frac{u}{N T_{s} z} + \\frac{u}{2 N T_{s} z^{2}}$"
      ],
      "text/plain": [
       "<IPython.core.display.Math object>"
      ]
     },
     "metadata": {},
     "output_type": "display_data"
    },
    {
     "data": {
      "text/latex": [
       "$\\displaystyle \\small \\frac{K_{d} e_{k}}{2 T_{s}} - \\frac{K_{d} e_{k-1}}{T_{s}} + \\frac{K_{d} e_{k-2}}{2 T_{s}} + \\frac{K_{i} T_{s} e_{k}}{8} + \\frac{K_{i} T_{s} e_{k-1}}{4} + \\frac{K_{i} T_{s} e_{k-2}}{8} + \\frac{K_{i} e_{k}}{4 N} - \\frac{K_{i} e_{k-2}}{4 N} + \\frac{K_{p} e_{k}}{4} - \\frac{K_{p} e_{k-2}}{4} + \\frac{K_{p} e_{k}}{2 N T_{s}} - \\frac{K_{p} e_{k-1}}{N T_{s}} + \\frac{K_{p} e_{k-2}}{2 N T_{s}} = \\frac{u_{k}}{4} - \\frac{u_{k-2}}{4} + \\frac{u_{k}}{2 N T_{s}} - \\frac{u_{k-1}}{N T_{s}} + \\frac{u_{k-2}}{2 N T_{s}}$"
      ],
      "text/plain": [
       "<IPython.core.display.Math object>"
      ]
     },
     "metadata": {},
     "output_type": "display_data"
    },
    {
     "data": {
      "text/latex": [
       "$\\displaystyle \\boxed{\\small u_{k} \\left(\\frac{1}{4} + \\frac{1}{2 N T_{s}}\\right) + u_{k-2} \\left(- \\frac{1}{4} + \\frac{1}{2 N T_{s}}\\right) - \\frac{u_{k-1}}{N T_{s}} = e_{k} \\left(\\frac{K_{d}}{2 T_{s}} + \\frac{K_{i} T_{s}}{8} + \\frac{K_{i}}{4 N} + \\frac{K_{p}}{4} + \\frac{K_{p}}{2 N T_{s}}\\right) + e_{k-1} \\left(- \\frac{K_{d}}{T_{s}} + \\frac{K_{i} T_{s}}{4} - \\frac{K_{p}}{N T_{s}}\\right) + e_{k-2} \\left(\\frac{K_{d}}{2 T_{s}} + \\frac{K_{i} T_{s}}{8} - \\frac{K_{i}}{4 N} - \\frac{K_{p}}{4} + \\frac{K_{p}}{2 N T_{s}}\\right)}$"
      ],
      "text/plain": [
       "<IPython.core.display.Math object>"
      ]
     },
     "metadata": {},
     "output_type": "display_data"
    }
   ],
   "source": [
    "eq = Eq(u, Gpid * e)\n",
    "mprint(\"\\\\small \", latex(eq))\n",
    "\n",
    "eq = Eq(numer(eq.rhs), eq.lhs * denom(eq.rhs))\n",
    "mprint(\"\\\\small \", latex(eq))\n",
    "\n",
    "eq = expand(Eq(eq.lhs/z**2/Ts/N/8, eq.rhs/z**2/Ts/N/8))\n",
    "mprint(\"\\\\small \", latex(eq))\n",
    "\n",
    "eq = eq.subs(e/z**2, e2).subs(e/z, e1).subs(e, e0).subs(u/z**2, u2).subs(u/z, u1).subs(u, u0)\n",
    "mprint(\"\\\\small \", latex(eq))\n",
    "\n",
    "eq_ = Eq(collect(eq.rhs, [u0, u1, u2]), collect(expand(eq.lhs), [e0, e1, e2]))\n",
    "mprintb(\"\\\\small \", latex(eq_))"
   ]
  },
  {
   "cell_type": "markdown",
   "id": "c5686967-7520-44e8-80fd-945776e8e14d",
   "metadata": {},
   "source": [
    "#### Comparison with Simulink\n"
   ]
  },
  {
   "cell_type": "markdown",
   "id": "04f9de16-d45f-4f11-a918-3ec2989f0f49",
   "metadata": {
    "editable": true,
    "slideshow": {
     "slide_type": ""
    },
    "tags": []
   },
   "source": [
    "The following figure will be our general PID subsytem, where we can implement the discrete PID algorithm inside the MATLAB function block.\n",
    "\n",
    "![](./images/p14.png)\n",
    "\n",
    "The MATLAB function below has already been equipped with an **integral windup prevention (clamping method)**:\n",
    "\n",
    "```octave\n",
    "function [u0, u] = PID(u1, u2, e0, e1, e2, params)\n",
    "\n",
    "Kp = params(1);\n",
    "Ki = params(2);  \n",
    "Kd = params(3); \n",
    "N  = params(4); \n",
    "UB = params(5); % lower-bound value for the saturated output\n",
    "LB = params(6); % upper-bound value for the saturated output\n",
    "\n",
    "Ts  = params(7);\n",
    "NTs = N * Ts;\n",
    "\n",
    "% PID\n",
    "E0 = Kd/(2*Ts) + Ki*Ts/8 + Ki/(4*N) + Kp/4 + Kp/(2*NTs);\n",
    "E1 = -Kd/Ts + Ki*Ts/4 - Kp/NTs;\n",
    "E2 = Kd/(2*Ts) + Ki*Ts/8 - Ki/(4*N) - Kp/4 + Kp/(2*NTs);\n",
    "lhs = (-1/NTs) * u1 + (-1/4 + 1/(2*NTs))*u2;\n",
    "rhs = E0 * e0 + E1 * e1 + E2 * e2;\n",
    "u_pid = (rhs - lhs) / (1/4 + 1/(2*NTs));\n",
    "\n",
    "% With disabled integrator, Ki = 0\n",
    "E0 = Kd/(2*Ts) + Kp/4 + Kp/(2*NTs);\n",
    "E1 = -Kd/Ts - Kp/NTs;\n",
    "E2 = Kd/(2*Ts) - Kp/4 + Kp/(2*NTs);\n",
    "lhs = (-1/NTs) * u1 + (-1/4 + 1/(2*NTs))*u2;\n",
    "rhs = E0 * e0 + E1 * e1 + E2 * e2;\n",
    "u_pd = (rhs - lhs) / (1/4 + 1/(2*NTs));\n",
    "\n",
    "if u_pid > UB\n",
    "    u  = UB;\n",
    "    u0 = u_pd;\n",
    "elseif u_pid < LB\n",
    "    u  = LB;\n",
    "    u0 = u_pd;\n",
    "else\n",
    "    u  = u_pid;\n",
    "    u0 = u_pid;\n",
    "end\n",
    "```"
   ]
  },
  {
   "cell_type": "markdown",
   "id": "ce3b7d15-d149-494b-be1b-3cb0b88a7a91",
   "metadata": {
    "editable": true,
    "slideshow": {
     "slide_type": ""
    },
    "tags": []
   },
   "source": [
    "For testing, we will use the following Simulink program:\n",
    "\n",
    "![](./images/p15.png)\n",
    "\n",
    "As shown in the figure, as our plant, we use a first order system: $\\frac{5/255}{2s+1}$. Identical control parameters are used for the testing.\n",
    "\n",
    "The result is as follows:\n",
    "\n",
    "![](./images/p16.png)\n"
   ]
  },
  {
   "cell_type": "markdown",
   "id": "bcb72a6d-9933-419f-b393-58becb441950",
   "metadata": {},
   "source": [
    "## Downloads\n",
    "\n",
    "* [Simulink file for bilinear PID](https://www.dropbox.com/scl/fi/469bgqh589eacz7lbrthq/mypid2.slx?rlkey=1gsb4naa980vuuohs0og4l9sx&dl=0)\n",
    "\n",
    "MATLAB version: R2024b\n"
   ]
  }
 ],
 "metadata": {
  "kernelspec": {
   "display_name": "ipykernel 3.12.4",
   "language": "python",
   "name": "py.3.12.4"
  },
  "language_info": {
   "codemirror_mode": {
    "name": "ipython",
    "version": 3
   },
   "file_extension": ".py",
   "mimetype": "text/x-python",
   "name": "python",
   "nbconvert_exporter": "python",
   "pygments_lexer": "ipython3",
   "version": "3.12.3"
  }
 },
 "nbformat": 4,
 "nbformat_minor": 5
}

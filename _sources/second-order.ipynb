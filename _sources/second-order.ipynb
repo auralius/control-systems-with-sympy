{
 "cells": [
  {
   "cell_type": "markdown",
   "id": "f810deee-4f0c-4e51-8f14-06e88fcdfbe3",
   "metadata": {},
   "source": [
    "# Second-Order System"
   ]
  },
  {
   "cell_type": "markdown",
   "id": "5c55ba98-8406-418f-bbbc-a5b4203f662c",
   "metadata": {},
   "source": [
    "## Required imports "
   ]
  },
  {
   "cell_type": "code",
   "execution_count": 1,
   "id": "5ba8b929-d90b-4ccc-b4f9-b529509c9a03",
   "metadata": {},
   "outputs": [],
   "source": [
    "from IPython.core.display import HTML\n",
    "import numpy as np\n",
    "\n",
    "import matplotlib.pyplot as plt\n",
    "plt.rcParams.update({\n",
    "    \"text.usetex\": True,\n",
    "    \"font.family\": \"Helvetica\",\n",
    "    \"font.size\": 10,\n",
    "})\n",
    "\n",
    "from sympy import *\n",
    "from sympy.plotting import plot\n",
    "\n",
    "from mathprint import *"
   ]
  },
  {
   "cell_type": "markdown",
   "id": "aa8d2753-12e1-4dc5-8e6c-c3abdea5d332",
   "metadata": {},
   "source": [
    "## Preparations"
   ]
  },
  {
   "cell_type": "markdown",
   "id": "29ac52c8-0ab3-41a9-94c1-6ead39c0a15f",
   "metadata": {},
   "source": [
    "Define variables that we are going to use repetitively:\n",
    "$s, t, \\tau$.\n",
    "We also need to define specific prpoperties of the variables."
   ]
  },
  {
   "cell_type": "code",
   "execution_count": 2,
   "id": "1a9a7573-13df-4d9f-ae9e-a35b3e9a0ff9",
   "metadata": {},
   "outputs": [],
   "source": [
    "t   = symbols('t', real=True, positive=True)\n",
    "s   = symbols('s', complex=True)\n",
    "tau = symbols('tau', real=True, positive=True)\n",
    "omega_n = symbols('omega_n', real=True, positive=True)\n",
    "zeta = symbols('zeta', real=True, positive=True)"
   ]
  },
  {
   "cell_type": "markdown",
   "id": "035207ed-a76d-4fb9-94a9-111b8e01e0b1",
   "metadata": {},
   "source": [
    "The original laplace transformation functions are a little too long. We will simplify the laplace and the inverse laplace transformation functions, as follows.\n",
    "*  ```laplace_transform(f, t, s, noconds=True)``` as ```laplace(f)```\n",
    "*  ```inverse_laplace_transform(F, s, t)``` as ```ilapalce(F)```"
   ]
  },
  {
   "cell_type": "code",
   "execution_count": 3,
   "id": "71dbed6a-d15a-4f08-8e82-1215d17b5530",
   "metadata": {},
   "outputs": [],
   "source": [
    "def laplace(f):\n",
    "    F = laplace_transform(f, t, s, noconds=True)\n",
    "    return F\n",
    "\n",
    "def ilaplace(F):\n",
    "    f = inverse_laplace_transform(F, s, t)\n",
    "    return f"
   ]
  },
  {
   "cell_type": "markdown",
   "id": "daa68d75-fbe5-4091-8256-e7886e72286e",
   "metadata": {},
   "source": [
    "## Second-Order System Equation"
   ]
  },
  {
   "cell_type": "markdown",
   "id": "2ff6f5e0-8555-4f55-a794-d23c80b1399e",
   "metadata": {},
   "source": [
    "A second-order system: \n",
    "\n",
    "$$ G(s)=\\frac{C(s)}{R(s)} = \\frac{ \\omega_n^2 } { s^2+2 \\zeta \\omega_n s + \\omega_n^2 } $$\n",
    "\n",
    "Here $R(s)$ and $C(s)$ are the input and output functions in $s$-domain, respectively. In time-domain, they become $r(t)$ and $c(t)$, respectively. We have two parameters:\n",
    "* natural frequency at which system: $\\omega_n$\n",
    "* damping ratio is a system: $\\zeta$"
   ]
  },
  {
   "cell_type": "code",
   "execution_count": 4,
   "id": "e30cfb8f-a59c-434e-89a5-53711c2713e0",
   "metadata": {},
   "outputs": [
    {
     "data": {
      "text/latex": [
       "$\\displaystyle G=\\frac{\\omega_{n}^{2}}{\\omega_{n}^{2} + 2 \\omega_{n} s \\zeta + s^{2}}$"
      ],
      "text/plain": [
       "<IPython.core.display.Math object>"
      ]
     },
     "metadata": {},
     "output_type": "display_data"
    }
   ],
   "source": [
    "G = omega_n**2 / (s**2 + 2*zeta*omega_n*s + omega_n**2)\n",
    "mprint(\"G=\", latex(G))"
   ]
  },
  {
   "cell_type": "markdown",
   "id": "c8588e15-abd2-4412-b3ae-99792731fd1a",
   "metadata": {},
   "source": [
    "## Responses to a Unit-Step Input"
   ]
  },
  {
   "cell_type": "markdown",
   "id": "b87cc655-c2fc-4043-ac0a-e5eb2bf132d4",
   "metadata": {},
   "source": [
    "What we do here:\n",
    "* define a step function as the input function"
   ]
  },
  {
   "cell_type": "code",
   "execution_count": 5,
   "id": "2480acc2-afb8-46bb-95b2-3f6bbefadeae",
   "metadata": {},
   "outputs": [
    {
     "data": {
      "text/latex": [
       "$\\displaystyle r(t)=1$"
      ],
      "text/plain": [
       "<IPython.core.display.Math object>"
      ]
     },
     "metadata": {},
     "output_type": "display_data"
    }
   ],
   "source": [
    "r = Heaviside(t)\n",
    "mprint('r(t)=', latex(r))"
   ]
  },
  {
   "cell_type": "markdown",
   "id": "459042d9-5108-4733-9784-8f81cba5d1e2",
   "metadata": {},
   "source": [
    "* compute the Laplace formof the input function:"
   ]
  },
  {
   "cell_type": "code",
   "execution_count": 6,
   "id": "93dfd74e-a53e-4376-aeaa-079eac6e3f5d",
   "metadata": {},
   "outputs": [
    {
     "data": {
      "text/latex": [
       "$\\displaystyle R(s)=\\frac{1}{s}$"
      ],
      "text/plain": [
       "<IPython.core.display.Math object>"
      ]
     },
     "metadata": {},
     "output_type": "display_data"
    }
   ],
   "source": [
    "R = laplace(r)\n",
    "mprint('R(s)=', latex(R))"
   ]
  },
  {
   "cell_type": "markdown",
   "id": "2ee00392-4b59-4883-b8af-fcf8aca1f18a",
   "metadata": {},
   "source": [
    "* apply the input to the system, obtain the output"
   ]
  },
  {
   "cell_type": "code",
   "execution_count": 7,
   "id": "8ce379f9-a920-4ea4-90e1-8668995e7258",
   "metadata": {},
   "outputs": [
    {
     "data": {
      "text/latex": [
       "$\\displaystyle C(s)=\\frac{\\omega_{n}^{2}}{s \\left(\\omega_{n}^{2} + 2 \\omega_{n} s \\zeta + s^{2}\\right)}$"
      ],
      "text/plain": [
       "<IPython.core.display.Math object>"
      ]
     },
     "metadata": {},
     "output_type": "display_data"
    }
   ],
   "source": [
    "C = G*R\n",
    "mprint('C(s)=', latex(C))"
   ]
  },
  {
   "cell_type": "markdown",
   "id": "e0e63baa-76ea-4e89-af79-51f4b63f7636",
   "metadata": {},
   "source": [
    "* compute the Laplace inverse of the output"
   ]
  },
  {
   "cell_type": "code",
   "execution_count": 8,
   "id": "7ca25397-95d3-4614-a434-fe9f91a009fb",
   "metadata": {},
   "outputs": [
    {
     "data": {
      "text/latex": [
       "$\\displaystyle \\boxed{c(t)=1 + \\frac{\\left(- \\zeta \\sin{\\left(\\omega_{n} t \\sqrt{1 - \\zeta^{2}} \\right)} - \\sqrt{1 - \\zeta^{2}} \\cos{\\left(\\omega_{n} t \\sqrt{1 - \\zeta} \\sqrt{\\zeta + 1} \\right)}\\right) e^{- \\omega_{n} t \\zeta}}{\\sqrt{1 - \\zeta^{2}}}}$"
      ],
      "text/plain": [
       "<IPython.core.display.Math object>"
      ]
     },
     "metadata": {},
     "output_type": "display_data"
    }
   ],
   "source": [
    "c = ratsimp(ilaplace(C))\n",
    "mprintb('c(t)=', latex(c))"
   ]
  },
  {
   "cell_type": "markdown",
   "id": "cb365feb-1ce8-4785-ac59-21ca1bfbd073",
   "metadata": {},
   "source": [
    "As $ \\zeta = 1 $, $ c(t) $ becomes undfined. Hence, we must use limit operation when $\\zeta = 1$."
   ]
  },
  {
   "cell_type": "code",
   "execution_count": 9,
   "id": "446d0609-9442-4a05-80b5-1792102e8639",
   "metadata": {},
   "outputs": [
    {
     "data": {
      "text/latex": [
       "$\\displaystyle \\boxed{c_{\\zeta=1}(t)=\\left(- \\omega_{n} t - 1\\right) e^{- \\omega_{n} t} + 1}$"
      ],
      "text/plain": [
       "<IPython.core.display.Math object>"
      ]
     },
     "metadata": {},
     "output_type": "display_data"
    }
   ],
   "source": [
    "cz1 = ratsimp(limit(c, zeta, 1))\n",
    "mprintb('c_{\\\\zeta=1}(t)=', latex(cz1))"
   ]
  },
  {
   "cell_type": "markdown",
   "id": "6671f717-1c6e-4d26-b4cf-bcb7f6b56762",
   "metadata": {},
   "source": [
    "Let us rewrite the response equation, for $ \\zeta \\geq 0 $ :\n",
    "\n",
    "$$ \\boxed{ c(t) = 1 + \\frac{ \\left(- \\zeta \\sin{\\left(\\omega_{n} t \\sqrt{1 - \\zeta^{2}} \\right)} \\theta\\left(t\\right) - \\sqrt{1 - \\zeta^{2}} \\cos{\\left(\\omega_{n} t \\sqrt{1 - \\zeta^{2}} \\right)} \\theta\\left(t\\right)\\right) e^{- \\omega_{n} t \\zeta}}{\\sqrt{1 - \\zeta^{2}}}, \\,\\, \\zeta \\neq 1 } $$\n",
    "\n",
    "$$ \\boxed{ c(t) = \\left(- \\omega_{n} t - 1 \\right) e^{- \\omega_{n} t} + 1, \\,\\, \\zeta = 1 } $$\n",
    "\n",
    "System response is composed by 2 main components:\n",
    "* Forced response:\n",
    "    * DC component: $c_1(t) = 1$\n",
    "* Natural response $(c_n)$, which is made by a sinusiodal component divided by an exponential component:\n",
    "    * Sinusoidal component: $c_2(t) = - \\zeta \\sin{\\left(\\omega_{n} t \\sqrt{1 - \\zeta^{2}} \\right)} \\theta\\left(t\\right) - \\sqrt{1 - \\zeta^{2}} \\cos{\\left(\\omega_{n} t \\sqrt{1 - \\zeta^{2}} \\right)} \\theta\\left(t\\right)$\n",
    "    * Exponential component: $c_3(t) = e^{\\omega_{n} t \\zeta}\\sqrt{1 - \\zeta^{2}}$\n",
    "\n",
    "Thus: \n",
    "\n",
    "$$c(t) = \\underbrace{c_1(t)}_{\\text{DC}} + \\underbrace{c_2(t)c_3(t)}_{\\large c_n}$$"
   ]
  },
  {
   "cell_type": "code",
   "execution_count": 10,
   "id": "59229f01-e93d-4af8-be60-5bc41994a81c",
   "metadata": {},
   "outputs": [],
   "source": [
    "zeta_ = 0.5   # set zeta > 0 and zeta != 1\n",
    "omega_n_ = 1  # set omega_n > 0\n",
    "\n",
    "c_lst = Add.make_args(c) # separate cn\n",
    "c1 = c_lst[0]\n",
    "c2 = numer(c_lst[1])\n",
    "c3 = 1 / denom(c_lst[1])"
   ]
  },
  {
   "cell_type": "code",
   "execution_count": 11,
   "id": "8cc7cb9a-641e-499d-be0a-2a159ee7e659",
   "metadata": {},
   "outputs": [
    {
     "data": {
      "image/png": "[encoded data removed]",
      "text/plain": [
       "<Figure size 400x250 with 1 Axes>"
      ]
     },
     "metadata": {},
     "output_type": "display_data"
    }
   ],
   "source": [
    "p1 = plot(c1.subs(([omega_n, omega_n_],[zeta, zeta_])), (t, 0, 11), size=(4, 2.5), ylabel='$c(t)$', show=False, legend=True)\n",
    "p2 = plot(c2.subs(([omega_n, omega_n_],[zeta, zeta_])), (t, 0, 11), show=False, legend=True)\n",
    "p3 = plot(c3.subs(([omega_n, omega_n_],[zeta, zeta_])), (t, 0, 11), show=False, legend=True)\n",
    "p4 = plot( c.subs(([omega_n, omega_n_],[zeta, zeta_])), (t, 0, 11), show=False, legend=True)\n",
    "\n",
    "p1.append(p2[0])\n",
    "p1.append(p3[0])\n",
    "p1.append(p4[0])\n",
    "\n",
    "p1[0].label = \"$c_1$\"\n",
    "p2[0].label = \"$c_2$\"\n",
    "p3[0].label = \"$c_3$\"\n",
    "p4[0].label = \"$c = c_1 + c_2  c_3$\"\n",
    "\n",
    "p1.show()\n"
   ]
  },
  {
   "cell_type": "markdown",
   "id": "0881b1fe-af53-4680-b94f-3b8a35da5c8d",
   "metadata": {},
   "source": [
    "### Peak time"
   ]
  },
  {
   "cell_type": "markdown",
   "id": "ea99cbd3-638c-4f26-b9ee-8eabbf3bd9e8",
   "metadata": {},
   "source": [
    "Peak time is achieved when $\\frac{\\mathtt{d}c}{\\mathtt{d}t}=0$"
   ]
  },
  {
   "cell_type": "code",
   "execution_count": 12,
   "id": "3239ffca-8a38-4e5d-ac92-6393a6c8eee8",
   "metadata": {},
   "outputs": [
    {
     "data": {
      "text/latex": [
       "$\\displaystyle \\frac{\\omega_{n} \\left(\\zeta^{2} + \\sqrt{1 - \\zeta} \\sqrt{1 - \\zeta^{2}} \\sqrt{\\zeta + 1}\\right) e^{- \\omega_{n} t \\zeta} \\sin{\\left(\\omega_{n} t \\sqrt{1 - \\zeta^{2}} \\right)}}{\\sqrt{1 - \\zeta^{2}}} = 0$"
      ],
      "text/plain": [
       "<IPython.core.display.Math object>"
      ]
     },
     "metadata": {},
     "output_type": "display_data"
    }
   ],
   "source": [
    "cdot = Eq(simplify(diff(c,t)), 0)\n",
    "mprint(latex(cdot))"
   ]
  },
  {
   "cell_type": "code",
   "execution_count": 13,
   "id": "d8b933c7-0a18-4554-8fce-2ca4905e52e7",
   "metadata": {},
   "outputs": [
    {
     "data": {
      "text/latex": [
       "$\\displaystyle \\boxed{t_p=\\left[ \\frac{\\pi}{\\omega_{n} \\sqrt{1 - \\zeta^{2}}}\\right]}$"
      ],
      "text/plain": [
       "<IPython.core.display.Math object>"
      ]
     },
     "metadata": {},
     "output_type": "display_data"
    }
   ],
   "source": [
    "tp = solve(cdot, t)\n",
    "mprintb(\"t_p=\", latex(tp))"
   ]
  },
  {
   "cell_type": "markdown",
   "id": "b7968ad8-42d6-48b8-aa07-3eefef385c2c",
   "metadata": {},
   "source": [
    "For our example, let us apply the previous numerical values to $\\omega_n$ and $\\zeta$."
   ]
  },
  {
   "cell_type": "code",
   "execution_count": 14,
   "id": "16229587-39de-44eb-a7e0-dd20d7db73d7",
   "metadata": {},
   "outputs": [
    {
     "data": {
      "text/latex": [
       "$\\displaystyle 3.62759872846844$"
      ],
      "text/plain": [
       "3.62759872846844"
      ]
     },
     "execution_count": 14,
     "metadata": {},
     "output_type": "execute_result"
    }
   ],
   "source": [
    "tp[0].subs(([omega_n, omega_n_],[zeta, zeta_])).evalf()"
   ]
  },
  {
   "cell_type": "markdown",
   "id": "2d0b13b4-f168-4084-985f-b7c93636aa88",
   "metadata": {},
   "source": [
    "### Maximum Overshoot"
   ]
  },
  {
   "cell_type": "markdown",
   "id": "921c54e4-c66c-47ec-937b-580d682d312c",
   "metadata": {},
   "source": [
    "Maximum overshot happens at $c(t_p)$."
   ]
  },
  {
   "cell_type": "code",
   "execution_count": 15,
   "id": "811a0ffe-47bf-40e9-9255-794881f0e74a",
   "metadata": {},
   "outputs": [
    {
     "data": {
      "text/latex": [
       "$\\displaystyle \\boxed{M_p= \\Large e^{- \\frac{\\pi \\zeta}{\\sqrt{1 - \\zeta^{2}}}}}$"
      ],
      "text/plain": [
       "<IPython.core.display.Math object>"
      ]
     },
     "metadata": {},
     "output_type": "display_data"
    }
   ],
   "source": [
    "Mp = simplify(c.subs(t, tp[0])) - 1\n",
    "mprintb(\"M_p= \\\\Large \", latex(Mp))"
   ]
  },
  {
   "cell_type": "markdown",
   "id": "0554c3d6-dd9f-44b5-8de4-fe5af34a17ae",
   "metadata": {},
   "source": [
    "For our example, let us apply the previous numerical values to $\\omega_n$ and $\\zeta$."
   ]
  },
  {
   "cell_type": "code",
   "execution_count": 16,
   "id": "a2a87305-f76b-41b5-8aa7-aad4ad69b27d",
   "metadata": {},
   "outputs": [
    {
     "data": {
      "text/latex": [
       "$\\displaystyle 0.16303353482158$"
      ],
      "text/plain": [
       "0.163033534821580"
      ]
     },
     "execution_count": 16,
     "metadata": {},
     "output_type": "execute_result"
    }
   ],
   "source": [
    "Mp.subs(([omega_n, omega_n_],[zeta, zeta_])).evalf()"
   ]
  },
  {
   "cell_type": "markdown",
   "id": "4e168ad2-aad3-4ee6-a144-697deef14364",
   "metadata": {},
   "source": [
    "### Settling Time"
   ]
  },
  {
   "cell_type": "markdown",
   "id": "d2c39e25-7c75-499e-adde-2bd914bffbcd",
   "metadata": {},
   "source": [
    "Settling time happens when the output reaches a certain accuracy limit from the steady state output.\n",
    "\n",
    "Let us take a look only at $c_2(t)$ and $c_3(t)$"
   ]
  },
  {
   "cell_type": "code",
   "execution_count": 17,
   "id": "9513558b-e488-4132-af01-b2d5499f2706",
   "metadata": {},
   "outputs": [
    {
     "data": {
      "text/latex": [
       "$\\displaystyle c_2(t)=- \\zeta \\sin{\\left(\\omega_{n} t \\sqrt{1 - \\zeta^{2}} \\right)} - \\sqrt{1 - \\zeta^{2}} \\cos{\\left(\\omega_{n} t \\sqrt{1 - \\zeta} \\sqrt{\\zeta + 1} \\right)}$"
      ],
      "text/plain": [
       "<IPython.core.display.Math object>"
      ]
     },
     "metadata": {},
     "output_type": "display_data"
    },
    {
     "data": {
      "text/latex": [
       "$\\displaystyle c_3(t)=\\frac{e^{- \\omega_{n} t \\zeta}}{\\sqrt{1 - \\zeta^{2}}}$"
      ],
      "text/plain": [
       "<IPython.core.display.Math object>"
      ]
     },
     "metadata": {},
     "output_type": "display_data"
    }
   ],
   "source": [
    "mprint(\"c_2(t)=\", latex(c2))\n",
    "mprint(\"c_3(t)=\", latex(c3))"
   ]
  },
  {
   "cell_type": "code",
   "execution_count": 18,
   "id": "ef9085ac-eb70-4b85-8054-d170f24d62cb",
   "metadata": {},
   "outputs": [
    {
     "data": {
      "image/png": "[encoded data removed]",
      "text/plain": [
       "<Figure size 600x400 with 1 Axes>"
      ]
     },
     "metadata": {},
     "output_type": "display_data"
    }
   ],
   "source": [
    "tspan = (t, 0, 11)\n",
    "\n",
    "p1 = plot((c-1).subs(([omega_n, omega_n_],[zeta, zeta_])), tspan, size=(6, 4), ylabel='$c(t)$', show=False, legend=True)\n",
    "p2 = plot(   c3.subs(([omega_n, omega_n_],[zeta, zeta_])), tspan, show=False, legend=True)\n",
    "p3 = plot(  -c3.subs(([omega_n, omega_n_],[zeta, zeta_])), tspan, show=False, legend=True)\n",
    "\n",
    "p1.append(p2[0])\n",
    "p1.append(p3[0])\n",
    "\n",
    "p1[0].label = \"$c(t)-1$\"\n",
    "p2[0].label = \"$c_3(t)$\"\n",
    "p3[0].label = \"$-c_3(t)$\"\n",
    "\n",
    "p1.show()"
   ]
  },
  {
   "cell_type": "markdown",
   "id": "12093359-46e1-49ab-8f9c-581d50185108",
   "metadata": {},
   "source": [
    "Notice that $c_3(t)$ is the envelope of the $c1(t)-1$."
   ]
  },
  {
   "cell_type": "markdown",
   "id": "a405ba88-04eb-4522-97e5-aafe52aa5a3c",
   "metadata": {},
   "source": [
    "#### 2-percent settling time"
   ]
  },
  {
   "cell_type": "code",
   "execution_count": 19,
   "id": "12df9292-caa1-4ce3-ace6-62c6a3648591",
   "metadata": {},
   "outputs": [
    {
     "data": {
      "text/latex": [
       "$\\displaystyle \\boxed{t_{s2} =\\left[ \\frac{3.91202300542815 - 0.5 \\log{\\left(1.0 - \\zeta^{2} \\right)}}{\\omega_{n} \\zeta}\\right]}$"
      ],
      "text/plain": [
       "<IPython.core.display.Math object>"
      ]
     },
     "metadata": {},
     "output_type": "display_data"
    }
   ],
   "source": [
    "ts = solve(Eq(c3, 0.02) , t)\n",
    "ts2 = ts[0]\n",
    "mprintb('t_{s2} =', latex(ts))"
   ]
  },
  {
   "cell_type": "markdown",
   "id": "d6e28345-dfa0-4e0d-ac59-cd74a2f97621",
   "metadata": {},
   "source": [
    "For our example, let us apply the previous numerical values to $\\omega_n$ and $\\zeta$."
   ]
  },
  {
   "cell_type": "code",
   "execution_count": 20,
   "id": "660b5540-ee87-48ba-8c81-ed04911215d1",
   "metadata": {},
   "outputs": [
    {
     "data": {
      "text/latex": [
       "$\\displaystyle 8.11172808330807$"
      ],
      "text/plain": [
       "8.11172808330807"
      ]
     },
     "execution_count": 20,
     "metadata": {},
     "output_type": "execute_result"
    }
   ],
   "source": [
    "ts2_ = ts2.subs(([omega_n, omega_n_],[zeta, zeta_]))\n",
    "ts2_"
   ]
  },
  {
   "cell_type": "markdown",
   "id": "9380dfca-edc7-47d7-803a-8020b88c3f86",
   "metadata": {},
   "source": [
    "#### 5-percent settling time"
   ]
  },
  {
   "cell_type": "code",
   "execution_count": 21,
   "id": "46a322e5-2a57-4069-a1f6-dcd089262488",
   "metadata": {},
   "outputs": [
    {
     "data": {
      "text/latex": [
       "$\\displaystyle \\boxed{t_{s5} =\\left[ \\frac{2.99573227355399 - 0.5 \\log{\\left(1.0 - \\zeta^{2} \\right)}}{\\omega_{n} \\zeta}\\right]}$"
      ],
      "text/plain": [
       "<IPython.core.display.Math object>"
      ]
     },
     "metadata": {},
     "output_type": "display_data"
    }
   ],
   "source": [
    "ts = solve(Eq(c3, 0.05) , t)\n",
    "ts5 = ts[0]\n",
    "mprintb('t_{s5} =', latex(ts))"
   ]
  },
  {
   "cell_type": "markdown",
   "id": "fb4eb3c0-6fd9-4f6f-b8d9-3bb54fbb798e",
   "metadata": {},
   "source": [
    "For our example, let us apply the previous numerical values to $\\omega_n$ and $\\zeta$."
   ]
  },
  {
   "cell_type": "code",
   "execution_count": 22,
   "id": "b5698fbb-d1e9-4c23-b4be-bd8ad1b69621",
   "metadata": {},
   "outputs": [
    {
     "data": {
      "text/latex": [
       "$\\displaystyle 6.27914661955976$"
      ],
      "text/plain": [
       "6.27914661955976"
      ]
     },
     "execution_count": 22,
     "metadata": {},
     "output_type": "execute_result"
    }
   ],
   "source": [
    "ts5_ = ts5.subs(([omega_n, omega_n_],[zeta, zeta_]))\n",
    "ts5_"
   ]
  },
  {
   "cell_type": "markdown",
   "id": "a7bd8051-5297-46b8-8ea9-247c6fe8f2ae",
   "metadata": {},
   "source": [
    "## Rise time"
   ]
  },
  {
   "cell_type": "markdown",
   "id": "f2c5e5c4-6792-4b88-9d5d-035b9b3ba5e0",
   "metadata": {},
   "source": [
    "Rise time happens when $c(t_r) = 1$."
   ]
  },
  {
   "cell_type": "code",
   "execution_count": 23,
   "id": "bbfdddfa-41cb-4ce9-973a-483f077b2364",
   "metadata": {},
   "outputs": [
    {
     "data": {
      "text/latex": [
       "$\\displaystyle \\boxed{t_r = \\left[ \\frac{2 \\operatorname{atan}{\\left(\\frac{\\sqrt{\\zeta + 1}}{\\sqrt{1 - \\zeta}} \\right)}}{\\omega_{n} \\sqrt{1 - \\zeta^{2}}}, \\  - \\frac{2 \\operatorname{atan}{\\left(\\frac{\\sqrt{1 - \\zeta}}{\\sqrt{\\zeta + 1}} \\right)}}{\\omega_{n} \\sqrt{1 - \\zeta^{2}}}\\right]}$"
      ],
      "text/plain": [
       "<IPython.core.display.Math object>"
      ]
     },
     "metadata": {},
     "output_type": "display_data"
    }
   ],
   "source": [
    "tr = solve(Eq(c-1, 0), t)\n",
    "mprintb('t_r = ', latex(tr))"
   ]
  },
  {
   "cell_type": "markdown",
   "id": "aba12616-3a45-494c-9317-7425498e25ac",
   "metadata": {},
   "source": [
    "We take the first solution since $t_r > 0$"
   ]
  },
  {
   "cell_type": "markdown",
   "id": "b1a3e1a8-3bce-401e-a032-b15ee7465adc",
   "metadata": {},
   "source": [
    "For our example, let us apply the previous numerical values to $\\omega_n$ and $\\zeta$."
   ]
  },
  {
   "cell_type": "code",
   "execution_count": 24,
   "id": "deebafd4-7af8-4ce9-b0da-964d26ac7433",
   "metadata": {},
   "outputs": [
    {
     "data": {
      "text/latex": [
       "$\\displaystyle 2.41839915231229$"
      ],
      "text/plain": [
       "2.41839915231229"
      ]
     },
     "execution_count": 24,
     "metadata": {},
     "output_type": "execute_result"
    }
   ],
   "source": [
    "tr[0].subs(([omega_n, omega_n_],[zeta, zeta_]))"
   ]
  },
  {
   "cell_type": "markdown",
   "id": "33cea364-01db-41ad-a2ed-f40df41db337",
   "metadata": {},
   "source": [
    "## The effect of damping ratio"
   ]
  },
  {
   "cell_type": "markdown",
   "id": "fe04d26c-4388-449e-ae65-01ffc7d1d992",
   "metadata": {},
   "source": [
    "If we consider only the system's natural response: "
   ]
  },
  {
   "cell_type": "code",
   "execution_count": 25,
   "id": "14475d3d-7b27-451f-9ad2-9fadce5c1dbc",
   "metadata": {},
   "outputs": [
    {
     "data": {
      "text/latex": [
       "$\\displaystyle c_n=\\frac{\\left(- \\zeta \\sin{\\left(\\omega_{n} t \\sqrt{1 - \\zeta^{2}} \\right)} - \\sqrt{1 - \\zeta^{2}} \\cos{\\left(\\omega_{n} t \\sqrt{1 - \\zeta} \\sqrt{\\zeta + 1} \\right)}\\right) e^{- \\omega_{n} t \\zeta}}{\\sqrt{1 - \\zeta^{2}}}$"
      ],
      "text/plain": [
       "<IPython.core.display.Math object>"
      ]
     },
     "metadata": {},
     "output_type": "display_data"
    }
   ],
   "source": [
    "cn = c2 * c3\n",
    "mprint(\"c_n=\", latex(cn))"
   ]
  },
  {
   "cell_type": "markdown",
   "id": "c3a81105-ae4b-4360-81c6-c58243ac119e",
   "metadata": {},
   "source": [
    "We can easily conclude that the damping ratio:\n",
    "* changes system's natural frequency\n",
    "* changes system's transient behaviour\n",
    "\n",
    "The first point is quite straight forward. Thus, we will explore more on the second point."
   ]
  },
  {
   "cell_type": "code",
   "execution_count": 26,
   "id": "321525bb-7e76-4e80-a16a-cf44d1229e69",
   "metadata": {},
   "outputs": [
    {
     "data": {
      "image/png": "[encoded data removed]",
      "text/plain": [
       "<Figure size 600x400 with 1 Axes>"
      ]
     },
     "metadata": {},
     "output_type": "display_data"
    }
   ],
   "source": [
    "tspan = (t, 0, 20)\n",
    "zetas = [0, 0.1, 0.2, 0.4, 0.7, 1, 2]\n",
    "\n",
    "p1 = plot(c.subs(([omega_n, omega_n_],[zeta, zetas[0]])), tspan, size=(6, 4), ylabel='$c(t)$', show=False, legend=True)\n",
    "p1[0].label = \"$\\\\zeta = \" + str(zetas[0]) + \"$\"\n",
    "\n",
    "for k in range(1, len(zetas)):\n",
    "    if zetas[k] != 1:\n",
    "        p2 = plot(c.subs(([omega_n, omega_n_],[zeta, zetas[k]])), tspan, show=False, legend=True)    \n",
    "    else:\n",
    "        p2 = plot(cz1.subs(omega_n, omega_n_), tspan, show=False, legend=True)    \n",
    "\n",
    "    p1.append(p2[0])\n",
    "    p2[0].label = \"$\\\\zeta = \" + str(zetas[k]) + \"$\"\n",
    "\n",
    "\n",
    "p1.show()"
   ]
  },
  {
   "cell_type": "markdown",
   "id": "778e64e4-725b-48bf-b2d2-cc838de5b0ef",
   "metadata": {},
   "source": [
    "## Summary"
   ]
  },
  {
   "cell_type": "code",
   "execution_count": 27,
   "id": "1391c98b-dd8f-4edd-8e27-96e0f8598753",
   "metadata": {},
   "outputs": [
    {
     "data": {
      "text/markdown": [
       "| Parameters              | Formulas                                                                                                                        |\n",
       "|:------------------------|:--------------------------------------------------------------------------------------------------------------------------------|\n",
       "| Rise time               | $\\Large \\frac{2 \\operatorname{atan}{\\left(\\frac{\\sqrt{\\zeta + 1}}{\\sqrt{1 - \\zeta}} \\right)}}{\\omega_{n} \\sqrt{1 - \\zeta^{2}}}$ |\n",
       "| Peak time               | $\\Large \\left[ \\frac{\\pi}{\\omega_{n} \\sqrt{1 - \\zeta^{2}}}\\right]$                                                              |\n",
       "| Maximum overshoot       | $\\Large e^{- \\frac{\\pi \\zeta}{\\sqrt{1 - \\zeta^{2}}}}$                                                                           |\n",
       "| 2-percent settling time | $\\Large \\frac{3.91202300542815 - 0.5 \\log{\\left(1.0 - \\zeta^{2} \\right)}}{\\omega_{n} \\zeta}$                                    |\n",
       "| 5-percent settling time | $\\Large \\frac{2.99573227355399 - 0.5 \\log{\\left(1.0 - \\zeta^{2} \\right)}}{\\omega_{n} \\zeta}$                                    |"
      ],
      "text/plain": [
       "<IPython.core.display.Markdown object>"
      ]
     },
     "execution_count": 27,
     "metadata": {},
     "output_type": "execute_result"
    }
   ],
   "source": [
    "from pandas import DataFrame\n",
    "from IPython.display import Markdown\n",
    "\n",
    "def makelatex(args):\n",
    "    return [\"$\\\\Large {}$\".format(latex(a)) for a in args]\n",
    "\n",
    "descs = [\"Rise time\", \n",
    "         \"Peak time\",\n",
    "         \"Maximum overshoot\",\n",
    "         \"2-percent settling time\",\n",
    "         \"5-percent settling time\"]\n",
    "\n",
    "vals  = [tr[0], tp, Mp, ts2, ts5]\n",
    "\n",
    "dic = {'Parameters': descs, \n",
    "       'Formulas': makelatex(vals)}\n",
    "\n",
    "df = DataFrame(dic)\n",
    "Markdown(df.to_markdown(index=False))"
   ]
  },
  {
   "cell_type": "code",
   "execution_count": null,
   "id": "914072d7",
   "metadata": {},
   "outputs": [],
   "source": []
  }
 ],
 "metadata": {
  "kernelspec": {
   "display_name": "ipykernel 3.12.4",
   "language": "python",
   "name": "py.3.12.4"
  },
  "language_info": {
   "codemirror_mode": {
    "name": "ipython",
    "version": 3
   },
   "file_extension": ".py",
   "mimetype": "text/x-python",
   "name": "python",
   "nbconvert_exporter": "python",
   "pygments_lexer": "ipython3",
   "version": "3.12.3"
  }
 },
 "nbformat": 4,
 "nbformat_minor": 5
}

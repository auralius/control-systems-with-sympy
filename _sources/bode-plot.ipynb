{
 "cells": [
  {
   "cell_type": "markdown",
   "metadata": {
    "editable": true,
    "slideshow": {
     "slide_type": ""
    },
    "tags": []
   },
   "source": [
    "# Asymptotic Bode"
   ]
  },
  {
   "cell_type": "markdown",
   "metadata": {},
   "source": [
    "Goal:\n",
    "* Express the frequency response of a system defined by a transfer function as piecewise linear funtions."
   ]
  },
  {
   "cell_type": "markdown",
   "metadata": {},
   "source": [
    "## Preparations"
   ]
  },
  {
   "cell_type": "code",
   "execution_count": 139,
   "metadata": {},
   "outputs": [],
   "source": [
    "import numpy as np\n",
    "\n",
    "from sympy import *\n",
    "from sympy.physics.control.lti import TransferFunction\n",
    "\n",
    "from mathprint import *\n",
    "\n",
    "import matplotlib.pyplot as plt\n",
    "plt.rcParams.update({\n",
    "    \"text.usetex\": True,\n",
    "    \"font.family\": \"Helvetica\",\n",
    "    \"font.size\": 10,\n",
    "})"
   ]
  },
  {
   "cell_type": "markdown",
   "metadata": {},
   "source": [
    "Define variables that we are going to use repetitively.\n",
    "We also need to define specific prpoperties of the variables."
   ]
  },
  {
   "cell_type": "code",
   "execution_count": 140,
   "metadata": {},
   "outputs": [],
   "source": [
    "t        = symbols('t'       , real=True)\n",
    "s        = symbols('s'       , complex=True)\n",
    "omega    = symbols('omega'   , positive=True)\n",
    "a, b     = symbols('a b'     , real=True)\n",
    "zeta     = symbols('zeta'    , positive=True)\n",
    "omega_n  = symbols('omega_n' , positive=True)"
   ]
  },
  {
   "cell_type": "markdown",
   "metadata": {
    "editable": true,
    "slideshow": {
     "slide_type": ""
    },
    "tags": []
   },
   "source": [
    "## Asymptotic Bode Plots of Low-Order Transfer Functions"
   ]
  },
  {
   "cell_type": "markdown",
   "metadata": {
    "editable": true,
    "slideshow": {
     "slide_type": ""
    },
    "tags": []
   },
   "source": [
    "These are the fundamental steps that we must do to plot the frequence response (Bode plot) of a system defined by a transfer function $H(s)$:\n",
    "* Do substitution: $s = j \\omega$\n",
    "* Compute $H( j \\omega )$\n",
    "* The result is a complex number:\n",
    "    * Extract the magnitude: $ M = \\big| H(j \\omega) \\big| $\n",
    "    * Convert the magnitude into dB: $ M_{dB} = 20 \\log_{10} M  $\n",
    "    * Extract the the phase: $ \\phi = \\angle H(j \\omega) $\n",
    "\n",
    "It is very easy to execute those steps by using a computer. On the other hand, when we simply want to sketch the Bode plot without using a computer, we can use the asymptotic method to draw the approximated version of the Bode plot.\n"
   ]
  },
  {
   "cell_type": "markdown",
   "metadata": {
    "editable": true,
    "slideshow": {
     "slide_type": ""
    },
    "tags": []
   },
   "source": [
    "## Case 1: A pole at the origin of the s-plane"
   ]
  },
  {
   "cell_type": "markdown",
   "metadata": {},
   "source": [
    "Let us start by first defining the transfer function:"
   ]
  },
  {
   "cell_type": "code",
   "execution_count": 141,
   "metadata": {},
   "outputs": [
    {
     "data": {
      "text/latex": [
       "$\\displaystyle H(s)=\\frac{1}{s}$"
      ],
      "text/plain": [
       "<IPython.core.display.Math object>"
      ]
     },
     "metadata": {},
     "output_type": "display_data"
    }
   ],
   "source": [
    "H1 = 1/s\n",
    "mprint('H(s)=', latex(H1))"
   ]
  },
  {
   "cell_type": "markdown",
   "metadata": {},
   "source": [
    "After the substitution, we then obtain:"
   ]
  },
  {
   "cell_type": "code",
   "execution_count": 142,
   "metadata": {},
   "outputs": [
    {
     "data": {
      "text/latex": [
       "$\\displaystyle \\boxed{M  =\\frac{1}{\\omega}}$"
      ],
      "text/plain": [
       "<IPython.core.display.Math object>"
      ]
     },
     "metadata": {},
     "output_type": "display_data"
    },
    {
     "data": {
      "text/latex": [
       "$\\displaystyle \\boxed{M_{dB} =- \\frac{20 \\log{\\left(\\omega \\right)}}{\\log{\\left(10 \\right)}}}$"
      ],
      "text/plain": [
       "<IPython.core.display.Math object>"
      ]
     },
     "metadata": {},
     "output_type": "display_data"
    },
    {
     "data": {
      "text/latex": [
       "$\\displaystyle \\boxed{\\phi =- \\frac{\\pi}{2}}$"
      ],
      "text/plain": [
       "<IPython.core.display.Math object>"
      ]
     },
     "metadata": {},
     "output_type": "display_data"
    }
   ],
   "source": [
    "Hjw  = H1.subs(s, I*omega)\n",
    "M1   = simplify(Abs(Hjw))\n",
    "Mdb1 = simplify(20*log(M1, 10))\n",
    "Phi1 = arg(Hjw)\n",
    "mprintb(\"M  =\", latex(M1))\n",
    "mprintb(\"M_{dB} =\", latex(Mdb1))\n",
    "mprintb(\"\\\\phi =\", latex(Phi1))"
   ]
  },
  {
   "cell_type": "markdown",
   "metadata": {
    "editable": true,
    "slideshow": {
     "slide_type": ""
    },
    "tags": []
   },
   "source": [
    "**Magnitude plot:**"
   ]
  },
  {
   "cell_type": "code",
   "execution_count": 143,
   "metadata": {
    "editable": true,
    "slideshow": {
     "slide_type": ""
    },
    "tags": [
     "hide-input"
    ]
   },
   "outputs": [
    {
     "data": {
      "image/png": "[encoded data removed]",
      "text/plain": [
       "<Figure size 400x200 with 1 Axes>"
      ]
     },
     "metadata": {},
     "output_type": "display_data"
    }
   ],
   "source": [
    "title = '$ M_{dB} $'\n",
    "p1 = plot(Mdb1, (omega, 0.01 , 100), size=(4, 2), title=title, show=True,  xscale='log')"
   ]
  },
  {
   "cell_type": "markdown",
   "metadata": {
    "editable": true,
    "slideshow": {
     "slide_type": ""
    },
    "tags": []
   },
   "source": [
    "**Phase plot:**"
   ]
  },
  {
   "cell_type": "code",
   "execution_count": 144,
   "metadata": {
    "editable": true,
    "slideshow": {
     "slide_type": ""
    },
    "tags": [
     "hide-input"
    ]
   },
   "outputs": [
    {
     "data": {
      "image/png": "[encoded data removed]",
      "text/plain": [
       "<Figure size 400x200 with 1 Axes>"
      ]
     },
     "metadata": {},
     "output_type": "display_data"
    }
   ],
   "source": [
    "title = '$\\\\phi $'\n",
    "p2 = plot(Phi1, (omega, 0.01 , 100), size=(4, 2), title=title, show=True,  xscale='log')"
   ]
  },
  {
   "cell_type": "markdown",
   "metadata": {},
   "source": [
    "## Case 2: A zero at the origin of the s-plane"
   ]
  },
  {
   "cell_type": "markdown",
   "metadata": {},
   "source": [
    "Let us start by first defining the transfer function:"
   ]
  },
  {
   "cell_type": "code",
   "execution_count": 145,
   "metadata": {},
   "outputs": [
    {
     "data": {
      "text/latex": [
       "$\\displaystyle H(s)=s$"
      ],
      "text/plain": [
       "<IPython.core.display.Math object>"
      ]
     },
     "metadata": {},
     "output_type": "display_data"
    }
   ],
   "source": [
    "H2 = s\n",
    "mprint('H(s)=', latex(H2))"
   ]
  },
  {
   "cell_type": "markdown",
   "metadata": {},
   "source": [
    "After the substitution, we then obtain:"
   ]
  },
  {
   "cell_type": "code",
   "execution_count": 146,
   "metadata": {},
   "outputs": [
    {
     "data": {
      "text/latex": [
       "$\\displaystyle \\boxed{M  =\\omega}$"
      ],
      "text/plain": [
       "<IPython.core.display.Math object>"
      ]
     },
     "metadata": {},
     "output_type": "display_data"
    },
    {
     "data": {
      "text/latex": [
       "$\\displaystyle \\boxed{M_{dB} =\\frac{20 \\log{\\left(\\omega \\right)}}{\\log{\\left(10 \\right)}}}$"
      ],
      "text/plain": [
       "<IPython.core.display.Math object>"
      ]
     },
     "metadata": {},
     "output_type": "display_data"
    },
    {
     "data": {
      "text/latex": [
       "$\\displaystyle \\boxed{\\phi =\\frac{\\pi}{2}}$"
      ],
      "text/plain": [
       "<IPython.core.display.Math object>"
      ]
     },
     "metadata": {},
     "output_type": "display_data"
    }
   ],
   "source": [
    "Hjw  = H2.subs(s, I*omega)\n",
    "M2   = simplify(Abs(Hjw))\n",
    "Mdb2 = simplify(20 * log(M2, 10))\n",
    "Phi2 = arg(Hjw)\n",
    "mprintb(\"M  =\", latex(M2))\n",
    "mprintb(\"M_{dB} =\", latex(Mdb2))\n",
    "mprintb(\"\\\\phi =\", latex(Phi2))"
   ]
  },
  {
   "cell_type": "markdown",
   "metadata": {
    "editable": true,
    "slideshow": {
     "slide_type": ""
    },
    "tags": []
   },
   "source": [
    "**Magnitude plot:**"
   ]
  },
  {
   "cell_type": "code",
   "execution_count": 147,
   "metadata": {
    "editable": true,
    "slideshow": {
     "slide_type": ""
    },
    "tags": [
     "hide-input"
    ]
   },
   "outputs": [
    {
     "data": {
      "image/png": "[encoded data removed]",
      "text/plain": [
       "<Figure size 400x200 with 1 Axes>"
      ]
     },
     "metadata": {},
     "output_type": "display_data"
    }
   ],
   "source": [
    "title = '$M_{dB}$'\n",
    "p1 = plot(Mdb2, (omega, 0.01 , 100), size=(4, 2), title=title, show=True,  xscale='log')"
   ]
  },
  {
   "cell_type": "markdown",
   "metadata": {
    "editable": true,
    "slideshow": {
     "slide_type": ""
    },
    "tags": []
   },
   "source": [
    "**Phase plot:**"
   ]
  },
  {
   "cell_type": "code",
   "execution_count": 148,
   "metadata": {
    "editable": true,
    "slideshow": {
     "slide_type": ""
    },
    "tags": [
     "hide-input"
    ]
   },
   "outputs": [
    {
     "data": {
      "image/png": "[encoded data removed]",
      "text/plain": [
       "<Figure size 400x200 with 1 Axes>"
      ]
     },
     "metadata": {},
     "output_type": "display_data"
    }
   ],
   "source": [
    "title = '$\\\\phi $'\n",
    "p2 = plot(Phi2, (omega, 0.01 , 100), size=(4, 2), title=title, show=True,  xscale='log')"
   ]
  },
  {
   "cell_type": "markdown",
   "metadata": {},
   "source": [
    "## Case 3: A single real pole"
   ]
  },
  {
   "cell_type": "markdown",
   "metadata": {},
   "source": [
    "Let us start by first defining the transfer function:"
   ]
  },
  {
   "cell_type": "code",
   "execution_count": 149,
   "metadata": {},
   "outputs": [
    {
     "data": {
      "text/latex": [
       "$\\displaystyle H(s)=\\frac{1}{a + s}$"
      ],
      "text/plain": [
       "<IPython.core.display.Math object>"
      ]
     },
     "metadata": {},
     "output_type": "display_data"
    }
   ],
   "source": [
    "H3 = 1/(s+a)\n",
    "mprint('H(s)=', latex(H3))"
   ]
  },
  {
   "cell_type": "markdown",
   "metadata": {},
   "source": [
    "After the substitution, we then obtain:"
   ]
  },
  {
   "cell_type": "code",
   "execution_count": 150,
   "metadata": {},
   "outputs": [
    {
     "data": {
      "text/latex": [
       "$\\displaystyle \\boxed{M =\\frac{1}{\\sqrt{a^{2} + \\omega^{2}}}}$"
      ],
      "text/plain": [
       "<IPython.core.display.Math object>"
      ]
     },
     "metadata": {},
     "output_type": "display_data"
    },
    {
     "data": {
      "text/latex": [
       "$\\displaystyle \\boxed{M_{dB} =- \\frac{10 \\log{\\left(a^{2} + \\omega^{2} \\right)}}{\\log{\\left(10 \\right)}}}$"
      ],
      "text/plain": [
       "<IPython.core.display.Math object>"
      ]
     },
     "metadata": {},
     "output_type": "display_data"
    },
    {
     "data": {
      "text/latex": [
       "$\\displaystyle \\boxed{\\phi =\\arg{\\left(\\frac{1}{a + i \\omega} \\right)}}$"
      ],
      "text/plain": [
       "<IPython.core.display.Math object>"
      ]
     },
     "metadata": {},
     "output_type": "display_data"
    }
   ],
   "source": [
    "Hjw  = H3.subs(s, I*omega)\n",
    "M3   = simplify(Abs(Hjw))\n",
    "Mdb3 = simplify(20 * log(M3, 10))\n",
    "Phi3 = arg(Hjw)\n",
    "mprintb(\"M =\", latex(M3))\n",
    "mprintb(\"M_{dB} =\", latex(Mdb3))\n",
    "mprintb(\"\\\\phi =\", latex(Phi3))"
   ]
  },
  {
   "cell_type": "markdown",
   "metadata": {},
   "source": [
    "Now, let us plot the results for both the magnitude and the phase. To do this, we must first set a numerical value for $a$. Let us set $a=1$. "
   ]
  },
  {
   "cell_type": "code",
   "execution_count": 151,
   "metadata": {},
   "outputs": [],
   "source": [
    "a_ = 1"
   ]
  },
  {
   "cell_type": "markdown",
   "metadata": {},
   "source": [
    "Next, let us write down the approximated version of the plots, for the magnitude and the phase. What we do here is a bit based on observations."
   ]
  },
  {
   "cell_type": "markdown",
   "metadata": {},
   "source": [
    "**Magnitude plot:**"
   ]
  },
  {
   "cell_type": "code",
   "execution_count": 152,
   "metadata": {},
   "outputs": [
    {
     "data": {
      "text/latex": [
       "$\\displaystyle \\boxed{\\hat{ M }_{dB} = \\begin{cases} - \\frac{20 \\log{\\left(a \\right)}}{\\log{\\left(10 \\right)}} & \\text{for}\\: a \\geq \\omega \\\\- \\frac{20 \\log{\\left(\\omega \\right)}}{\\log{\\left(10 \\right)}} & \\text{otherwise} \\end{cases}}$"
      ],
      "text/plain": [
       "<IPython.core.display.Math object>"
      ]
     },
     "metadata": {},
     "output_type": "display_data"
    }
   ],
   "source": [
    "Mhatdb3 = Piecewise((-20 * log(a, 10),     omega <= a),\n",
    "                    (-20 * log(omega, 10), True))\n",
    "mprintb(\"\\\\hat{ M }_{dB} = \", latex(Mhatdb3))"
   ]
  },
  {
   "cell_type": "code",
   "execution_count": 153,
   "metadata": {
    "editable": true,
    "slideshow": {
     "slide_type": ""
    },
    "tags": [
     "hide-input"
    ]
   },
   "outputs": [
    {
     "data": {
      "image/png": "[encoded data removed]",
      "text/plain": [
       "<Figure size 400x200 with 1 Axes>"
      ]
     },
     "metadata": {},
     "output_type": "display_data"
    }
   ],
   "source": [
    "title = '$M_{dB}$'\n",
    "p1 = plot(Mdb3.subs(a, a_),    (omega, a_/100 , 100*a_), size=(4, 2), title=title, show=False,  xscale='log')\n",
    "p2 = plot(Mhatdb3.subs(a, a_), (omega, a_/100 , 100*a_), show=False)\n",
    "p1.append(p2[0])\n",
    "p1.show()"
   ]
  },
  {
   "cell_type": "markdown",
   "metadata": {},
   "source": [
    "**Phase plot:**"
   ]
  },
  {
   "cell_type": "code",
   "execution_count": 154,
   "metadata": {},
   "outputs": [
    {
     "data": {
      "text/latex": [
       "$\\displaystyle \\boxed{\\hat{ \\phi }  = \\begin{cases} 0 & \\text{for}\\: 0.1 a \\geq 1.0 \\omega \\\\- \\frac{\\pi \\log{\\left(\\frac{10.0 \\omega}{a} \\right)}}{4 \\log{\\left(10 \\right)}} & \\text{for}\\: \\omega < 10 a \\\\- \\frac{\\pi}{2} & \\text{otherwise} \\end{cases}}$"
      ],
      "text/plain": [
       "<IPython.core.display.Math object>"
      ]
     },
     "metadata": {},
     "output_type": "display_data"
    }
   ],
   "source": [
    "Phihat3 = Piecewise((0, omega <= 0.1*a),\n",
    "                    (-pi/4 * log(omega/(0.1*a), 10) , omega < a*10), \n",
    "                    (-pi/2, True))\n",
    "mprintb(\"\\\\hat{ \\\\phi }  = \", latex(simplify(Phihat3)))"
   ]
  },
  {
   "cell_type": "code",
   "execution_count": 155,
   "metadata": {
    "editable": true,
    "slideshow": {
     "slide_type": ""
    },
    "tags": [
     "hide-input"
    ]
   },
   "outputs": [
    {
     "data": {
      "image/png": "[encoded data removed]",
      "text/plain": [
       "<Figure size 400x200 with 1 Axes>"
      ]
     },
     "metadata": {},
     "output_type": "display_data"
    }
   ],
   "source": [
    "title = '$ \\\\phi $'\n",
    "p1 = plot(Phi3.subs(a, a_),    (omega, a_/100 , 100*a_), size=(4, 2), title=title, show=False,  xscale='log')\n",
    "p2 = plot(Phihat3.subs(a, a_), (omega, a_/100 , 100*a_), show=False)\n",
    "p1.append(p2[0])\n",
    "p1.show()"
   ]
  },
  {
   "cell_type": "markdown",
   "metadata": {},
   "source": [
    "## Case 4: A single real zero"
   ]
  },
  {
   "cell_type": "markdown",
   "metadata": {},
   "source": [
    "Let us start by first defining the transfer function:"
   ]
  },
  {
   "cell_type": "code",
   "execution_count": 156,
   "metadata": {},
   "outputs": [
    {
     "data": {
      "text/latex": [
       "$\\displaystyle H(s)=a + s$"
      ],
      "text/plain": [
       "<IPython.core.display.Math object>"
      ]
     },
     "metadata": {},
     "output_type": "display_data"
    }
   ],
   "source": [
    "H4 = s+a\n",
    "mprint('H(s)=', latex(H4))"
   ]
  },
  {
   "cell_type": "markdown",
   "metadata": {},
   "source": [
    "After the substitution, we then obtain:"
   ]
  },
  {
   "cell_type": "code",
   "execution_count": 157,
   "metadata": {},
   "outputs": [
    {
     "data": {
      "text/latex": [
       "$\\displaystyle M  =\\sqrt{a^{2} + \\omega^{2}}$"
      ],
      "text/plain": [
       "<IPython.core.display.Math object>"
      ]
     },
     "metadata": {},
     "output_type": "display_data"
    },
    {
     "data": {
      "text/latex": [
       "$\\displaystyle M_{dB} =\\frac{10 \\log{\\left(a^{2} + \\omega^{2} \\right)}}{\\log{\\left(10 \\right)}}$"
      ],
      "text/plain": [
       "<IPython.core.display.Math object>"
      ]
     },
     "metadata": {},
     "output_type": "display_data"
    },
    {
     "data": {
      "text/latex": [
       "$\\displaystyle \\phi =\\arg{\\left(a + i \\omega \\right)}$"
      ],
      "text/plain": [
       "<IPython.core.display.Math object>"
      ]
     },
     "metadata": {},
     "output_type": "display_data"
    }
   ],
   "source": [
    "Hjw  = H4.subs(s, I*omega)\n",
    "M4   = simplify(Abs(Hjw))\n",
    "Mdb4 = simplify(20 * log(M4, 10))\n",
    "Phi4 = arg(Hjw)\n",
    "mprint(\"M  =\", latex(M4))\n",
    "mprint(\"M_{dB} =\", latex(Mdb4))\n",
    "mprint(\"\\\\phi =\", latex(Phi4))"
   ]
  },
  {
   "cell_type": "markdown",
   "metadata": {},
   "source": [
    "Now, let us plot the results for both the magnitude and the phase. To do this, we must first set a numerical value for $a$. Let us set $a=1$.\n",
    "\n",
    "Next, let us write down the approximated version of the plots, for both the magnitude and the phase. What we do here is a bit based on observations. "
   ]
  },
  {
   "cell_type": "markdown",
   "metadata": {},
   "source": [
    "**Magnitude plot:**"
   ]
  },
  {
   "cell_type": "code",
   "execution_count": 158,
   "metadata": {},
   "outputs": [
    {
     "data": {
      "text/latex": [
       "$\\displaystyle \\boxed{\\hat{ M }_{dB} = \\begin{cases} \\frac{20 \\log{\\left(a \\right)}}{\\log{\\left(10 \\right)}} & \\text{for}\\: a \\geq \\omega \\\\\\frac{20 \\log{\\left(\\omega \\right)}}{\\log{\\left(10 \\right)}} & \\text{otherwise} \\end{cases}}$"
      ],
      "text/plain": [
       "<IPython.core.display.Math object>"
      ]
     },
     "metadata": {},
     "output_type": "display_data"
    }
   ],
   "source": [
    "Mhatdb4 = Piecewise((20 * log(a, 10), omega <= a),\n",
    "                    (20 * log(omega, 10), True))\n",
    "mprintb(\"\\\\hat{ M }_{dB} = \", latex(Mhatdb4))"
   ]
  },
  {
   "cell_type": "code",
   "execution_count": 159,
   "metadata": {
    "editable": true,
    "slideshow": {
     "slide_type": ""
    },
    "tags": [
     "hide-input"
    ]
   },
   "outputs": [
    {
     "data": {
      "image/png": "[encoded data removed]",
      "text/plain": [
       "<Figure size 400x200 with 1 Axes>"
      ]
     },
     "metadata": {},
     "output_type": "display_data"
    }
   ],
   "source": [
    "title = '$M_{dB}$'\n",
    "p1 = plot(Mdb4.subs(a, a_),    (omega, a_/100 , 100*a_), size=(4, 2), title=title, show=False,  xscale='log')\n",
    "p2 = plot(Mhatdb4.subs(a, a_), (omega, a_/100 , 100*a_), show=False)\n",
    "p1.append(p2[0])\n",
    "p1.show()"
   ]
  },
  {
   "cell_type": "markdown",
   "metadata": {},
   "source": [
    "**Phase plot:**"
   ]
  },
  {
   "cell_type": "code",
   "execution_count": 160,
   "metadata": {},
   "outputs": [
    {
     "data": {
      "text/latex": [
       "$\\displaystyle \\boxed{\\hat{ \\phi } = \\begin{cases} 0 & \\text{for}\\: 0.1 a \\geq 1.0 \\omega \\\\\\frac{\\pi \\log{\\left(\\frac{10.0 \\omega}{a} \\right)}}{4 \\log{\\left(10 \\right)}} & \\text{for}\\: \\omega < 10 a \\\\\\frac{\\pi}{2} & \\text{otherwise} \\end{cases}}$"
      ],
      "text/plain": [
       "<IPython.core.display.Math object>"
      ]
     },
     "metadata": {},
     "output_type": "display_data"
    }
   ],
   "source": [
    "Phihat4 = Piecewise((0, omega <= 0.1*a),\n",
    "                    (pi/4 * log(omega/(0.1*a), 10) , omega < a*10), \n",
    "                    (pi/2, True))\n",
    "mprintb(\"\\\\hat{ \\\\phi } = \", latex(simplify(Phihat4)))"
   ]
  },
  {
   "cell_type": "code",
   "execution_count": 161,
   "metadata": {
    "editable": true,
    "slideshow": {
     "slide_type": ""
    },
    "tags": [
     "hide-input"
    ]
   },
   "outputs": [
    {
     "data": {
      "image/png": "[encoded data removed]",
      "text/plain": [
       "<Figure size 400x200 with 1 Axes>"
      ]
     },
     "metadata": {},
     "output_type": "display_data"
    }
   ],
   "source": [
    "title = '$ \\\\phi $'\n",
    "p1 = plot(Phi4.subs(a, a_),    (omega, a_/100 , 100*a_), size=(4, 2), title=title, show=False,  xscale='log')\n",
    "p2 = plot(Phihat4.subs(a, a_), (omega, a_/100 , 100*a_), show=False)\n",
    "p1.append(p2[0])\n",
    "p1.show()"
   ]
  },
  {
   "cell_type": "markdown",
   "metadata": {},
   "source": [
    "## Case 5: Complex Conjugate Pole Pair"
   ]
  },
  {
   "cell_type": "markdown",
   "metadata": {},
   "source": [
    "Let us start by first defining the transfer function:"
   ]
  },
  {
   "cell_type": "code",
   "execution_count": 162,
   "metadata": {},
   "outputs": [
    {
     "data": {
      "text/latex": [
       "$\\displaystyle H(s)=\\frac{1}{\\omega_{n}^{2} + 2 \\omega_{n} s \\zeta + s^{2}}$"
      ],
      "text/plain": [
       "<IPython.core.display.Math object>"
      ]
     },
     "metadata": {},
     "output_type": "display_data"
    }
   ],
   "source": [
    "H5 = 1 / (s**2 + 2*zeta*omega_n*s + omega_n**2)\n",
    "mprint('H(s)=', latex(H5))"
   ]
  },
  {
   "cell_type": "markdown",
   "metadata": {},
   "source": [
    "By substituting $s$ with $j \\omega$, we can obtain:"
   ]
  },
  {
   "cell_type": "code",
   "execution_count": 163,
   "metadata": {},
   "outputs": [
    {
     "data": {
      "text/latex": [
       "$\\displaystyle M =\\frac{1}{\\sqrt{\\omega^{4} + 4 \\omega^{2} \\omega_{n}^{2} \\zeta^{2} - 2 \\omega^{2} \\omega_{n}^{2} + \\omega_{n}^{4}}}$"
      ],
      "text/plain": [
       "<IPython.core.display.Math object>"
      ]
     },
     "metadata": {},
     "output_type": "display_data"
    },
    {
     "data": {
      "text/latex": [
       "$\\displaystyle M_{dB} =- \\frac{10 \\log{\\left(\\omega^{4} + 4 \\omega^{2} \\omega_{n}^{2} \\zeta^{2} - 2 \\omega^{2} \\omega_{n}^{2} + \\omega_{n}^{4} \\right)}}{\\log{\\left(10 \\right)}}$"
      ],
      "text/plain": [
       "<IPython.core.display.Math object>"
      ]
     },
     "metadata": {},
     "output_type": "display_data"
    },
    {
     "data": {
      "text/latex": [
       "$\\displaystyle \\phi =\\arg{\\left(\\frac{1}{- \\omega^{2} + 2 i \\omega \\omega_{n} \\zeta + \\omega_{n}^{2}} \\right)}$"
      ],
      "text/plain": [
       "<IPython.core.display.Math object>"
      ]
     },
     "metadata": {},
     "output_type": "display_data"
    }
   ],
   "source": [
    "Hjw  = H5.subs(s, I*omega)\n",
    "M5   = simplify(Abs(Hjw))\n",
    "Mdb5 = expand_log(20 * log(M5, 10))\n",
    "Phi5 = arg(Hjw)\n",
    "mprint(\"M =\", latex(M5))\n",
    "mprint(\"M_{dB} =\", latex(Mdb5))\n",
    "mprint(\"\\\\phi =\", latex(Phi5))"
   ]
  },
  {
   "cell_type": "markdown",
   "metadata": {},
   "source": [
    "**Resonance peak:**"
   ]
  },
  {
   "cell_type": "markdown",
   "metadata": {},
   "source": [
    "* Complex conjugate pole pair occurs when $\\zeta < 1$.\n",
    "\n",
    "* When $\\zeta < 1$, the system becomes underdamped and resonace peak appears in the magnitude plot.\n",
    "\n",
    "* Resonance peak appears at $\\omega_p$ and its peak magnitude is $M_p$."
   ]
  },
  {
   "cell_type": "code",
   "execution_count": 164,
   "metadata": {},
   "outputs": [
    {
     "data": {
      "text/latex": [
       "$\\displaystyle \\boxed{\\omega_p=\\omega_{n} \\sqrt{1 - 2 \\zeta^{2}}}$"
      ],
      "text/plain": [
       "<IPython.core.display.Math object>"
      ]
     },
     "metadata": {},
     "output_type": "display_data"
    }
   ],
   "source": [
    "omega_p5 = solve(Eq(diff(M5, omega), 0), omega)\n",
    "mprintb(\"\\\\omega_p=\", latex(omega_p5[0]))"
   ]
  },
  {
   "cell_type": "code",
   "execution_count": 165,
   "metadata": {},
   "outputs": [
    {
     "data": {
      "text/latex": [
       "$\\displaystyle \\boxed{M_p = \\frac{1}{2 \\omega_{n}^{2} \\zeta \\sqrt{1 - \\zeta^{2}}}}$"
      ],
      "text/plain": [
       "<IPython.core.display.Math object>"
      ]
     },
     "metadata": {},
     "output_type": "display_data"
    },
    {
     "data": {
      "text/latex": [
       "$\\displaystyle \\boxed{M_{p(dB)} = - \\frac{10 \\log{\\left(- 4 \\omega_{n}^{4} \\zeta^{2} \\left(\\zeta^{2} - 1\\right) \\right)}}{\\log{\\left(10 \\right)}}}$"
      ],
      "text/plain": [
       "<IPython.core.display.Math object>"
      ]
     },
     "metadata": {},
     "output_type": "display_data"
    }
   ],
   "source": [
    "Mp5 = simplify(M5.subs(omega, omega_p5[0]))\n",
    "Mdbp5 =simplify(Mdb5.subs(omega, omega_p5[0]))\n",
    "mprintb(\"M_p = \", latex(Mp5))\n",
    "mprintb(\"M_{p(dB)} = \", latex(Mdbp5))"
   ]
  },
  {
   "cell_type": "markdown",
   "metadata": {},
   "source": [
    "Now, let's express the asymptotic Bode plot as piecewise functions. At the moment, we will do this by intuition."
   ]
  },
  {
   "cell_type": "code",
   "execution_count": 166,
   "metadata": {},
   "outputs": [
    {
     "data": {
      "text/latex": [
       "$\\displaystyle \\boxed{\\hat{ M }_{dB} ( \\omega ) = \\begin{cases} - \\frac{40 \\log{\\left(\\omega_{n} \\right)}}{\\log{\\left(10 \\right)}} & \\text{for}\\: \\omega \\leq \\omega_{n} \\\\- \\frac{40 \\log{\\left(\\omega \\right)}}{\\log{\\left(10 \\right)}} & \\text{otherwise} \\end{cases}}$"
      ],
      "text/plain": [
       "<IPython.core.display.Math object>"
      ]
     },
     "metadata": {},
     "output_type": "display_data"
    }
   ],
   "source": [
    "Mhatdb5 = Piecewise((-40 * log(omega_n, 10), omega <= omega_n),\n",
    "                    (-40 * log(omega, 10), omega > omega_n))\n",
    "mprintb(\"\\\\hat{ M }_{dB} ( \\\\omega ) = \", latex(Mhatdb5))"
   ]
  },
  {
   "cell_type": "markdown",
   "metadata": {},
   "source": [
    "**Magnitude plot:**"
   ]
  },
  {
   "cell_type": "markdown",
   "metadata": {},
   "source": [
    "For plotting, we need to define some numerical values for:"
   ]
  },
  {
   "cell_type": "code",
   "execution_count": 167,
   "metadata": {},
   "outputs": [],
   "source": [
    "omega_n_ = 1\n",
    "zeta_ = [0.1, 0.2, 0.5] # plot for several values"
   ]
  },
  {
   "cell_type": "code",
   "execution_count": 168,
   "metadata": {
    "editable": true,
    "slideshow": {
     "slide_type": ""
    },
    "tags": [
     "hide-input"
    ]
   },
   "outputs": [
    {
     "data": {
      "image/png": "[encoded data removed]",
      "text/plain": [
       "<Figure size 500x300 with 1 Axes>"
      ]
     },
     "metadata": {},
     "output_type": "display_data"
    }
   ],
   "source": [
    "title = '$ M_{dB} $'\n",
    "p1 = plot(Mdb5.subs(([omega_n, omega_n_],[zeta, zeta_[0]])),    (omega, omega_n_/10 , 10*omega_n_), line_color='r', size=(5, 3), title=title, show=False,  xscale='log', legend=True)\n",
    "p2 = plot(Mdb5.subs(([omega_n, omega_n_],[zeta, zeta_[1]])),    (omega, omega_n_/10 , 10*omega_n_), line_color='b', show=False)\n",
    "p3 = plot(Mdb5.subs(([omega_n, omega_n_],[zeta, zeta_[2]])),    (omega, omega_n_/10 , 10*omega_n_), line_color='g', show=False)\n",
    "p4 = plot(Mhatdb5.subs(([omega_n, omega_n_],[zeta, zeta_[0]])), (omega, omega_n_/10 , 10*omega_n_), line_color='k', show=False)\n",
    "\n",
    "p1[0].label = \"$\\\\zeta=\" + str(zeta_[0]) + \"$\"\n",
    "p2[0].label = \"$\\\\zeta=\" + str(zeta_[1]) + \"$\"\n",
    "p3[0].label = \"$\\\\zeta=\" + str(zeta_[2]) + \"$\"\n",
    "p4[0].label = \"\"\n",
    "\n",
    "p1.append(p2[0])\n",
    "p1.append(p3[0])\n",
    "p1.append(p4[0])\n",
    "\n",
    "p1.show()"
   ]
  },
  {
   "cell_type": "markdown",
   "metadata": {},
   "source": [
    "The general shape of the asymptotic magnitude plot is not affected by $\\zeta$.\n",
    " \n",
    "We are not going to include the resonance peak for the asymptotic plots. However, we can still compute this peak value by using the equation expressed by $M_{p(dB)}$:"
   ]
  },
  {
   "cell_type": "code",
   "execution_count": 169,
   "metadata": {},
   "outputs": [
    {
     "name": "stdout",
     "output_type": "stream",
     "text": [
      "14.0230481407449\n",
      "8.13608784304507\n",
      "1.24938736608300\n"
     ]
    }
   ],
   "source": [
    "print(Mdbp5.subs(([omega_n, omega_n_],[zeta, zeta_[0]])).evalf()) # for zeta[0]\n",
    "print(Mdbp5.subs(([omega_n, omega_n_],[zeta, zeta_[1]])).evalf()) # for zeta[1]\n",
    "print(Mdbp5.subs(([omega_n, omega_n_],[zeta, zeta_[2]])).evalf()) # for zeta[2]"
   ]
  },
  {
   "cell_type": "markdown",
   "metadata": {},
   "source": [
    "Resonance peak happens at $\\omega = \\omega_{p}$:"
   ]
  },
  {
   "cell_type": "code",
   "execution_count": 170,
   "metadata": {},
   "outputs": [
    {
     "name": "stdout",
     "output_type": "stream",
     "text": [
      "0.989949493661167\n"
     ]
    }
   ],
   "source": [
    "print(omega_p5[0].subs(([omega_n, omega_n_],[zeta, zeta_[0]])).evalf())"
   ]
  },
  {
   "cell_type": "markdown",
   "metadata": {},
   "source": [
    "**Phase plot:**"
   ]
  },
  {
   "cell_type": "code",
   "execution_count": 171,
   "metadata": {},
   "outputs": [
    {
     "data": {
      "text/latex": [
       "$\\displaystyle \\boxed{\\hat{ \\phi } ( \\omega ) = \\begin{cases} 0 & \\text{for}\\: \\omega \\leq 10^{- \\zeta} \\omega_{n} \\\\- \\frac{\\pi \\log{\\left(\\frac{10^{\\zeta} \\omega}{\\omega_{n}} \\right)}}{2 \\zeta \\log{\\left(10 \\right)}} & \\text{for}\\: \\omega < 10^{\\zeta} \\omega_{n} \\\\- \\pi & \\text{otherwise} \\end{cases}}$"
      ],
      "text/plain": [
       "<IPython.core.display.Math object>"
      ]
     },
     "metadata": {},
     "output_type": "display_data"
    }
   ],
   "source": [
    "Phihat5 = Piecewise((0, omega <= (omega_n / 10**zeta)),\n",
    "                    (-pi/(2*zeta) * log(omega/(10**(-zeta)*omega_n), 10) , omega < (omega_n*10**zeta)), \n",
    "                    (-pi, True))\n",
    "mprintb(\"\\\\hat{ \\\\phi } ( \\\\omega ) = \", latex(Phihat5))"
   ]
  },
  {
   "cell_type": "code",
   "execution_count": 172,
   "metadata": {
    "editable": true,
    "slideshow": {
     "slide_type": ""
    },
    "tags": [
     "hide-input"
    ]
   },
   "outputs": [
    {
     "data": {
      "image/png": "[encoded data removed]",
      "text/plain": [
       "<Figure size 500x300 with 1 Axes>"
      ]
     },
     "metadata": {},
     "output_type": "display_data"
    }
   ],
   "source": [
    "title = '$ \\\\phi $'\n",
    "p1 = plot(Phi5.subs(([omega_n, omega_n_],[zeta, zeta_[0]])),    (omega, omega_n_/10 , 10*omega_n_), line_color='r', size=(5, 3), title=title, show=False,  xscale='log', legend=True)\n",
    "p2 = plot(Phi5.subs(([omega_n, omega_n_],[zeta, zeta_[1]])),    (omega, omega_n_/10 , 10*omega_n_), line_color='b', show=False)\n",
    "p3 = plot(Phi5.subs(([omega_n, omega_n_],[zeta, zeta_[2]])),    (omega, omega_n_/10 , 10*omega_n_), line_color='g', show=False)\n",
    "\n",
    "p4 = plot(Phihat5.subs(([omega_n, omega_n_],[zeta, zeta_[0]])), (omega, omega_n_/10 , 10*omega_n_), line_color='k', show=False)\n",
    "p5 = plot(Phihat5.subs(([omega_n, omega_n_],[zeta, zeta_[1]])), (omega, omega_n_/10 , 10*omega_n_), line_color='k', show=False)\n",
    "p6 = plot(Phihat5.subs(([omega_n, omega_n_],[zeta, zeta_[2]])), (omega, omega_n_/10 , 10*omega_n_), line_color='k', show=False)\n",
    "\n",
    "\n",
    "p1[0].label = \"$\\\\zeta=\" + str(zeta_[0]) + \"$\"\n",
    "p2[0].label = \"$\\\\zeta=\" + str(zeta_[1]) + \"$\"\n",
    "p3[0].label = \"$\\\\zeta=\" + str(zeta_[2]) + \"$\"\n",
    "p4[0].label = \"\"\n",
    "p5[0].label = \"\"\n",
    "p6[0].label = \"\"\n",
    "\n",
    "p1.append(p2[0])\n",
    "p1.append(p3[0])\n",
    "p1.append(p4[0])\n",
    "p1.append(p5[0])\n",
    "p1.append(p6[0])\n",
    "\n",
    "p1.show()"
   ]
  },
  {
   "cell_type": "markdown",
   "metadata": {},
   "source": [
    "## Case 6: Complex Conjugate Zero Pair"
   ]
  },
  {
   "cell_type": "markdown",
   "metadata": {},
   "source": [
    "Let us start by first defining the transfer function:"
   ]
  },
  {
   "cell_type": "code",
   "execution_count": 173,
   "metadata": {},
   "outputs": [
    {
     "data": {
      "text/latex": [
       "$\\displaystyle H(s)=\\omega_{n}^{2} + 2 \\omega_{n} s \\zeta + s^{2}$"
      ],
      "text/plain": [
       "<IPython.core.display.Math object>"
      ]
     },
     "metadata": {},
     "output_type": "display_data"
    }
   ],
   "source": [
    "H6 = (s**2 + 2*zeta*omega_n*s + omega_n**2) \n",
    "mprint('H(s)=', latex(H6))"
   ]
  },
  {
   "cell_type": "code",
   "execution_count": 174,
   "metadata": {},
   "outputs": [
    {
     "data": {
      "text/latex": [
       "$\\displaystyle M  =\\sqrt{\\omega^{4} + 4 \\omega^{2} \\omega_{n}^{2} \\zeta^{2} - 2 \\omega^{2} \\omega_{n}^{2} + \\omega_{n}^{4}}$"
      ],
      "text/plain": [
       "<IPython.core.display.Math object>"
      ]
     },
     "metadata": {},
     "output_type": "display_data"
    },
    {
     "data": {
      "text/latex": [
       "$\\displaystyle M_{dB}  =\\frac{10 \\log{\\left(\\omega^{4} + 4 \\omega^{2} \\omega_{n}^{2} \\zeta^{2} - 2 \\omega^{2} \\omega_{n}^{2} + \\omega_{n}^{4} \\right)}}{\\log{\\left(10 \\right)}}$"
      ],
      "text/plain": [
       "<IPython.core.display.Math object>"
      ]
     },
     "metadata": {},
     "output_type": "display_data"
    },
    {
     "data": {
      "text/latex": [
       "$\\displaystyle \\phi  =\\arg{\\left(- \\omega^{2} + 2 i \\omega \\omega_{n} \\zeta + \\omega_{n}^{2} \\right)}$"
      ],
      "text/plain": [
       "<IPython.core.display.Math object>"
      ]
     },
     "metadata": {},
     "output_type": "display_data"
    }
   ],
   "source": [
    "Hjw  = H6.subs(s, I*omega)\n",
    "M6   = simplify(Abs(Hjw))\n",
    "Mdb6 = simplify(20 * log(M6, 10))\n",
    "Phi6 = arg(Hjw)\n",
    "mprint(\"M  =\", latex(M6))\n",
    "mprint(\"M_{dB}  =\", latex(Mdb6))\n",
    "mprint(\"\\\\phi  =\", latex(Phi6))"
   ]
  },
  {
   "cell_type": "markdown",
   "metadata": {},
   "source": [
    "**Resonance peak:**"
   ]
  },
  {
   "cell_type": "markdown",
   "metadata": {},
   "source": [
    "Complex conjugate zero pair occurs when $\\zeta < 1$. Resonance peak appears in the Bode magnitude plot at $\\omega = \\omega_n$. The magnitude at this resonance peak can be computed as: "
   ]
  },
  {
   "cell_type": "code",
   "execution_count": 175,
   "metadata": {},
   "outputs": [
    {
     "data": {
      "text/latex": [
       "$\\displaystyle \\boxed{\\omega_p=\\omega_{n} \\sqrt{1 - 2 \\zeta^{2}}}$"
      ],
      "text/plain": [
       "<IPython.core.display.Math object>"
      ]
     },
     "metadata": {},
     "output_type": "display_data"
    }
   ],
   "source": [
    "omega_p6 = solve(Eq(diff(M6, omega), 0), omega)\n",
    "mprintb(\"\\\\omega_p=\", latex(omega_p6[0]))"
   ]
  },
  {
   "cell_type": "code",
   "execution_count": 176,
   "metadata": {},
   "outputs": [
    {
     "data": {
      "text/latex": [
       "$\\displaystyle \\boxed{M_p = 2 \\omega_{n}^{2} \\zeta \\sqrt{1 - \\zeta^{2}}}$"
      ],
      "text/plain": [
       "<IPython.core.display.Math object>"
      ]
     },
     "metadata": {},
     "output_type": "display_data"
    },
    {
     "data": {
      "text/latex": [
       "$\\displaystyle \\boxed{M_{p(dB)} = \\frac{10 \\log{\\left(4 \\omega_{n}^{4} \\zeta^{2} \\left(1 - \\zeta^{2}\\right) \\right)}}{\\log{\\left(10 \\right)}}}$"
      ],
      "text/plain": [
       "<IPython.core.display.Math object>"
      ]
     },
     "metadata": {},
     "output_type": "display_data"
    }
   ],
   "source": [
    "Mp6 = simplify(M6.subs(omega, omega_p6[0]))\n",
    "Mdbp6 =simplify(Mdb6.subs(omega, omega_p6[0]))\n",
    "mprintb(\"M_p = \", latex(Mp6))\n",
    "mprintb(\"M_{p(dB)} = \", latex(Mdbp6))"
   ]
  },
  {
   "cell_type": "markdown",
   "metadata": {},
   "source": [
    "**Magnitude plot:**"
   ]
  },
  {
   "cell_type": "markdown",
   "metadata": {},
   "source": [
    "We first present the piecewise logarithmic representation of the asymptotic Bode plot. After that, we present the plot for several diffrent values for $\\zeta$."
   ]
  },
  {
   "cell_type": "code",
   "execution_count": 177,
   "metadata": {},
   "outputs": [
    {
     "data": {
      "text/latex": [
       "$\\displaystyle \\boxed{\\hat{ M } ( \\omega ) = \\begin{cases} \\frac{40 \\log{\\left(\\omega_{n} \\right)}}{\\log{\\left(10 \\right)}} & \\text{for}\\: \\omega < \\omega_{n} \\\\\\frac{40 \\log{\\left(\\omega \\right)}}{\\log{\\left(10 \\right)}} & \\text{otherwise} \\end{cases}}$"
      ],
      "text/plain": [
       "<IPython.core.display.Math object>"
      ]
     },
     "metadata": {},
     "output_type": "display_data"
    }
   ],
   "source": [
    "Mhatdb6 = Piecewise((40 * log(omega_n, 10), omega < omega_n),\n",
    "                    (40 * log(omega, 10), omega >= omega_n))\n",
    "mprintb(\"\\\\hat{ M } ( \\\\omega ) = \", latex(Mhatdb6))"
   ]
  },
  {
   "cell_type": "code",
   "execution_count": 178,
   "metadata": {
    "editable": true,
    "slideshow": {
     "slide_type": ""
    },
    "tags": [
     "hide-input"
    ]
   },
   "outputs": [
    {
     "data": {
      "image/png": "[encoded data removed]",
      "text/plain": [
       "<Figure size 500x300 with 1 Axes>"
      ]
     },
     "metadata": {},
     "output_type": "display_data"
    }
   ],
   "source": [
    "title = '$ M_{dB} $'\n",
    "p1 = plot(Mdb6.subs(([omega_n, omega_n_],[zeta, zeta_[0]])),    (omega, omega_n_/10 , 10*omega_n_), line_color='r', size=(5, 3), title=title, show=False,  xscale='log', legend=True)\n",
    "p2 = plot(Mdb6.subs(([omega_n, omega_n_],[zeta, zeta_[1]])),    (omega, omega_n_/10 , 10*omega_n_), line_color='b', show=False)\n",
    "p3 = plot(Mdb6.subs(([omega_n, omega_n_],[zeta, zeta_[2]])),    (omega, omega_n_/10 , 10*omega_n_), line_color='g', show=False)\n",
    "p4 = plot(Mhatdb6.subs(([omega_n, omega_n_],[zeta, zeta_[0]])), (omega, omega_n_/10 , 10*omega_n_), line_color='k', show=False)\n",
    "\n",
    "p1[0].label = \"$\\\\zeta=\" + str(zeta_[0]) + \"$\"\n",
    "p2[0].label = \"$\\\\zeta=\" + str(zeta_[1]) + \"$\"\n",
    "p3[0].label = \"$\\\\zeta=\" + str(zeta_[2]) + \"$\"\n",
    "p4[0].label = \"\"\n",
    "\n",
    "p1.append(p2[0])\n",
    "p1.append(p3[0])\n",
    "p1.append(p4[0])\n",
    "\n",
    "p1.show()"
   ]
  },
  {
   "cell_type": "markdown",
   "metadata": {},
   "source": [
    "The general shape of the asymptotic magnitude plot is not affected by $\\zeta$.\n",
    " \n",
    "We are not going to include the resonance peak for the asymptotic plots. However, we can still compute this peak value by using the equation expressed by $M_{p(dB)}$:"
   ]
  },
  {
   "cell_type": "code",
   "execution_count": 179,
   "metadata": {},
   "outputs": [
    {
     "name": "stdout",
     "output_type": "stream",
     "text": [
      "-14.0230481407449\n",
      "-8.13608784304507\n",
      "-1.24938736608300\n"
     ]
    }
   ],
   "source": [
    "print(Mdbp6.subs(([omega_n, omega_n_],[zeta, zeta_[0]])).evalf()) # for zeta[0]\n",
    "print(Mdbp6.subs(([omega_n, omega_n_],[zeta, zeta_[1]])).evalf()) # for zeta[1]\n",
    "print(Mdbp6.subs(([omega_n, omega_n_],[zeta, zeta_[2]])).evalf()) # for zeta[2]"
   ]
  },
  {
   "cell_type": "markdown",
   "metadata": {},
   "source": [
    "Resonance peak happens at $\\omega = \\omega_{p}$:"
   ]
  },
  {
   "cell_type": "code",
   "execution_count": 180,
   "metadata": {},
   "outputs": [
    {
     "name": "stdout",
     "output_type": "stream",
     "text": [
      "0.989949493661167\n"
     ]
    }
   ],
   "source": [
    "print(omega_p6[0].subs(([omega_n, omega_n_],[zeta, zeta_[0]])).evalf())"
   ]
  },
  {
   "cell_type": "markdown",
   "metadata": {},
   "source": [
    "**Phase plot:**"
   ]
  },
  {
   "cell_type": "markdown",
   "metadata": {},
   "source": [
    "Similar to the prevoius section, we first present the piecewise logarithmic representation of the asymptotic Bode plot. After that, we present the plot for several diffrent values for $\\zeta$."
   ]
  },
  {
   "cell_type": "code",
   "execution_count": 181,
   "metadata": {},
   "outputs": [
    {
     "data": {
      "text/latex": [
       "$\\displaystyle \\boxed{\\hat{ \\phi } ( \\omega ) = \\begin{cases} 0 & \\text{for}\\: \\omega \\leq 10^{- \\zeta} \\omega_{n} \\\\\\frac{\\pi \\log{\\left(\\frac{10^{\\zeta} \\omega}{\\omega_{n}} \\right)}}{2 \\zeta \\log{\\left(10 \\right)}} & \\text{for}\\: \\omega < 10^{\\zeta} \\omega_{n} \\\\\\pi & \\text{otherwise} \\end{cases}}$"
      ],
      "text/plain": [
       "<IPython.core.display.Math object>"
      ]
     },
     "metadata": {},
     "output_type": "display_data"
    }
   ],
   "source": [
    "Phihat6 = Piecewise((0, omega <= (omega_n / 10**zeta)),\n",
    "                    (pi/(2*zeta) * log(omega/(10**(-zeta)*omega_n), 10) , omega < (omega_n*10**zeta)), \n",
    "                    (pi, True))\n",
    "mprintb(\"\\\\hat{ \\\\phi } ( \\\\omega ) = \", latex(Phihat6))"
   ]
  },
  {
   "cell_type": "code",
   "execution_count": 182,
   "metadata": {
    "editable": true,
    "slideshow": {
     "slide_type": ""
    },
    "tags": [
     "hide-input"
    ]
   },
   "outputs": [
    {
     "data": {
      "image/png": "[encoded data removed]",
      "text/plain": [
       "<Figure size 500x300 with 1 Axes>"
      ]
     },
     "metadata": {},
     "output_type": "display_data"
    }
   ],
   "source": [
    "title = '$ \\\\phi $'\n",
    "p1 = plot(Phi6.subs(([omega_n, omega_n_],[zeta, zeta_[0]])),    (omega, omega_n_/10 , 10*omega_n_), line_color='r', size=(5, 3), title=title, show=False,  xscale='log', legend=True)\n",
    "p2 = plot(Phi6.subs(([omega_n, omega_n_],[zeta, zeta_[1]])),    (omega, omega_n_/10 , 10*omega_n_), line_color='b', show=False)\n",
    "p3 = plot(Phi6.subs(([omega_n, omega_n_],[zeta, zeta_[2]])),    (omega, omega_n_/10 , 10*omega_n_), line_color='g', show=False)\n",
    "\n",
    "p4 = plot(Phihat6.subs(([omega_n, omega_n_],[zeta, zeta_[0]])), (omega, omega_n_/10 , 10*omega_n_), line_color='k', show=False)\n",
    "p5 = plot(Phihat6.subs(([omega_n, omega_n_],[zeta, zeta_[1]])), (omega, omega_n_/10 , 10*omega_n_), line_color='k', show=False)\n",
    "p6 = plot(Phihat6.subs(([omega_n, omega_n_],[zeta, zeta_[2]])), (omega, omega_n_/10 , 10*omega_n_), line_color='k', show=False)\n",
    "\n",
    "p1.append(p2[0])\n",
    "p1.append(p3[0])\n",
    "p1.append(p4[0])\n",
    "p1.append(p5[0])\n",
    "p1.append(p6[0])\n",
    "\n",
    "p1[0].label = \"$\\\\zeta=\" + str(zeta_[0]) + \"$\"\n",
    "p2[0].label = \"$\\\\zeta=\" + str(zeta_[1]) + \"$\"\n",
    "p3[0].label = \"$\\\\zeta=\" + str(zeta_[2]) + \"$\"\n",
    "p4[0].label = \"\"\n",
    "p5[0].label = \"\"\n",
    "p6[0].label = \"\"\n",
    "\n",
    "\n",
    "p1.show()"
   ]
  },
  {
   "cell_type": "markdown",
   "metadata": {
    "editable": true,
    "slideshow": {
     "slide_type": ""
    },
    "tags": []
   },
   "source": [
    "## Summary"
   ]
  },
  {
   "cell_type": "markdown",
   "metadata": {
    "editable": true,
    "slideshow": {
     "slide_type": ""
    },
    "tags": []
   },
   "source": [
    "Finally, let us summarize all boxed formulas."
   ]
  },
  {
   "cell_type": "markdown",
   "metadata": {
    "editable": true,
    "slideshow": {
     "slide_type": ""
    },
    "tags": []
   },
   "source": [
    "### Asymptotic Bode as piecewise functions"
   ]
  },
  {
   "cell_type": "markdown",
   "metadata": {},
   "source": [
    "The following table shows piecewise approximations of a Bode plot."
   ]
  },
  {
   "cell_type": "code",
   "execution_count": 183,
   "metadata": {
    "editable": true,
    "slideshow": {
     "slide_type": ""
    },
    "tags": [
     "hide-input"
    ]
   },
   "outputs": [
    {
     "data": {
      "text/markdown": [
       "| $ H(s) $                                                  | $ M_{dB} $                                                                                                                                                                                                               | $ \\phi $                                                                                                                                                                                                                                                          |\n",
       "|:----------------------------------------------------------|:-------------------------------------------------------------------------------------------------------------------------------------------------------------------------------------------------------------------------|:------------------------------------------------------------------------------------------------------------------------------------------------------------------------------------------------------------------------------------------------------------------|\n",
       "| $\\frac{1}{s}$                                             | $- \\frac{20 \\log{\\left(\\omega \\right)}}{\\log{\\left(10 \\right)}}$                                                                                                                                                         | $- \\frac{\\pi}{2}$                                                                                                                                                                                                                                                 |\n",
       "| $s$                                                       | $\\frac{20 \\log{\\left(\\omega \\right)}}{\\log{\\left(10 \\right)}}$                                                                                                                                                           | $\\frac{\\pi}{2}$                                                                                                                                                                                                                                                   |\n",
       "| $\\frac{1}{a + s}$                                         | $\\begin{cases} - \\frac{20 \\log{\\left(a \\right)}}{\\log{\\left(10 \\right)}} & \\text{for}\\: a \\geq \\omega \\\\- \\frac{20 \\log{\\left(\\omega \\right)}}{\\log{\\left(10 \\right)}} & \\text{otherwise} \\end{cases}$                   | $\\begin{cases} 0 & \\text{for}\\: \\omega \\leq 0.1 a \\\\- \\frac{\\pi \\log{\\left(\\frac{10.0 \\omega}{a} \\right)}}{4 \\log{\\left(10 \\right)}} & \\text{for}\\: \\omega < 10 a \\\\- \\frac{\\pi}{2} & \\text{otherwise} \\end{cases}$                                               |\n",
       "| $a + s$                                                   | $\\begin{cases} \\frac{20 \\log{\\left(a \\right)}}{\\log{\\left(10 \\right)}} & \\text{for}\\: a \\geq \\omega \\\\\\frac{20 \\log{\\left(\\omega \\right)}}{\\log{\\left(10 \\right)}} & \\text{otherwise} \\end{cases}$                       | $\\begin{cases} 0 & \\text{for}\\: \\omega \\leq 0.1 a \\\\\\frac{\\pi \\log{\\left(\\frac{10.0 \\omega}{a} \\right)}}{4 \\log{\\left(10 \\right)}} & \\text{for}\\: \\omega < 10 a \\\\\\frac{\\pi}{2} & \\text{otherwise} \\end{cases}$                                                   |\n",
       "| $\\frac{1}{\\omega_{n}^{2} + 2 \\omega_{n} s \\zeta + s^{2}}$ | $\\begin{cases} - \\frac{40 \\log{\\left(\\omega_{n} \\right)}}{\\log{\\left(10 \\right)}} & \\text{for}\\: \\omega \\leq \\omega_{n} \\\\- \\frac{40 \\log{\\left(\\omega \\right)}}{\\log{\\left(10 \\right)}} & \\text{otherwise} \\end{cases}$ | $\\begin{cases} 0 & \\text{for}\\: \\omega \\leq 10^{- \\zeta} \\omega_{n} \\\\- \\frac{\\pi \\log{\\left(\\frac{10^{\\zeta} \\omega}{\\omega_{n}} \\right)}}{2 \\zeta \\log{\\left(10 \\right)}} & \\text{for}\\: \\omega < 10^{\\zeta} \\omega_{n} \\\\- \\pi & \\text{otherwise} \\end{cases}$ |\n",
       "| $\\omega_{n}^{2} + 2 \\omega_{n} s \\zeta + s^{2}$           | $\\begin{cases} \\frac{40 \\log{\\left(\\omega_{n} \\right)}}{\\log{\\left(10 \\right)}} & \\text{for}\\: \\omega < \\omega_{n} \\\\\\frac{40 \\log{\\left(\\omega \\right)}}{\\log{\\left(10 \\right)}} & \\text{otherwise} \\end{cases}$        | $\\begin{cases} 0 & \\text{for}\\: \\omega \\leq 10^{- \\zeta} \\omega_{n} \\\\\\frac{\\pi \\log{\\left(\\frac{10^{\\zeta} \\omega}{\\omega_{n}} \\right)}}{2 \\zeta \\log{\\left(10 \\right)}} & \\text{for}\\: \\omega < 10^{\\zeta} \\omega_{n} \\\\\\pi & \\text{otherwise} \\end{cases}$     |"
      ],
      "text/plain": [
       "<IPython.core.display.Markdown object>"
      ]
     },
     "execution_count": 183,
     "metadata": {},
     "output_type": "execute_result"
    }
   ],
   "source": [
    "from pandas import DataFrame\n",
    "from IPython.display import Markdown\n",
    "\n",
    "def makelatex(args):\n",
    "    return [\"${}$\".format(latex(a)) for a in args]\n",
    "\n",
    "Hs   = [H1, H2, H3, H4, H5, H6]\n",
    "Mdbs = [Mdb1, Mdb2, Mhatdb3, Mhatdb4, Mhatdb5, Mhatdb6]\n",
    "Phis = [Phi1, Phi2, Phihat3, Phihat4, Phihat5, Phihat6]\n",
    "\n",
    "dic = {'$ H(s) $': makelatex(Hs), \n",
    "       '$ M_{dB} $': makelatex(Mdbs), \n",
    "       '$ \\\\phi $': makelatex(Phis)}\n",
    "\n",
    "df = DataFrame(dic)\n",
    "Markdown(df.to_markdown(index=False))"
   ]
  },
  {
   "cell_type": "markdown",
   "metadata": {
    "editable": true,
    "slideshow": {
     "slide_type": ""
    },
    "tags": []
   },
   "source": [
    "### Resonance peaks"
   ]
  },
  {
   "cell_type": "markdown",
   "metadata": {},
   "source": [
    "The following table summarizes when a resonance occurs  and its peak value."
   ]
  },
  {
   "cell_type": "code",
   "execution_count": 184,
   "metadata": {
    "editable": true,
    "slideshow": {
     "slide_type": ""
    },
    "tags": [
     "hide-input"
    ]
   },
   "outputs": [
    {
     "data": {
      "text/markdown": [
       "| $H(s)$                                                    | $ \\omega_p $                        | $ M_p $                                                 | $ M_{p(dB)} $                                                                                                     |\n",
       "|:----------------------------------------------------------|:------------------------------------|:--------------------------------------------------------|:------------------------------------------------------------------------------------------------------------------|\n",
       "| $\\frac{1}{\\omega_{n}^{2} + 2 \\omega_{n} s \\zeta + s^{2}}$ | $\\omega_{n} \\sqrt{1 - 2 \\zeta^{2}}$ | $\\frac{1}{2 \\omega_{n}^{2} \\zeta \\sqrt{1 - \\zeta^{2}}}$ | $- \\frac{10 \\log{\\left(- 4 \\omega_{n}^{4} \\zeta^{2} \\left(\\zeta^{2} - 1\\right) \\right)}}{\\log{\\left(10 \\right)}}$ |\n",
       "| $\\omega_{n}^{2} + 2 \\omega_{n} s \\zeta + s^{2}$           | $\\omega_{n} \\sqrt{1 - 2 \\zeta^{2}}$ | $2 \\omega_{n}^{2} \\zeta \\sqrt{1 - \\zeta^{2}}$           | $\\frac{10 \\log{\\left(4 \\omega_{n}^{4} \\zeta^{2} \\left(1 - \\zeta^{2}\\right) \\right)}}{\\log{\\left(10 \\right)}}$     |"
      ],
      "text/plain": [
       "<IPython.core.display.Markdown object>"
      ]
     },
     "execution_count": 184,
     "metadata": {},
     "output_type": "execute_result"
    }
   ],
   "source": [
    "Hs   = [H5, H6]\n",
    "wp   = [omega_p5[0], omega_p6[0]]\n",
    "Mp   = [Mp5, Mp6]\n",
    "Mpdb = [Mdbp5, Mdbp6]\n",
    "\n",
    "dic = {'$H(s)$': makelatex(Hs), \n",
    "       '$ \\\\omega_p $': makelatex(wp), \n",
    "       '$ M_p $': makelatex(Mp),\n",
    "       '$ M_{p(dB)} $': makelatex(Mpdb)}\n",
    "\n",
    "df = DataFrame(dic)\n",
    "\n",
    "Markdown(df.to_markdown(index=False))"
   ]
  }
 ],
 "metadata": {
  "kernelspec": {
   "display_name": "ipykernel 3.12.4",
   "language": "python",
   "name": "py.3.12.4"
  },
  "language_info": {
   "codemirror_mode": {
    "name": "ipython",
    "version": 3
   },
   "file_extension": ".py",
   "mimetype": "text/x-python",
   "name": "python",
   "nbconvert_exporter": "python",
   "pygments_lexer": "ipython3",
   "version": "3.12.3"
  }
 },
 "nbformat": 4,
 "nbformat_minor": 4
}

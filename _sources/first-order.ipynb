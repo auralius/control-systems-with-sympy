{
 "cells": [
  {
   "cell_type": "markdown",
   "metadata": {},
   "source": [
    "# First-Order Systems"
   ]
  },
  {
   "cell_type": "markdown",
   "metadata": {},
   "source": [
    "## Required imports"
   ]
  },
  {
   "cell_type": "code",
   "execution_count": 1,
   "metadata": {},
   "outputs": [],
   "source": [
    "from IPython.core.display import HTML\n",
    "import numpy as np\n",
    "\n",
    "import matplotlib.pyplot as plt\n",
    "plt.rcParams.update({\n",
    "    \"text.usetex\": True,\n",
    "    \"font.family\": \"Helvetica\",\n",
    "    \"font.size\": 10,\n",
    "})\n",
    "\n",
    "from sympy import *\n",
    "from sympy.plotting import plot\n",
    "from sympy.abc import x, y\n",
    "\n",
    "from mathprint import *"
   ]
  },
  {
   "cell_type": "markdown",
   "metadata": {},
   "source": [
    "## Preparations"
   ]
  },
  {
   "cell_type": "markdown",
   "metadata": {},
   "source": [
    "Define variables that we are going to use repetitively:\n",
    "$s, t, \\tau$.\n",
    "We also need to define specific prpoperties of the variables."
   ]
  },
  {
   "cell_type": "code",
   "execution_count": 2,
   "metadata": {},
   "outputs": [],
   "source": [
    "t   = symbols('t', real=True)\n",
    "s   = symbols('s', complex=True)\n",
    "tau = symbols('tau', real=True)"
   ]
  },
  {
   "cell_type": "markdown",
   "metadata": {},
   "source": [
    "The original laplace transformation functions are a little too long. We will simplify the laplace and the inverse laplace transformation functions, as follows.\n",
    "*  ```laplace_transform(f, t, s, noconds=True)``` as ```laplace(f)```\n",
    "*  ```inverse_laplace_transform(F, s, t)``` as ```ilapalce(F)```"
   ]
  },
  {
   "cell_type": "code",
   "execution_count": 3,
   "metadata": {},
   "outputs": [],
   "source": [
    "def laplace(f):\n",
    "    F = laplace_transform(f, t, s, noconds=True)\n",
    "    return F\n",
    "\n",
    "def ilaplace(F):\n",
    "    f = inverse_laplace_transform(F, s, t)\n",
    "    return f"
   ]
  },
  {
   "cell_type": "markdown",
   "metadata": {},
   "source": [
    "## Special functions in SymPy\n",
    "\n",
    "We will use these two special functions very often:\n",
    "* $\\delta(t)$ is an impulse function or a Dirac Delta function\n",
    "* $\\theta(t)$ is a step function or a Heaviside function\n",
    "\n",
    "[We can find more information about these functions here](https://docs.sympy.org/latest/modules/functions/special.html)."
   ]
  },
  {
   "cell_type": "markdown",
   "metadata": {},
   "source": [
    "## First-order system equation"
   ]
  },
  {
   "cell_type": "markdown",
   "metadata": {},
   "source": [
    "A first-order system: "
   ]
  },
  {
   "cell_type": "code",
   "execution_count": 4,
   "metadata": {},
   "outputs": [
    {
     "data": {
      "text/latex": [
       "$\\displaystyle G(s)=\\frac{C(s)}{R(s)}=\\frac{1}{s \\tau + 1}$"
      ],
      "text/plain": [
       "<IPython.core.display.Math object>"
      ]
     },
     "metadata": {},
     "output_type": "display_data"
    }
   ],
   "source": [
    "G = 1 / (tau*s + 1)\n",
    "mprint('G(s)=\\\\frac{C(s)}{R(s)}=', latex(G))"
   ]
  },
  {
   "cell_type": "markdown",
   "metadata": {},
   "source": [
    "Here $R(s)$ and $C(s)$ are the input and output functions in $s$-domain, respectively. In time-domain, they become $r(t)$ and $c(t)$, respectively. The first order coefficient ( $\\tau$ ) is better known as the time constant."
   ]
  },
  {
   "cell_type": "markdown",
   "metadata": {
    "editable": true,
    "slideshow": {
     "slide_type": ""
    },
    "tags": []
   },
   "source": [
    "## Unit-impulse response\n",
    "\n",
    "What we do here:\n",
    "* define the input, which is a unit impulse function (Dirac Delta function)"
   ]
  },
  {
   "cell_type": "code",
   "execution_count": 5,
   "metadata": {},
   "outputs": [
    {
     "data": {
      "text/latex": [
       "$\\displaystyle r(t)=\\delta\\left(t\\right)$"
      ],
      "text/plain": [
       "<IPython.core.display.Math object>"
      ]
     },
     "metadata": {},
     "output_type": "display_data"
    }
   ],
   "source": [
    "r = DiracDelta(t)\n",
    "mprint('r(t)=', latex(r))"
   ]
  },
  {
   "cell_type": "markdown",
   "metadata": {},
   "source": [
    "* compute its Laplace form"
   ]
  },
  {
   "cell_type": "code",
   "execution_count": 6,
   "metadata": {},
   "outputs": [
    {
     "data": {
      "text/latex": [
       "$\\displaystyle R(s)=1$"
      ],
      "text/plain": [
       "<IPython.core.display.Math object>"
      ]
     },
     "metadata": {},
     "output_type": "display_data"
    }
   ],
   "source": [
    "R = laplace(r)\n",
    "mprint('R(s)=', latex(R))\n"
   ]
  },
  {
   "cell_type": "markdown",
   "metadata": {},
   "source": [
    "* apply the input to the sytem and obtain the output"
   ]
  },
  {
   "cell_type": "code",
   "execution_count": 7,
   "metadata": {},
   "outputs": [
    {
     "data": {
      "text/latex": [
       "$\\displaystyle C(s)=\\frac{1}{s \\tau + 1}$"
      ],
      "text/plain": [
       "<IPython.core.display.Math object>"
      ]
     },
     "metadata": {},
     "output_type": "display_data"
    }
   ],
   "source": [
    "C = G*R\n",
    "mprint('C(s)=', latex(C))"
   ]
  },
  {
   "cell_type": "markdown",
   "metadata": {},
   "source": [
    "* compute the inverse Laplace of the output"
   ]
  },
  {
   "cell_type": "code",
   "execution_count": 8,
   "metadata": {},
   "outputs": [
    {
     "data": {
      "text/latex": [
       "$\\displaystyle c(t)=\\frac{e^{- \\frac{t}{\\tau}} \\theta\\left(t\\right)}{\\tau}$"
      ],
      "text/plain": [
       "<IPython.core.display.Math object>"
      ]
     },
     "metadata": {},
     "output_type": "display_data"
    }
   ],
   "source": [
    "c = ilaplace(C)\n",
    "mprint('c(t)=', latex(c))"
   ]
  },
  {
   "cell_type": "markdown",
   "metadata": {},
   "source": [
    "For plotting the response, let us set $\\tau = 1$."
   ]
  },
  {
   "cell_type": "code",
   "execution_count": 9,
   "metadata": {},
   "outputs": [
    {
     "data": {
      "image/png": "[encoded data removed]",
      "text/plain": [
       "<Figure size 400x250 with 1 Axes>"
      ]
     },
     "metadata": {},
     "output_type": "display_data"
    }
   ],
   "source": [
    "tau_ = 1\n",
    "c1 = c.subs(tau, tau_)\n",
    "\n",
    "p1 = plot(c1, (t, 0 , 7), ylim=[-0.5, 2], size=(4, 2.5), ylabel='$c(t)$', show=False, legend=True)\n",
    "p2 = plot(-1/tau_**2*t + 1/tau_, (t, -1 , 7), show=False, legend=True)\n",
    "p1[0].label = '$c(t)='+latex(c1)+'$'\n",
    "p2[0].label = \"gradient at $t=0$, $\\\\dot{c}(0)=-1$\"\n",
    "p1.append(p2[0])\n",
    "\n",
    "p1.show() "
   ]
  },
  {
   "cell_type": "markdown",
   "metadata": {},
   "source": [
    "Two interesting informations that we can extract from the response plot above are: \n",
    "* output value at $t=0$ or $\\lim_{t \\to 0} c(t)$"
   ]
  },
  {
   "cell_type": "code",
   "execution_count": 10,
   "metadata": {},
   "outputs": [
    {
     "data": {
      "text/latex": [
       "$\\displaystyle \\frac{1}{\\tau}$"
      ],
      "text/plain": [
       "1/tau"
      ]
     },
     "execution_count": 10,
     "metadata": {},
     "output_type": "execute_result"
    }
   ],
   "source": [
    "limit(c, t, 0) # c(0)"
   ]
  },
  {
   "cell_type": "markdown",
   "metadata": {},
   "source": [
    "* output gradient at $t=0$ or $\\lim_{t \\to 0}\\frac{\\mathtt{d}c}{\\mathtt{d}t}$"
   ]
  },
  {
   "cell_type": "code",
   "execution_count": 11,
   "metadata": {},
   "outputs": [
    {
     "data": {
      "text/latex": [
       "$\\displaystyle - \\frac{1}{\\tau^{2}}$"
      ],
      "text/plain": [
       "-1/tau**2"
      ]
     },
     "execution_count": 11,
     "metadata": {},
     "output_type": "execute_result"
    }
   ],
   "source": [
    "limit(diff(c, t), t, 0) # output gradient at t = 0"
   ]
  },
  {
   "cell_type": "markdown",
   "metadata": {},
   "source": [
    "Thus we can summarize, for unit-impulse output $c(t)$:  \n",
    "$$c(0) = \\frac{1}{\\tau}$$ and $$\\dot{c}(0) = -\\frac{1}{\\tau^2}$$"
   ]
  },
  {
   "cell_type": "markdown",
   "metadata": {},
   "source": [
    "## Unit-step response\n",
    "\n",
    "What we do here:\n",
    "* define the input, which is a unit step function (Heaviside function)"
   ]
  },
  {
   "cell_type": "code",
   "execution_count": 12,
   "metadata": {},
   "outputs": [
    {
     "data": {
      "text/latex": [
       "$\\displaystyle r(t)=1$"
      ],
      "text/plain": [
       "<IPython.core.display.Math object>"
      ]
     },
     "metadata": {},
     "output_type": "display_data"
    }
   ],
   "source": [
    "t   = symbols('t', real=True, positive=True)\n",
    "\n",
    "r = Heaviside(t)\n",
    "mprint('r(t)=', latex(r))"
   ]
  },
  {
   "cell_type": "markdown",
   "metadata": {},
   "source": [
    "* compute its Laplace form"
   ]
  },
  {
   "cell_type": "code",
   "execution_count": 13,
   "metadata": {},
   "outputs": [
    {
     "data": {
      "text/latex": [
       "$\\displaystyle R(s)=\\frac{1}{s}$"
      ],
      "text/plain": [
       "<IPython.core.display.Math object>"
      ]
     },
     "metadata": {},
     "output_type": "display_data"
    }
   ],
   "source": [
    "R = laplace(r)\n",
    "mprint('R(s)=', latex(R))"
   ]
  },
  {
   "cell_type": "markdown",
   "metadata": {},
   "source": [
    "* apply the input to the sytem and obtain the output"
   ]
  },
  {
   "cell_type": "code",
   "execution_count": 14,
   "metadata": {},
   "outputs": [
    {
     "data": {
      "text/latex": [
       "$\\displaystyle C(s)=\\frac{1}{s \\left(s \\tau + 1\\right)}$"
      ],
      "text/plain": [
       "<IPython.core.display.Math object>"
      ]
     },
     "metadata": {},
     "output_type": "display_data"
    }
   ],
   "source": [
    "C = G*R\n",
    "mprint('C(s)=', latex(C))"
   ]
  },
  {
   "cell_type": "markdown",
   "metadata": {},
   "source": [
    "* compute the inverse Laplace of the output"
   ]
  },
  {
   "cell_type": "code",
   "execution_count": 15,
   "metadata": {},
   "outputs": [
    {
     "data": {
      "text/latex": [
       "$\\displaystyle c(t)=1 - e^{- \\frac{t}{\\tau}}$"
      ],
      "text/plain": [
       "<IPython.core.display.Math object>"
      ]
     },
     "metadata": {},
     "output_type": "display_data"
    }
   ],
   "source": [
    "c = ilaplace(C)\n",
    "mprint('c(t)=', latex(c))"
   ]
  },
  {
   "cell_type": "markdown",
   "metadata": {},
   "source": [
    "For plotting, let us set $\\tau = 1$."
   ]
  },
  {
   "cell_type": "code",
   "execution_count": 16,
   "metadata": {},
   "outputs": [
    {
     "data": {
      "text/latex": [
       "$\\displaystyle c(t)=1 - e^{- t}$"
      ],
      "text/plain": [
       "<IPython.core.display.Math object>"
      ]
     },
     "metadata": {},
     "output_type": "display_data"
    }
   ],
   "source": [
    "tau_ = 1\n",
    "c1 = collect(c.subs(tau, tau_), Heaviside(t))\n",
    "mprint(\"c(t)=\", latex(c1))"
   ]
  },
  {
   "cell_type": "code",
   "execution_count": 17,
   "metadata": {},
   "outputs": [
    {
     "data": {
      "image/png": "[encoded data removed]",
      "text/plain": [
       "<Figure size 400x250 with 1 Axes>"
      ]
     },
     "metadata": {},
     "output_type": "display_data"
    }
   ],
   "source": [
    "tend = 6\n",
    "p1 = plot(c1,                   (t,  0,   tend), ylim=[-0.2, 1.1], size=(4, 2.5), ylabel='$c(t)$', show=False)\n",
    "p2 = plot_implicit(Eq(t, tau_), (t, -0.1, tend), line_color='r',show=False)  # vertical line at t = tau\n",
    "p3 = plot(c1.subs(t, tau_),     (t, -0.3, tend), line_color='r', show=False) # horizontal line at c(tau)\n",
    "p4 = plot(tau_*t,               (t, -0.3, tend), line_color='k', show=False) # gradient at t = 0\n",
    "p1.append(p2[0])\n",
    "p1.append(p3[0])\n",
    "p1.append(p4[0])\n",
    "p1.show()\n"
   ]
  },
  {
   "cell_type": "markdown",
   "metadata": {},
   "source": [
    "The figure above shows that at $t = \\tau$, $c(\\tau)$ is at $63.21 \\%$ of $c_{ss}$"
   ]
  },
  {
   "cell_type": "markdown",
   "metadata": {},
   "source": [
    "* output value at $t=\\tau$ or $c(\\tau)$"
   ]
  },
  {
   "cell_type": "code",
   "execution_count": 18,
   "metadata": {},
   "outputs": [
    {
     "data": {
      "text/latex": [
       "$\\displaystyle 1 - e^{- \\tau}$"
      ],
      "text/plain": [
       "1 - exp(-tau)"
      ]
     },
     "execution_count": 18,
     "metadata": {},
     "output_type": "execute_result"
    }
   ],
   "source": [
    "c1.subs(t,tau) # c(t = tau)"
   ]
  },
  {
   "cell_type": "markdown",
   "metadata": {},
   "source": [
    "* output gradient at $t=0$ or $\\lim_{t \\to 0} \\frac{\\mathtt{d}c}{\\mathtt{d}t}$"
   ]
  },
  {
   "cell_type": "code",
   "execution_count": 19,
   "metadata": {},
   "outputs": [
    {
     "data": {
      "text/latex": [
       "$\\displaystyle \\frac{1}{\\tau}$"
      ],
      "text/plain": [
       "1/tau"
      ]
     },
     "execution_count": 19,
     "metadata": {},
     "output_type": "execute_result"
    }
   ],
   "source": [
    "limit(diff(c, t), t, 0).evalf() # gradient at t = 0"
   ]
  },
  {
   "cell_type": "markdown",
   "metadata": {},
   "source": [
    "## Unit-ramp response\n",
    "\n",
    "What we do here:\n",
    "* define the input, which is a unit ramp function"
   ]
  },
  {
   "cell_type": "code",
   "execution_count": 20,
   "metadata": {},
   "outputs": [
    {
     "data": {
      "text/latex": [
       "$\\displaystyle r(t)=t$"
      ],
      "text/plain": [
       "<IPython.core.display.Math object>"
      ]
     },
     "metadata": {},
     "output_type": "display_data"
    }
   ],
   "source": [
    "r = t * Heaviside(t)\n",
    "mprint('r(t)=', latex(r))"
   ]
  },
  {
   "cell_type": "markdown",
   "metadata": {},
   "source": [
    "* compute its Laplace form"
   ]
  },
  {
   "cell_type": "code",
   "execution_count": 21,
   "metadata": {},
   "outputs": [
    {
     "data": {
      "text/latex": [
       "$\\displaystyle R(s)=\\frac{1}{s^{2}}$"
      ],
      "text/plain": [
       "<IPython.core.display.Math object>"
      ]
     },
     "metadata": {},
     "output_type": "display_data"
    }
   ],
   "source": [
    "R = laplace(r)\n",
    "mprint('R(s)=', latex(R))"
   ]
  },
  {
   "cell_type": "markdown",
   "metadata": {},
   "source": [
    "* apply the input to the sytem and obtain the output"
   ]
  },
  {
   "cell_type": "code",
   "execution_count": 22,
   "metadata": {},
   "outputs": [
    {
     "data": {
      "text/latex": [
       "$\\displaystyle C(s)=\\frac{1}{s^{2} \\left(s \\tau + 1\\right)}$"
      ],
      "text/plain": [
       "<IPython.core.display.Math object>"
      ]
     },
     "metadata": {},
     "output_type": "display_data"
    }
   ],
   "source": [
    "C = G*R\n",
    "mprint('C(s)=', latex(C))"
   ]
  },
  {
   "cell_type": "markdown",
   "metadata": {},
   "source": [
    "* compute the inverse Laplace of the output"
   ]
  },
  {
   "cell_type": "code",
   "execution_count": 23,
   "metadata": {},
   "outputs": [
    {
     "data": {
      "text/latex": [
       "$\\displaystyle c(t)=t - \\tau + \\tau e^{- \\frac{t}{\\tau}}$"
      ],
      "text/plain": [
       "<IPython.core.display.Math object>"
      ]
     },
     "metadata": {},
     "output_type": "display_data"
    }
   ],
   "source": [
    "c = collect(ilaplace(C), Heaviside(t))\n",
    "mprint('c(t)=', latex(c))"
   ]
  },
  {
   "cell_type": "markdown",
   "metadata": {},
   "source": [
    "For plotting, let us set $\\tau = 1$."
   ]
  },
  {
   "cell_type": "code",
   "execution_count": 24,
   "metadata": {},
   "outputs": [
    {
     "data": {
      "text/latex": [
       "$\\displaystyle c(t)=t - 1 + e^{- t}$"
      ],
      "text/plain": [
       "<IPython.core.display.Math object>"
      ]
     },
     "metadata": {},
     "output_type": "display_data"
    }
   ],
   "source": [
    "tau_ = 1\n",
    "c1 = collect(c.subs(tau, tau_), Heaviside(t))\n",
    "mprint(\"c(t)=\", latex(c1))"
   ]
  },
  {
   "cell_type": "code",
   "execution_count": 25,
   "metadata": {},
   "outputs": [
    {
     "data": {
      "image/png": "[encoded data removed]",
      "text/plain": [
       "<Figure size 250x250 with 1 Axes>"
      ]
     },
     "metadata": {},
     "output_type": "display_data"
    }
   ],
   "source": [
    "tend = 5\n",
    "p1 = plot(c1, (t, 0, tend), ylim=[-0, 5], size=(2.5, 2.5), show=False, legend=True)\n",
    "p2 = plot(r,  (t, 0, tend), line_color='r', show=False, legend=True)  \n",
    "p1[0].label = '$r(t)$'\n",
    "p2[0].label = '$c(t)$'\n",
    "p1.append(p2[0])\n",
    "p1.show()"
   ]
  },
  {
   "cell_type": "markdown",
   "metadata": {},
   "source": [
    "As we can see from the response plot above, there is a constant difference between the input and the output (__vertical distance between red line and blue line__). This constant difference can ba expressed as:\n",
    "\n",
    "$$\\Delta = \\lim_{s \\to 0}  s\\big(R(s)-C(s) \\big) = \\lim_{s \\to 0} s \\big(R(s)-GR(s) \\big) = \\lim_{s \\to 0} sR(s) \\big(1-G(s) \\big) $$"
   ]
  },
  {
   "cell_type": "code",
   "execution_count": 26,
   "metadata": {},
   "outputs": [
    {
     "data": {
      "text/latex": [
       "$\\displaystyle \\Delta=\\tau$"
      ],
      "text/plain": [
       "<IPython.core.display.Math object>"
      ]
     },
     "metadata": {},
     "output_type": "display_data"
    }
   ],
   "source": [
    "delta = limit(s*laplace(r) * (1 - G), s, 0)\n",
    "mprint('\\\\Delta=', latex(delta))"
   ]
  }
 ],
 "metadata": {
  "kernelspec": {
   "display_name": "ipykernel 3.12.4",
   "language": "python",
   "name": "py.3.12.4"
  },
  "language_info": {
   "codemirror_mode": {
    "name": "ipython",
    "version": 3
   },
   "file_extension": ".py",
   "mimetype": "text/x-python",
   "name": "python",
   "nbconvert_exporter": "python",
   "pygments_lexer": "ipython3",
   "version": "3.12.3"
  }
 },
 "nbformat": 4,
 "nbformat_minor": 4
}

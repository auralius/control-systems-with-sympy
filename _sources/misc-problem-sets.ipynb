{
 "cells": [
  {
   "cell_type": "markdown",
   "metadata": {},
   "source": [
    "# Solved Various Problem Sets"
   ]
  },
  {
   "cell_type": "code",
   "execution_count": 1,
   "metadata": {},
   "outputs": [],
   "source": [
    "from IPython.display import display, Markdown\n",
    "\n",
    "from sympy import *\n",
    "from sympy.interactive.printing import init_printing\n",
    "from sympy.abc import s, K, k, t\n",
    "\n",
    "from mathprint import *"
   ]
  },
  {
   "cell_type": "markdown",
   "metadata": {},
   "source": [
    "## Problem 1\n",
    "\n",
    "**Topics: block diagram, second-order system**\n",
    "\n",
    "![](./images/p7.png)"
   ]
  },
  {
   "cell_type": "markdown",
   "metadata": {},
   "source": [
    "Determine the values of $K$ and $k$ such that the system has a damping ratio $\\zeta$ of 0.7 and an undamped natural frequency $\\omega_n$ of $4 \\mathrm{rad} / \\mathrm{sec}$."
   ]
  },
  {
   "cell_type": "markdown",
   "metadata": {},
   "source": [
    "### Solution\n",
    "\n",
    "First, simplify the blockdiagram:"
   ]
  },
  {
   "cell_type": "code",
   "execution_count": 2,
   "metadata": {},
   "outputs": [
    {
     "data": {
      "text/latex": [
       "$\\displaystyle \\frac{C(s)}{R(s)}=\\frac{K}{K + s^{2} + s \\left(K k + 2\\right)}$"
      ],
      "text/plain": [
       "<IPython.core.display.Math object>"
      ]
     },
     "metadata": {},
     "output_type": "display_data"
    }
   ],
   "source": [
    "G = K / (s+2)\n",
    "S1 = (G / (1+G*k)) * (1/s) # negative feedback and serial connection\n",
    "S2 = S1 / (1+S1) # another negative feedback\n",
    "S2 = collect(expand(simplify(S2)), [s**2, s]) # make it nice\n",
    "\n",
    "mprint(\"\\\\frac{C(s)}{R(s)}=\", latex(S2))"
   ]
  },
  {
   "cell_type": "markdown",
   "metadata": {},
   "source": [
    "Next, the coeficient of $s$ is $2 \\zeta \\omega_n$ and $K=\\omega_n^2$."
   ]
  },
  {
   "cell_type": "code",
   "execution_count": 3,
   "metadata": {},
   "outputs": [
    {
     "data": {
      "text/latex": [
       "$\\displaystyle K k + 2 = 5.6$"
      ],
      "text/plain": [
       "Eq(K*k + 2, 5.6)"
      ]
     },
     "metadata": {},
     "output_type": "display_data"
    },
    {
     "data": {
      "text/latex": [
       "$\\displaystyle 16 k + 2 = 5.6$"
      ],
      "text/plain": [
       "Eq(16*k + 2, 5.6)"
      ]
     },
     "metadata": {},
     "output_type": "display_data"
    }
   ],
   "source": [
    "zeta = 0.7\n",
    "omegan = 4\n",
    "\n",
    "# Take the denom, find the coefficient of s,\n",
    "# set it equals to 2 * zeta 8 omega_n\n",
    "eq = Eq(denom(S2).coeff(s), 2*zeta*omegan)\n",
    "display(eq)\n",
    "\n",
    "# Set K = omega_n^2\n",
    "eq = eq.subs(K, omegan**2)\n",
    "display(eq)"
   ]
  },
  {
   "cell_type": "markdown",
   "metadata": {},
   "source": [
    "Solve for $k$:"
   ]
  },
  {
   "cell_type": "code",
   "execution_count": 4,
   "metadata": {},
   "outputs": [
    {
     "data": {
      "text/latex": [
       "$\\displaystyle k=\\left\\{0.225\\right\\}$"
      ],
      "text/plain": [
       "<IPython.core.display.Math object>"
      ]
     },
     "metadata": {},
     "output_type": "display_data"
    }
   ],
   "source": [
    "k_ = solveset(eq, k)\n",
    "mprint(\"k=\", latex(k_))"
   ]
  },
  {
   "cell_type": "markdown",
   "metadata": {},
   "source": [
    "So, the final answer is $k=0.225$."
   ]
  },
  {
   "cell_type": "markdown",
   "metadata": {},
   "source": [
    "## Problem 2\n",
    "\n",
    "**Topics: block diagram, second-order system**\n",
    "\n",
    "![](./images/p8.png)"
   ]
  },
  {
   "cell_type": "markdown",
   "metadata": {},
   "source": [
    "Determine the value of $k$ such that the damping ratio $\\zeta$ is 0.5 . Then obtain the rise time $t_r$, peak time $t_p$, maximum overshoot $M_p$, and settling time $t_s$ in the unit-step response."
   ]
  },
  {
   "cell_type": "markdown",
   "metadata": {},
   "source": [
    "### Solution\n",
    "\n",
    "First, simplify the blockdiagram:"
   ]
  },
  {
   "cell_type": "code",
   "execution_count": 5,
   "metadata": {},
   "outputs": [
    {
     "data": {
      "text/latex": [
       "$\\displaystyle \\frac{C(s)}{R(s)}=\\frac{16}{s^{2} + s \\left(16 k + 0.8\\right) + 16}$"
      ],
      "text/plain": [
       "<IPython.core.display.Math object>"
      ]
     },
     "metadata": {},
     "output_type": "display_data"
    }
   ],
   "source": [
    "G = 16 / (s+0.8) \n",
    "\n",
    "S1 = (G / (1+G*k)) * (1/s) # negative feedback and serial connection\n",
    "S2 = S1 / (1+S1) # another negative feedback\n",
    "S2 = collect(expand(simplify(S2)), [s**2, s]) # make it nice\n",
    "\n",
    "mprint(\"\\\\frac{C(s)}{R(s)}=\", latex(S2))"
   ]
  },
  {
   "cell_type": "markdown",
   "metadata": {},
   "source": [
    "Finding $k$ for $\\zeta = 0,5$ and $\\omega_n = 4$. Note that the coeficient of $s$ is $2 \\zeta \\omega_n$."
   ]
  },
  {
   "cell_type": "code",
   "execution_count": 6,
   "metadata": {},
   "outputs": [
    {
     "data": {
      "text/latex": [
       "$\\displaystyle k=0.2$"
      ],
      "text/plain": [
       "<IPython.core.display.Math object>"
      ]
     },
     "metadata": {},
     "output_type": "display_data"
    }
   ],
   "source": [
    "zeta = 0.5\n",
    "omegan = 4 #sqrt(16)\n",
    "\n",
    "# Take the demom, find the coefficient of s,\n",
    "# set it equals to 2 * zeta 8 omega_n\n",
    "eq = Eq(denom(S2).coeff(s), 2*zeta*omegan)\n",
    "\n",
    "kval = solve(eq, k)\n",
    "\n",
    "mprint(\"k=\", latex(kval[0]))"
   ]
  },
  {
   "cell_type": "markdown",
   "metadata": {},
   "source": [
    "Thus, $k=0.2$."
   ]
  },
  {
   "cell_type": "markdown",
   "metadata": {},
   "source": [
    "Finally, conclude the system, convert it to a transfer function. \n",
    "\n",
    "**To push things a bit further, we will apply inverse Laplace to bring the response back to time-domain and allow us to plot the result.** \n",
    "\n",
    "Please note that SymPy does have a generic function for plotting a step response out of an s-domanin transfer function. However, we are not going to use it here."
   ]
  },
  {
   "cell_type": "code",
   "execution_count": 7,
   "metadata": {},
   "outputs": [
    {
     "data": {
      "text/latex": [
       "$\\displaystyle G(s)=\\frac{16}{s^{2} + 4.0 s + 16}$"
      ],
      "text/plain": [
       "<IPython.core.display.Math object>"
      ]
     },
     "metadata": {},
     "output_type": "display_data"
    }
   ],
   "source": [
    "G = S2.subs(k, 0.2)\n",
    "mprint(\"G(s)=\", latex(G))"
   ]
  },
  {
   "cell_type": "code",
   "execution_count": 8,
   "metadata": {},
   "outputs": [
    {
     "data": {
      "image/png": "[encoded data removed]",
      "text/plain": [
       "<Figure size 400x300 with 1 Axes>"
      ]
     },
     "metadata": {},
     "output_type": "display_data"
    }
   ],
   "source": [
    "from sympy.plotting import plot\n",
    "\n",
    "C = 1/s * G\n",
    "c = inverse_laplace_transform(C, s, t)\n",
    "\n",
    "plot(c, (t, 0, 5), size=(4, 3), ylabel=\"$c(t)$\", show=True);"
   ]
  },
  {
   "cell_type": "code",
   "execution_count": 9,
   "metadata": {},
   "outputs": [
    {
     "name": "stdout",
     "output_type": "stream",
     "text": [
      "rise time = 0.604599788078073\n",
      "peak time = 0.906899682117109\n",
      "maximum overshoot = 0.163033534821580\n",
      "2-percent-settling time = 2.02793201811295\n"
     ]
    }
   ],
   "source": [
    "# Rise time\n",
    "tr = 2*atan(sqrt(zeta+1) / sqrt(1-zeta)) / (omegan * sqrt(1-zeta**2))                     \n",
    "\n",
    "# Peak time\n",
    "tp = pi / (omegan * sqrt(1 - zeta**2))\n",
    "\n",
    "# Maximum overshoot\n",
    "Mp = exp(-pi * zeta / sqrt(1 - zeta**2))   \n",
    "\n",
    "# 2-percent settling time\n",
    "ts = (3.912023 - 0.5 * log(1 - zeta**2)) / (omegan * zeta) \n",
    "\n",
    "print('rise time =', tr.evalf())\n",
    "print('peak time =', tp.evalf())\n",
    "print('maximum overshoot =', Mp.evalf())\n",
    "print('2-percent-settling time =', ts)"
   ]
  },
  {
   "cell_type": "markdown",
   "metadata": {},
   "source": [
    "### Comparison to the Python Control Library\n",
    "The results are slightly different from the Python Control Library. This is beacase Python Control Library does the calculations numerically."
   ]
  },
  {
   "cell_type": "code",
   "execution_count": 10,
   "metadata": {},
   "outputs": [
    {
     "data": {
      "text/plain": [
       "{'RiseTime': np.float64(0.6279777526347396),\n",
       " 'SettlingTime': np.float64(2.023483869600828),\n",
       " 'SettlingMin': np.float64(0.9734200938528016),\n",
       " 'SettlingMax': np.float64(1.1630334929041963),\n",
       " 'Overshoot': np.float64(16.303349290419632),\n",
       " 'Undershoot': 0,\n",
       " 'Peak': np.float64(1.1630334929041963),\n",
       " 'PeakTime': np.float64(0.9070789760279573),\n",
       " 'SteadyStateValue': np.float64(1.0)}"
      ]
     },
     "execution_count": 10,
     "metadata": {},
     "output_type": "execute_result"
    }
   ],
   "source": [
    "import control as ct\n",
    "\n",
    "s = ct.TransferFunction.s\n",
    "tf = ct.TransferFunction(16 / (s**2+4*s+16))\n",
    "ct.step_info(tf, RiseTimeLimits=(0, 1))"
   ]
  },
  {
   "cell_type": "code",
   "execution_count": null,
   "metadata": {},
   "outputs": [],
   "source": []
  }
 ],
 "metadata": {
  "kernelspec": {
   "display_name": "Python 3 (ipykernel)",
   "language": "python",
   "name": "python3"
  },
  "language_info": {
   "codemirror_mode": {
    "name": "ipython",
    "version": 3
   },
   "file_extension": ".py",
   "mimetype": "text/x-python",
   "name": "python",
   "nbconvert_exporter": "python",
   "pygments_lexer": "ipython3",
   "version": "3.12.3"
  }
 },
 "nbformat": 4,
 "nbformat_minor": 4
}

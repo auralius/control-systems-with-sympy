{
 "cells": [
  {
   "cell_type": "markdown",
   "metadata": {},
   "source": [
    "# System Modeling: Rectilinear System"
   ]
  },
  {
   "cell_type": "markdown",
   "metadata": {},
   "source": [
    "In this Python notebook, we are going to make a general method for rectilinear system modeling. Our method uses directed graph where vertex represents mass and edge represents spring or damper. From the graph, we can then generate two adjacency matrices:  for the springs and for the dampers. These matrices are then used by the Lagrange-Euler method to generate the system equations."
   ]
  },
  {
   "cell_type": "markdown",
   "metadata": {},
   "source": [
    "![](./images/adjency.png)"
   ]
  },
  {
   "cell_type": "markdown",
   "metadata": {},
   "source": [
    "The model will be presented in three forms:\n",
    "* ODEs\n",
    "* Laplace equations\n",
    "* State space"
   ]
  },
  {
   "cell_type": "markdown",
   "metadata": {},
   "source": [
    "## Preparations"
   ]
  },
  {
   "cell_type": "code",
   "execution_count": 1,
   "metadata": {},
   "outputs": [],
   "source": [
    "from IPython.display import display, Markdown\n",
    "\n",
    "from sympy import *\n",
    "from sympy.physics.vector import dynamicsymbols\n",
    "from sympy.solvers.ode.systems import linear_ode_to_matrix\n",
    "from sympy.interactive.printing import init_printing\n",
    "\n",
    "from mathprint import *\n",
    "\n",
    "# https://stackoverflow.com/questions/49145059/how-to-change-printed-representation-of-functions-derivative-in-sympy\n",
    "latexReplaceRules = {\n",
    "    # r'{\\left(t \\right)}':r' ',\n",
    "    r'\\frac{d}{d t}':r'\\dot',\n",
    "    r'\\frac{d^{2}}{d t^{2}}':r'\\ddot',\n",
    "}\n",
    "\n",
    "def latexNew(expr,**kwargs):\n",
    "    retStr = latex(expr,**kwargs)\n",
    "    for _,__ in latexReplaceRules.items():\n",
    "        retStr = retStr.replace(_,__)\n",
    "    return retStr\n",
    "\n",
    "init_printing(use_unicode=False)\n",
    "init_printing(fontsize='8pt', latex_printer=latexNew)"
   ]
  },
  {
   "cell_type": "markdown",
   "metadata": {},
   "source": [
    "## Lagrange's equations of a rectilinear system"
   ]
  },
  {
   "cell_type": "code",
   "execution_count": 2,
   "metadata": {},
   "outputs": [],
   "source": [
    "def mass_spring_damper(n, M, K, B, F, x):\n",
    "    if n == 1:\n",
    "        x = [x]\n",
    "\n",
    "    # the kinetic energy\n",
    "    T = []\n",
    "    for i in range(n):\n",
    "        T.append(1/2*M[i] * x[i].diff()**2)\n",
    "    \n",
    "    # the potential energy \n",
    "    U = []\n",
    "    R = []\n",
    "    for i in range(n):\n",
    "        u = 0   \n",
    "        r = 0\n",
    "        for j in range(n): \n",
    "            if i == j: \n",
    "                u = u+1/2*K[i,j]*(x[i])**2\n",
    "                r = r+1/2*B[i,j]*x[i].diff()**2\n",
    "            else:\n",
    "                u = u+1/2*K[i,j]*(x[i]-x[j])**2\n",
    "                r = r+1/2*B[i,j]*(x[i].diff()-x[j].diff())**2\n",
    "        U.append(u)\n",
    "        R.append(r)\n",
    "\n",
    "    # compute the total\n",
    "    U = sum(U) # potential energy\n",
    "    R = sum(R) # dissipation energy\n",
    "    T = sum(T) # kinetic energy\n",
    "\n",
    "    # the lagrange method\n",
    "    eq1 = []\n",
    "    for i in range(n):\n",
    "        eq = diff(T, x[i].diff(), Symbol('t')) - diff(T, x[i]) + diff(R, x[i].diff()) + diff(U, x[i]) - F[i]\n",
    "        eq = solve(eq, x[i].diff().diff())[0]\n",
    "        eq1.append(Eq(x[i].diff().diff(), eq))   \n",
    "\n",
    "    return eq1"
   ]
  },
  {
   "cell_type": "code",
   "execution_count": 3,
   "metadata": {},
   "outputs": [],
   "source": [
    "def present_results(eq, x, t):\n",
    "    n = len(eq)\n",
    "    if n == 1:\n",
    "        x = [x]\n",
    "\n",
    "    # in ODE format (equation of motions):\n",
    "    print(\"--- System's equation of motion in ODEs ---\\n\")\n",
    "    for k in range (n):\n",
    "        mprint(latexNew(expand(eq[k])))\n",
    "\n",
    "    # in state space format:\n",
    "    print('\\n--- in state space format ---\\n')\n",
    "    mprint(\"\\\\dot{X}(t) = A X(t) + f\")\n",
    "    A, f = linear_ode_to_matrix(eq, x, t, 2)\n",
    "\n",
    "    X = Matrix(x)\n",
    "    XDOT = Matrix([x[i].diff() for i in range(n)])\n",
    "    XDDOT = Matrix([x[i].diff().diff() for i in range(n)])\n",
    "    \n",
    "    X_    = Matrix(BlockMatrix([[X],[XDOT]]))\n",
    "    XDOT_ = Matrix(BlockMatrix([[XDOT],[XDDOT]]))\n",
    "    x_ = dynamicsymbols('x')\n",
    "\n",
    "    print('where:\\n')\n",
    "    mprint(latexNew(Eq(Symbol('A'), Matrix(BlockMatrix([[zeros(n), Matrix(A[0])],[Matrix(A[2]), Matrix(A[1])]])), evaluate=False)),\n",
    "           latexNew(Eq(Symbol('f'), Matrix(BlockMatrix([[zeros(n,1)],[f]])), evaluate=false)))\n",
    "    mprint(latexNew(Eq(x_.diff(), X_, evaluate=False)), \n",
    "           latexNew(Eq(x_.diff().diff(), XDOT_, evaluate=False)))\n"
   ]
  },
  {
   "cell_type": "markdown",
   "metadata": {},
   "source": [
    "## Solved problem sets"
   ]
  },
  {
   "cell_type": "markdown",
   "metadata": {},
   "source": [
    "### Problem 1\n",
    "![](./images/p1.png)"
   ]
  },
  {
   "cell_type": "code",
   "execution_count": 4,
   "metadata": {},
   "outputs": [
    {
     "name": "stdout",
     "output_type": "stream",
     "text": [
      "--- System's equation of motion in ODEs ---\n",
      "\n"
     ]
    },
    {
     "data": {
      "text/latex": [
       "$\\displaystyle \\ddot x{\\left(t \\right)} = \\frac{F}{m} - \\frac{b \\dot x{\\left(t \\right)}}{m} - \\frac{k x{\\left(t \\right)}}{m}$"
      ],
      "text/plain": [
       "<IPython.core.display.Math object>"
      ]
     },
     "metadata": {},
     "output_type": "display_data"
    },
    {
     "name": "stdout",
     "output_type": "stream",
     "text": [
      "\n",
      "--- in state space format ---\n",
      "\n"
     ]
    },
    {
     "data": {
      "text/latex": [
       "$\\displaystyle \\dot{X}(t) = A X(t) + f$"
      ],
      "text/plain": [
       "<IPython.core.display.Math object>"
      ]
     },
     "metadata": {},
     "output_type": "display_data"
    },
    {
     "name": "stdout",
     "output_type": "stream",
     "text": [
      "where:\n",
      "\n"
     ]
    },
    {
     "data": {
      "text/latex": [
       "$\\displaystyle A = \\left[\\begin{matrix}0 & 1\\\\- \\frac{k}{m} & - \\frac{b}{m}\\end{matrix}\\right]f = \\left[\\begin{matrix}0\\\\\\frac{F}{m}\\end{matrix}\\right]$"
      ],
      "text/plain": [
       "<IPython.core.display.Math object>"
      ]
     },
     "metadata": {},
     "output_type": "display_data"
    },
    {
     "data": {
      "text/latex": [
       "$\\displaystyle \\dot x{\\left(t \\right)} = \\left[\\begin{matrix}x{\\left(t \\right)}\\\\\\dot x{\\left(t \\right)}\\end{matrix}\\right]\\ddot x{\\left(t \\right)} = \\left[\\begin{matrix}\\dot x{\\left(t \\right)}\\\\\\ddot x{\\left(t \\right)}\\end{matrix}\\right]$"
      ],
      "text/plain": [
       "<IPython.core.display.Math object>"
      ]
     },
     "metadata": {},
     "output_type": "display_data"
    }
   ],
   "source": [
    "# setup adjacent matrices for K and B:\n",
    "t, m, b, k, F = symbols('t m b k F')\n",
    "x  = dynamicsymbols('x')\n",
    "\n",
    "ndof = 1\n",
    "matK = Matrix([[k, 0, 0]])\n",
    "matB = Matrix([[b, 0, 0]])\n",
    "matM = Matrix([m])\n",
    "matF = Matrix([F])\n",
    "\n",
    "eq = mass_spring_damper(ndof, matM, matK, matB, matF, x)\n",
    "\n",
    "present_results(eq, x, t)"
   ]
  },
  {
   "cell_type": "markdown",
   "metadata": {},
   "source": [
    "---"
   ]
  },
  {
   "cell_type": "markdown",
   "metadata": {},
   "source": [
    "### Problem 2\n",
    "![](./images/p2.png)"
   ]
  },
  {
   "cell_type": "code",
   "execution_count": 5,
   "metadata": {},
   "outputs": [
    {
     "name": "stdout",
     "output_type": "stream",
     "text": [
      "--- System's equation of motion in ODEs ---\n",
      "\n"
     ]
    },
    {
     "data": {
      "text/latex": [
       "$\\displaystyle \\ddot x_{1}{\\left(t \\right)} = - \\frac{B_{1} \\dot x_{1}{\\left(t \\right)}}{M_{1}} - \\frac{2.0 K x_{1}{\\left(t \\right)}}{M_{1}} + \\frac{K x_{3}{\\left(t \\right)}}{M_{1}} + g$"
      ],
      "text/plain": [
       "<IPython.core.display.Math object>"
      ]
     },
     "metadata": {},
     "output_type": "display_data"
    },
    {
     "data": {
      "text/latex": [
       "$\\displaystyle \\ddot x_{2}{\\left(t \\right)} = - \\frac{B_{2} \\dot x_{2}{\\left(t \\right)}}{M_{2}} + \\frac{B_{2} \\dot x_{3}{\\left(t \\right)}}{M_{2}} - \\frac{2.0 K x_{2}{\\left(t \\right)}}{M_{2}} + \\frac{K x_{3}{\\left(t \\right)}}{M_{2}} + g$"
      ],
      "text/plain": [
       "<IPython.core.display.Math object>"
      ]
     },
     "metadata": {},
     "output_type": "display_data"
    },
    {
     "data": {
      "text/latex": [
       "$\\displaystyle \\ddot x_{3}{\\left(t \\right)} = \\frac{B_{2} \\dot x_{2}{\\left(t \\right)}}{M_{3}} - \\frac{B_{2} \\dot x_{3}{\\left(t \\right)}}{M_{3}} + \\frac{K x_{1}{\\left(t \\right)}}{M_{3}} + \\frac{K x_{2}{\\left(t \\right)}}{M_{3}} - \\frac{2.0 K x_{3}{\\left(t \\right)}}{M_{3}} + g + \\frac{fa}{M_{3}}$"
      ],
      "text/plain": [
       "<IPython.core.display.Math object>"
      ]
     },
     "metadata": {},
     "output_type": "display_data"
    },
    {
     "name": "stdout",
     "output_type": "stream",
     "text": [
      "\n",
      "--- in state space format ---\n",
      "\n"
     ]
    },
    {
     "data": {
      "text/latex": [
       "$\\displaystyle \\dot{X}(t) = A X(t) + f$"
      ],
      "text/plain": [
       "<IPython.core.display.Math object>"
      ]
     },
     "metadata": {},
     "output_type": "display_data"
    },
    {
     "name": "stdout",
     "output_type": "stream",
     "text": [
      "where:\n",
      "\n"
     ]
    },
    {
     "data": {
      "text/latex": [
       "$\\displaystyle A = \\left[\\begin{matrix}0 & 0 & 0 & 1 & 0 & 0\\\\0 & 0 & 0 & 0 & 1 & 0\\\\0 & 0 & 0 & 0 & 0 & 1\\\\- \\frac{2.0 K}{M_{1}} & 0 & \\frac{K}{M_{1}} & - \\frac{B_{1}}{M_{1}} & 0 & 0\\\\0 & - \\frac{2.0 K}{M_{2}} & \\frac{K}{M_{2}} & 0 & - \\frac{B_{2}}{M_{2}} & \\frac{B_{2}}{M_{2}}\\\\\\frac{K}{M_{3}} & \\frac{K}{M_{3}} & - \\frac{2.0 K}{M_{3}} & 0 & \\frac{B_{2}}{M_{3}} & - \\frac{B_{2}}{M_{3}}\\end{matrix}\\right]f = \\left[\\begin{matrix}0\\\\0\\\\0\\\\g\\\\g\\\\\\frac{M_{3} g + fa}{M_{3}}\\end{matrix}\\right]$"
      ],
      "text/plain": [
       "<IPython.core.display.Math object>"
      ]
     },
     "metadata": {},
     "output_type": "display_data"
    },
    {
     "data": {
      "text/latex": [
       "$\\displaystyle \\dot x{\\left(t \\right)} = \\left[\\begin{matrix}x_{1}{\\left(t \\right)}\\\\x_{2}{\\left(t \\right)}\\\\x_{3}{\\left(t \\right)}\\\\\\dot x_{1}{\\left(t \\right)}\\\\\\dot x_{2}{\\left(t \\right)}\\\\\\dot x_{3}{\\left(t \\right)}\\end{matrix}\\right]\\ddot x{\\left(t \\right)} = \\left[\\begin{matrix}\\dot x_{1}{\\left(t \\right)}\\\\\\dot x_{2}{\\left(t \\right)}\\\\\\dot x_{3}{\\left(t \\right)}\\\\\\ddot x_{1}{\\left(t \\right)}\\\\\\ddot x_{2}{\\left(t \\right)}\\\\\\ddot x_{3}{\\left(t \\right)}\\end{matrix}\\right]$"
      ],
      "text/plain": [
       "<IPython.core.display.Math object>"
      ]
     },
     "metadata": {},
     "output_type": "display_data"
    }
   ],
   "source": [
    "# setup adjacent matrices for K and B:\n",
    "t, g, M1, M2, M3, K, B1, B2, fa = symbols('t g M_1 M_2 M_3 K B_1 B_2 fa')\n",
    "x  = dynamicsymbols('x1 x2 x3')\n",
    "\n",
    "ndof = 3\n",
    "matK = Matrix([[K, 0, 0],[0, K, 0], [K, K,0]])\n",
    "matB = Matrix([[B1, 0, 0], [0, 0, 0], [0, B2, 0]])\n",
    "matM = Matrix([M1, M2, M3])\n",
    "matF = Matrix([M1*g, M2*g, M3*g+fa])\n",
    "\n",
    "eq = mass_spring_damper(ndof, matM, matK, matB, matF, x)\n",
    "\n",
    "present_results(eq, x, t)"
   ]
  },
  {
   "cell_type": "markdown",
   "metadata": {},
   "source": [
    "----"
   ]
  },
  {
   "cell_type": "markdown",
   "metadata": {},
   "source": [
    "### Problem 3\n",
    "![](./images/p3.png)"
   ]
  },
  {
   "cell_type": "code",
   "execution_count": 6,
   "metadata": {},
   "outputs": [
    {
     "name": "stdout",
     "output_type": "stream",
     "text": [
      "--- System's equation of motion in ODEs ---\n",
      "\n"
     ]
    },
    {
     "data": {
      "text/latex": [
       "$\\displaystyle \\ddot x_{1}{\\left(t \\right)} = - \\frac{k_{1} x_{1}{\\left(t \\right)}}{m_{1}} - \\frac{k_{2} x_{1}{\\left(t \\right)}}{m_{1}} + \\frac{k_{2} x_{2}{\\left(t \\right)}}{m_{1}}$"
      ],
      "text/plain": [
       "<IPython.core.display.Math object>"
      ]
     },
     "metadata": {},
     "output_type": "display_data"
    },
    {
     "data": {
      "text/latex": [
       "$\\displaystyle \\ddot x_{2}{\\left(t \\right)} = \\frac{k_{2} x_{1}{\\left(t \\right)}}{m_{2}} - \\frac{k_{2} x_{2}{\\left(t \\right)}}{m_{2}} - \\frac{k_{3} x_{2}{\\left(t \\right)}}{m_{2}} + \\frac{k_{3} x_{3}{\\left(t \\right)}}{m_{2}}$"
      ],
      "text/plain": [
       "<IPython.core.display.Math object>"
      ]
     },
     "metadata": {},
     "output_type": "display_data"
    },
    {
     "data": {
      "text/latex": [
       "$\\displaystyle \\ddot x_{3}{\\left(t \\right)} = \\frac{k_{3} x_{2}{\\left(t \\right)}}{m_{3}} - \\frac{k_{3} x_{3}{\\left(t \\right)}}{m_{3}}$"
      ],
      "text/plain": [
       "<IPython.core.display.Math object>"
      ]
     },
     "metadata": {},
     "output_type": "display_data"
    },
    {
     "name": "stdout",
     "output_type": "stream",
     "text": [
      "\n",
      "--- in state space format ---\n",
      "\n"
     ]
    },
    {
     "data": {
      "text/latex": [
       "$\\displaystyle \\dot{X}(t) = A X(t) + f$"
      ],
      "text/plain": [
       "<IPython.core.display.Math object>"
      ]
     },
     "metadata": {},
     "output_type": "display_data"
    },
    {
     "name": "stdout",
     "output_type": "stream",
     "text": [
      "where:\n",
      "\n"
     ]
    },
    {
     "data": {
      "text/latex": [
       "$\\displaystyle A = \\left[\\begin{matrix}0 & 0 & 0 & 1 & 0 & 0\\\\0 & 0 & 0 & 0 & 1 & 0\\\\0 & 0 & 0 & 0 & 0 & 1\\\\- \\frac{k_{1}}{m_{1}} - \\frac{k_{2}}{m_{1}} & \\frac{k_{2}}{m_{1}} & 0 & 0 & 0 & 0\\\\\\frac{k_{2}}{m_{2}} & - \\frac{k_{2}}{m_{2}} - \\frac{k_{3}}{m_{2}} & \\frac{k_{3}}{m_{2}} & 0 & 0 & 0\\\\0 & \\frac{k_{3}}{m_{3}} & - \\frac{k_{3}}{m_{3}} & 0 & 0 & 0\\end{matrix}\\right]f = \\left[\\begin{matrix}0\\\\0\\\\0\\\\0\\\\0\\\\0\\end{matrix}\\right]$"
      ],
      "text/plain": [
       "<IPython.core.display.Math object>"
      ]
     },
     "metadata": {},
     "output_type": "display_data"
    },
    {
     "data": {
      "text/latex": [
       "$\\displaystyle \\dot x{\\left(t \\right)} = \\left[\\begin{matrix}x_{1}{\\left(t \\right)}\\\\x_{2}{\\left(t \\right)}\\\\x_{3}{\\left(t \\right)}\\\\\\dot x_{1}{\\left(t \\right)}\\\\\\dot x_{2}{\\left(t \\right)}\\\\\\dot x_{3}{\\left(t \\right)}\\end{matrix}\\right]\\ddot x{\\left(t \\right)} = \\left[\\begin{matrix}\\dot x_{1}{\\left(t \\right)}\\\\\\dot x_{2}{\\left(t \\right)}\\\\\\dot x_{3}{\\left(t \\right)}\\\\\\ddot x_{1}{\\left(t \\right)}\\\\\\ddot x_{2}{\\left(t \\right)}\\\\\\ddot x_{3}{\\left(t \\right)}\\end{matrix}\\right]$"
      ],
      "text/plain": [
       "<IPython.core.display.Math object>"
      ]
     },
     "metadata": {},
     "output_type": "display_data"
    }
   ],
   "source": [
    "# setup adjacent matrices for K and B:\n",
    "t, m1, m2, m3, k1, k2, k3 = symbols('t m1 m2 m3 k1 k2 k3')\n",
    "x  = dynamicsymbols('x1 x2 x3')\n",
    "\n",
    "ndof = 3\n",
    "matK = Matrix([[k1, 0, 0],[k2, 0, 0], [0, k3,0]])\n",
    "matB = Matrix([[0, 0, 0], [0, 0, 0], [0, 0, 0]])\n",
    "matM = Matrix([m1, m2, m3])\n",
    "matF = Matrix([0, 0, 0])\n",
    "\n",
    "eq = mass_spring_damper(ndof, matM, matK, matB, matF, x)\n",
    "\n",
    "present_results(eq, x, t)"
   ]
  },
  {
   "cell_type": "markdown",
   "metadata": {},
   "source": [
    "---"
   ]
  },
  {
   "cell_type": "markdown",
   "metadata": {},
   "source": [
    "### Problem 4\n",
    "![](./images/p4.png)"
   ]
  },
  {
   "cell_type": "code",
   "execution_count": 7,
   "metadata": {},
   "outputs": [
    {
     "name": "stdout",
     "output_type": "stream",
     "text": [
      "--- System's equation of motion in ODEs ---\n",
      "\n"
     ]
    },
    {
     "data": {
      "text/latex": [
       "$\\displaystyle \\ddot x_{1}{\\left(t \\right)} = - 2.0 x_{1}{\\left(t \\right)} + x_{2}{\\left(t \\right)} - \\dot x_{1}{\\left(t \\right)} + 0.5 \\dot x_{3}{\\left(t \\right)}$"
      ],
      "text/plain": [
       "<IPython.core.display.Math object>"
      ]
     },
     "metadata": {},
     "output_type": "display_data"
    },
    {
     "data": {
      "text/latex": [
       "$\\displaystyle \\ddot x_{2}{\\left(t \\right)} = 0.2 f + 0.8 x_{1}{\\left(t \\right)} - 0.8 x_{2}{\\left(t \\right)} - 0.6 \\dot x_{2}{\\left(t \\right)} + 0.6 \\dot x_{3}{\\left(t \\right)}$"
      ],
      "text/plain": [
       "<IPython.core.display.Math object>"
      ]
     },
     "metadata": {},
     "output_type": "display_data"
    },
    {
     "data": {
      "text/latex": [
       "$\\displaystyle \\ddot x_{3}{\\left(t \\right)} = - x_{3}{\\left(t \\right)} + 0.4 \\dot x_{1}{\\left(t \\right)} + 0.6 \\dot x_{2}{\\left(t \\right)} - \\dot x_{3}{\\left(t \\right)}$"
      ],
      "text/plain": [
       "<IPython.core.display.Math object>"
      ]
     },
     "metadata": {},
     "output_type": "display_data"
    },
    {
     "name": "stdout",
     "output_type": "stream",
     "text": [
      "\n",
      "--- in state space format ---\n",
      "\n"
     ]
    },
    {
     "data": {
      "text/latex": [
       "$\\displaystyle \\dot{X}(t) = A X(t) + f$"
      ],
      "text/plain": [
       "<IPython.core.display.Math object>"
      ]
     },
     "metadata": {},
     "output_type": "display_data"
    },
    {
     "name": "stdout",
     "output_type": "stream",
     "text": [
      "where:\n",
      "\n"
     ]
    },
    {
     "data": {
      "text/latex": [
       "$\\displaystyle A = \\left[\\begin{matrix}0 & 0 & 0 & 1 & 0 & 0\\\\0 & 0 & 0 & 0 & 1 & 0\\\\0 & 0 & 0 & 0 & 0 & 1\\\\-2.0 & 1 & 0 & -1 & 0 & 0.5\\\\0.8 & -0.8 & 0 & 0 & -0.6 & 0.6\\\\0 & 0 & -1 & 0.4 & 0.6 & -1\\end{matrix}\\right]f = \\left[\\begin{matrix}0\\\\0\\\\0\\\\0\\\\0.2 f\\\\0\\end{matrix}\\right]$"
      ],
      "text/plain": [
       "<IPython.core.display.Math object>"
      ]
     },
     "metadata": {},
     "output_type": "display_data"
    },
    {
     "data": {
      "text/latex": [
       "$\\displaystyle \\dot x{\\left(t \\right)} = \\left[\\begin{matrix}x_{1}{\\left(t \\right)}\\\\x_{2}{\\left(t \\right)}\\\\x_{3}{\\left(t \\right)}\\\\\\dot x_{1}{\\left(t \\right)}\\\\\\dot x_{2}{\\left(t \\right)}\\\\\\dot x_{3}{\\left(t \\right)}\\end{matrix}\\right]\\ddot x{\\left(t \\right)} = \\left[\\begin{matrix}\\dot x_{1}{\\left(t \\right)}\\\\\\dot x_{2}{\\left(t \\right)}\\\\\\dot x_{3}{\\left(t \\right)}\\\\\\ddot x_{1}{\\left(t \\right)}\\\\\\ddot x_{2}{\\left(t \\right)}\\\\\\ddot x_{3}{\\left(t \\right)}\\end{matrix}\\right]$"
      ],
      "text/plain": [
       "<IPython.core.display.Math object>"
      ]
     },
     "metadata": {},
     "output_type": "display_data"
    }
   ],
   "source": [
    "# setup adjacent matrices for K and B:\n",
    "t, f = symbols('t f')\n",
    "x  = dynamicsymbols('x1 x2 x3')\n",
    "\n",
    "ndof = 3\n",
    "matK = Matrix([[4, 0, 0], [4, 0, 0], [0, 0, 5]])\n",
    "matB = Matrix([[2, 0, 0], [0, 0, 0], [2, 3, 0]])\n",
    "matM = Matrix([4, 5, 5])\n",
    "matF = Matrix([0, f, 0])\n",
    "\n",
    "eq = mass_spring_damper(ndof, matM, matK, matB, matF, x)\n",
    "\n",
    "present_results(eq, x, t)"
   ]
  },
  {
   "cell_type": "markdown",
   "metadata": {},
   "source": [
    "---"
   ]
  },
  {
   "cell_type": "markdown",
   "metadata": {},
   "source": [
    "### Problem 5\n",
    "![](./images/p5.png)"
   ]
  },
  {
   "cell_type": "code",
   "execution_count": 8,
   "metadata": {},
   "outputs": [
    {
     "name": "stdout",
     "output_type": "stream",
     "text": [
      "--- System's equation of motion in ODEs ---\n",
      "\n"
     ]
    },
    {
     "data": {
      "text/latex": [
       "$\\displaystyle \\ddot x_{1}{\\left(t \\right)} = \\frac{Fy}{m_{1}} - \\frac{b_{1} \\dot x_{1}{\\left(t \\right)}}{m_{1}} - \\frac{k_{1} x_{1}{\\left(t \\right)}}{m_{1}} + \\frac{k_{1} x_{2}{\\left(t \\right)}}{m_{1}}$"
      ],
      "text/plain": [
       "<IPython.core.display.Math object>"
      ]
     },
     "metadata": {},
     "output_type": "display_data"
    },
    {
     "data": {
      "text/latex": [
       "$\\displaystyle \\ddot x_{2}{\\left(t \\right)} = - \\frac{b_{2} \\dot x_{2}{\\left(t \\right)}}{m_{2}} + \\frac{k_{1} x_{1}{\\left(t \\right)}}{m_{2}} - \\frac{k_{1} x_{2}{\\left(t \\right)}}{m_{2}} - \\frac{k_{2} x_{2}{\\left(t \\right)}}{m_{2}}$"
      ],
      "text/plain": [
       "<IPython.core.display.Math object>"
      ]
     },
     "metadata": {},
     "output_type": "display_data"
    },
    {
     "name": "stdout",
     "output_type": "stream",
     "text": [
      "\n",
      "--- in state space format ---\n",
      "\n"
     ]
    },
    {
     "data": {
      "text/latex": [
       "$\\displaystyle \\dot{X}(t) = A X(t) + f$"
      ],
      "text/plain": [
       "<IPython.core.display.Math object>"
      ]
     },
     "metadata": {},
     "output_type": "display_data"
    },
    {
     "name": "stdout",
     "output_type": "stream",
     "text": [
      "where:\n",
      "\n"
     ]
    },
    {
     "data": {
      "text/latex": [
       "$\\displaystyle A = \\left[\\begin{matrix}0 & 0 & 1 & 0\\\\0 & 0 & 0 & 1\\\\- \\frac{k_{1}}{m_{1}} & \\frac{k_{1}}{m_{1}} & - \\frac{b_{1}}{m_{1}} & 0\\\\\\frac{k_{1}}{m_{2}} & - \\frac{k_{1}}{m_{2}} - \\frac{k_{2}}{m_{2}} & 0 & - \\frac{b_{2}}{m_{2}}\\end{matrix}\\right]f = \\left[\\begin{matrix}0\\\\0\\\\\\frac{Fy}{m_{1}}\\\\0\\end{matrix}\\right]$"
      ],
      "text/plain": [
       "<IPython.core.display.Math object>"
      ]
     },
     "metadata": {},
     "output_type": "display_data"
    },
    {
     "data": {
      "text/latex": [
       "$\\displaystyle \\dot x{\\left(t \\right)} = \\left[\\begin{matrix}x_{1}{\\left(t \\right)}\\\\x_{2}{\\left(t \\right)}\\\\\\dot x_{1}{\\left(t \\right)}\\\\\\dot x_{2}{\\left(t \\right)}\\end{matrix}\\right]\\ddot x{\\left(t \\right)} = \\left[\\begin{matrix}\\dot x_{1}{\\left(t \\right)}\\\\\\dot x_{2}{\\left(t \\right)}\\\\\\ddot x_{1}{\\left(t \\right)}\\\\\\ddot x_{2}{\\left(t \\right)}\\end{matrix}\\right]$"
      ],
      "text/plain": [
       "<IPython.core.display.Math object>"
      ]
     },
     "metadata": {},
     "output_type": "display_data"
    }
   ],
   "source": [
    "# setup adjacent matrices for K and B:\n",
    "t, Fy, m1, m2, k1, k2, b1, b2 = symbols('t Fy m1 m2 k1 k2 b1 b2')\n",
    "x  = dynamicsymbols('x1 x2')\n",
    "\n",
    "ndof = 2\n",
    "matK = Matrix([[0, 0],[k1, k2]])\n",
    "matB = Matrix([[b1, 0], [0, b2]])\n",
    "matM = Matrix([m1, m2])\n",
    "matF = Matrix([Fy, 0])\n",
    "\n",
    "eq = mass_spring_damper(ndof, matM, matK, matB, matF, x)\n",
    "\n",
    "present_results(eq, x, t)"
   ]
  },
  {
   "cell_type": "markdown",
   "metadata": {},
   "source": [
    "---"
   ]
  },
  {
   "cell_type": "markdown",
   "metadata": {},
   "source": [
    "### Problem 6\n",
    "![](./images/p6.png)\n",
    "\n",
    "https://link.springer.com/article/10.1007/s11831-021-09583-w\n"
   ]
  },
  {
   "cell_type": "code",
   "execution_count": 9,
   "metadata": {},
   "outputs": [
    {
     "name": "stdout",
     "output_type": "stream",
     "text": [
      "--- System's equation of motion in ODEs ---\n",
      "\n"
     ]
    },
    {
     "data": {
      "text/latex": [
       "$\\displaystyle \\ddot x_{1}{\\left(t \\right)} = - \\frac{k_{1} x_{1}{\\left(t \\right)}}{m_{1}} - \\frac{k_{3} x_{1}{\\left(t \\right)}}{m_{1}} + \\frac{k_{3} x_{2}{\\left(t \\right)}}{m_{1}}$"
      ],
      "text/plain": [
       "<IPython.core.display.Math object>"
      ]
     },
     "metadata": {},
     "output_type": "display_data"
    },
    {
     "data": {
      "text/latex": [
       "$\\displaystyle \\ddot x_{2}{\\left(t \\right)} = - \\frac{k_{2} x_{2}{\\left(t \\right)}}{m_{2}} + \\frac{k_{3} x_{1}{\\left(t \\right)}}{m_{2}} - \\frac{k_{3} x_{2}{\\left(t \\right)}}{m_{2}} - \\frac{k_{4} x_{2}{\\left(t \\right)}}{m_{2}} + \\frac{k_{4} x_{3}{\\left(t \\right)}}{m_{2}}$"
      ],
      "text/plain": [
       "<IPython.core.display.Math object>"
      ]
     },
     "metadata": {},
     "output_type": "display_data"
    },
    {
     "data": {
      "text/latex": [
       "$\\displaystyle \\ddot x_{3}{\\left(t \\right)} = \\frac{k_{4} x_{2}{\\left(t \\right)}}{m_{3}} - \\frac{k_{4} x_{3}{\\left(t \\right)}}{m_{3}} - \\frac{k_{5} x_{3}{\\left(t \\right)}}{m_{3}} + \\frac{k_{5} x_{4}{\\left(t \\right)}}{m_{3}}$"
      ],
      "text/plain": [
       "<IPython.core.display.Math object>"
      ]
     },
     "metadata": {},
     "output_type": "display_data"
    },
    {
     "data": {
      "text/latex": [
       "$\\displaystyle \\ddot x_{4}{\\left(t \\right)} = \\frac{k_{5} x_{3}{\\left(t \\right)}}{m_{4}} - \\frac{k_{5} x_{4}{\\left(t \\right)}}{m_{4}} - \\frac{k_{6} x_{4}{\\left(t \\right)}}{m_{4}} - \\frac{k_{7} x_{4}{\\left(t \\right)}}{m_{4}} + \\frac{k_{7} x_{5}{\\left(t \\right)}}{m_{4}}$"
      ],
      "text/plain": [
       "<IPython.core.display.Math object>"
      ]
     },
     "metadata": {},
     "output_type": "display_data"
    },
    {
     "data": {
      "text/latex": [
       "$\\displaystyle \\ddot x_{5}{\\left(t \\right)} = \\frac{k_{7} x_{4}{\\left(t \\right)}}{m_{5}} - \\frac{k_{7} x_{5}{\\left(t \\right)}}{m_{5}} - \\frac{k_{8} x_{5}{\\left(t \\right)}}{m_{5}} - \\frac{k_{9} x_{5}{\\left(t \\right)}}{m_{5}} + \\frac{k_{9} x_{6}{\\left(t \\right)}}{m_{5}}$"
      ],
      "text/plain": [
       "<IPython.core.display.Math object>"
      ]
     },
     "metadata": {},
     "output_type": "display_data"
    },
    {
     "data": {
      "text/latex": [
       "$\\displaystyle \\ddot x_{6}{\\left(t \\right)} = \\frac{k_{9} x_{5}{\\left(t \\right)}}{m_{6}} - \\frac{k_{9} x_{6}{\\left(t \\right)}}{m_{6}}$"
      ],
      "text/plain": [
       "<IPython.core.display.Math object>"
      ]
     },
     "metadata": {},
     "output_type": "display_data"
    },
    {
     "name": "stdout",
     "output_type": "stream",
     "text": [
      "\n",
      "--- in state space format ---\n",
      "\n"
     ]
    },
    {
     "data": {
      "text/latex": [
       "$\\displaystyle \\dot{X}(t) = A X(t) + f$"
      ],
      "text/plain": [
       "<IPython.core.display.Math object>"
      ]
     },
     "metadata": {},
     "output_type": "display_data"
    },
    {
     "name": "stdout",
     "output_type": "stream",
     "text": [
      "where:\n",
      "\n"
     ]
    },
    {
     "data": {
      "text/latex": [
       "$\\displaystyle A = \\left[\\begin{array}{cccccccccccc}0 & 0 & 0 & 0 & 0 & 0 & 1 & 0 & 0 & 0 & 0 & 0\\\\0 & 0 & 0 & 0 & 0 & 0 & 0 & 1 & 0 & 0 & 0 & 0\\\\0 & 0 & 0 & 0 & 0 & 0 & 0 & 0 & 1 & 0 & 0 & 0\\\\0 & 0 & 0 & 0 & 0 & 0 & 0 & 0 & 0 & 1 & 0 & 0\\\\0 & 0 & 0 & 0 & 0 & 0 & 0 & 0 & 0 & 0 & 1 & 0\\\\0 & 0 & 0 & 0 & 0 & 0 & 0 & 0 & 0 & 0 & 0 & 1\\\\- \\frac{k_{1}}{m_{1}} - \\frac{k_{3}}{m_{1}} & \\frac{k_{3}}{m_{1}} & 0 & 0 & 0 & 0 & 0 & 0 & 0 & 0 & 0 & 0\\\\\\frac{k_{3}}{m_{2}} & - \\frac{k_{2}}{m_{2}} - \\frac{k_{3}}{m_{2}} - \\frac{k_{4}}{m_{2}} & \\frac{k_{4}}{m_{2}} & 0 & 0 & 0 & 0 & 0 & 0 & 0 & 0 & 0\\\\0 & \\frac{k_{4}}{m_{3}} & - \\frac{k_{4}}{m_{3}} - \\frac{k_{5}}{m_{3}} & \\frac{k_{5}}{m_{3}} & 0 & 0 & 0 & 0 & 0 & 0 & 0 & 0\\\\0 & 0 & \\frac{k_{5}}{m_{4}} & - \\frac{k_{5}}{m_{4}} - \\frac{k_{6}}{m_{4}} - \\frac{k_{7}}{m_{4}} & \\frac{k_{7}}{m_{4}} & 0 & 0 & 0 & 0 & 0 & 0 & 0\\\\0 & 0 & 0 & \\frac{k_{7}}{m_{5}} & - \\frac{k_{7}}{m_{5}} - \\frac{k_{8}}{m_{5}} - \\frac{k_{9}}{m_{5}} & \\frac{k_{9}}{m_{5}} & 0 & 0 & 0 & 0 & 0 & 0\\\\0 & 0 & 0 & 0 & \\frac{k_{9}}{m_{6}} & - \\frac{k_{9}}{m_{6}} & 0 & 0 & 0 & 0 & 0 & 0\\end{array}\\right]f = \\left[\\begin{matrix}0\\\\0\\\\0\\\\0\\\\0\\\\0\\\\0\\\\0\\\\0\\\\0\\\\0\\\\0\\end{matrix}\\right]$"
      ],
      "text/plain": [
       "<IPython.core.display.Math object>"
      ]
     },
     "metadata": {},
     "output_type": "display_data"
    },
    {
     "data": {
      "text/latex": [
       "$\\displaystyle \\dot x{\\left(t \\right)} = \\left[\\begin{matrix}x_{1}{\\left(t \\right)}\\\\x_{2}{\\left(t \\right)}\\\\x_{3}{\\left(t \\right)}\\\\x_{4}{\\left(t \\right)}\\\\x_{5}{\\left(t \\right)}\\\\x_{6}{\\left(t \\right)}\\\\\\dot x_{1}{\\left(t \\right)}\\\\\\dot x_{2}{\\left(t \\right)}\\\\\\dot x_{3}{\\left(t \\right)}\\\\\\dot x_{4}{\\left(t \\right)}\\\\\\dot x_{5}{\\left(t \\right)}\\\\\\dot x_{6}{\\left(t \\right)}\\end{matrix}\\right]\\ddot x{\\left(t \\right)} = \\left[\\begin{matrix}\\dot x_{1}{\\left(t \\right)}\\\\\\dot x_{2}{\\left(t \\right)}\\\\\\dot x_{3}{\\left(t \\right)}\\\\\\dot x_{4}{\\left(t \\right)}\\\\\\dot x_{5}{\\left(t \\right)}\\\\\\dot x_{6}{\\left(t \\right)}\\\\\\ddot x_{1}{\\left(t \\right)}\\\\\\ddot x_{2}{\\left(t \\right)}\\\\\\ddot x_{3}{\\left(t \\right)}\\\\\\ddot x_{4}{\\left(t \\right)}\\\\\\ddot x_{5}{\\left(t \\right)}\\\\\\ddot x_{6}{\\left(t \\right)}\\end{matrix}\\right]$"
      ],
      "text/plain": [
       "<IPython.core.display.Math object>"
      ]
     },
     "metadata": {},
     "output_type": "display_data"
    }
   ],
   "source": [
    "# setup adjacent matrices for K and B:\n",
    "t, m1, m2, m3, m4, m5, m6, k1, k2, k3, k4, k5, k6, k7, k8, k9 = symbols('t m1 m2 m3 m4 m5 m6 k1 k2 k3 k4 k5 k6 k7 k8 k9')\n",
    "x  = dynamicsymbols('x1 x2 x3 x4 x5 x6')\n",
    "\n",
    "ndof = 6\n",
    "\n",
    "matK = Matrix([[k1, 0,  0,  0 , 0,  0],\n",
    "               [k3, k2, 0,  0,  0,  0],\n",
    "               [0,  k4, 0,  0,  0,  0],\n",
    "               [0,  0,  k5, k6, 0,  0],\n",
    "               [0,  0,  0,  k7, k8, 0],\n",
    "               [0,  0,  0,  0,  k9, 0]])\n",
    "\n",
    "matB = zeros(ndof, ndof)\n",
    "matM = Matrix([m1, m2, m3, m4, m5, m6])\n",
    "matF = zeros(ndof)\n",
    "\n",
    "eq = mass_spring_damper(ndof, matM, matK, matB, matF, x)\n",
    "\n",
    "present_results(eq, x, t)"
   ]
  }
 ],
 "metadata": {
  "kernelspec": {
   "display_name": "Python 3 (ipykernel)",
   "language": "python",
   "name": "python3"
  },
  "language_info": {
   "codemirror_mode": {
    "name": "ipython",
    "version": 3
   },
   "file_extension": ".py",
   "mimetype": "text/x-python",
   "name": "python",
   "nbconvert_exporter": "python",
   "pygments_lexer": "ipython3",
   "version": "3.12.3"
  }
 },
 "nbformat": 4,
 "nbformat_minor": 4
}

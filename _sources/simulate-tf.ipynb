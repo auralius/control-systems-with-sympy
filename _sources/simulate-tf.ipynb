{
 "cells": [
  {
   "cell_type": "markdown",
   "id": "1fd3e5eb-1c93-4dda-98f1-c63f078f6aed",
   "metadata": {},
   "source": [
    "# Simulating a transfer function"
   ]
  },
  {
   "cell_type": "markdown",
   "id": "22ede89b-651b-4e4f-93e8-08d28a93b39a",
   "metadata": {},
   "source": [
    "With SymPy, simulating a transfer function becomes very straightforward, which only involes Laplace transformation and multiplication."
   ]
  },
  {
   "cell_type": "markdown",
   "id": "fc74179e-09b0-4f5a-9828-a2453e5d808e",
   "metadata": {},
   "source": [
    "![](./images/p12.png)"
   ]
  },
  {
   "cell_type": "code",
   "execution_count": null,
   "id": "32cf969e-fd44-435c-92bd-80ac32d6ff2a",
   "metadata": {},
   "outputs": [],
   "source": []
  }
 ],
 "metadata": {
  "kernelspec": {
   "display_name": "Python 3 (ipykernel)",
   "language": "python",
   "name": "python3"
  },
  "language_info": {
   "codemirror_mode": {
    "name": "ipython",
    "version": 3
   },
   "file_extension": ".py",
   "mimetype": "text/x-python",
   "name": "python",
   "nbconvert_exporter": "python",
   "pygments_lexer": "ipython3",
   "version": "3.12.3"
  }
 },
 "nbformat": 4,
 "nbformat_minor": 5
}

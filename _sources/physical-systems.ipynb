{
 "cells": [
  {
   "cell_type": "markdown",
   "id": "36ab1d65-80c2-441d-bc2c-8e320eb31c13",
   "metadata": {},
   "source": [
    "# Physical system modeling"
   ]
  },
  {
   "cell_type": "markdown",
   "id": "14e63b3d-b036-43b1-89ee-9c1749a60173",
   "metadata": {},
   "source": [
    "## Problem 1: flyball speed governor"
   ]
  },
  {
   "cell_type": "markdown",
   "id": "3db95e3b-b684-4dfd-98b0-17a7d636e97e",
   "metadata": {},
   "source": [
    "## Problem 2: ball on mass\n",
    "\n",
    "An inertia $J$ of radius $r$ attached to a fixed axis of rotation $A$ as shown on the next page. The inertia is in contact with a mass $M$ attached via a spring of stiffness $K$ to a fixed wall. The inertia-mass contact is subject to viscous friction of coefficient $f_v$. The motion of the mass with respect to the horizontal floor is subject to the same viscous friction coefficient $f_v$. The system input is a horizontal force $f(t)$ on the mass $M$ and the output is the rotation $\\theta(t)$ of the inertia.\n",
    "\n",
    "![](./images/p9.png)"
   ]
  },
  {
   "cell_type": "code",
   "execution_count": null,
   "id": "3d51582f-6e9a-4292-a9a7-393f837078f1",
   "metadata": {},
   "outputs": [],
   "source": []
  },
  {
   "cell_type": "markdown",
   "id": "2c21140d-79c6-4bc9-9830-7fdba58b4f76",
   "metadata": {},
   "source": [
    "## Problem 3: swinging pendulum\n",
    "\n",
    "A pendulum consisting of a mass $m$ attached to a rigid mass-less rod as shown below. The system input is a horizontal external force and the output is the angle $\\theta$.\n",
    "\n",
    "![](./images/p10.png)"
   ]
  },
  {
   "cell_type": "code",
   "execution_count": null,
   "id": "6d33ab6a-0ead-45c4-ba58-0610d492dc43",
   "metadata": {},
   "outputs": [],
   "source": []
  }
 ],
 "metadata": {
  "kernelspec": {
   "display_name": "Python 3 (ipykernel)",
   "language": "python",
   "name": "python3"
  },
  "language_info": {
   "codemirror_mode": {
    "name": "ipython",
    "version": 3
   },
   "file_extension": ".py",
   "mimetype": "text/x-python",
   "name": "python",
   "nbconvert_exporter": "python",
   "pygments_lexer": "ipython3",
   "version": "3.12.3"
  }
 },
 "nbformat": 4,
 "nbformat_minor": 5
}

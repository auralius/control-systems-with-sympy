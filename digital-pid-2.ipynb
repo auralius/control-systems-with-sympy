{
 "cells": [
  {
   "cell_type": "markdown",
   "metadata": {},
   "source": [
    "# Digital PID Control - Part 2"
   ]
  },
  {
   "cell_type": "markdown",
   "metadata": {},
   "source": [
    "![](./images/p19.png)"
   ]
  },
  {
   "cell_type": "markdown",
   "metadata": {},
   "source": [
    "In this section, we will -- part-by-part -- derive the integral and derivative terms of a PID control. We will use **backward Euler, forward Euler, and bilinear transformation** for the discretization."
   ]
  },
  {
   "cell_type": "markdown",
   "metadata": {},
   "source": [
    "## Required Imports"
   ]
  },
  {
   "cell_type": "code",
   "execution_count": 17,
   "metadata": {},
   "outputs": [],
   "source": [
    "from IPython.core.display import HTML\n",
    "from sympy import *\n",
    "from mathprint import *"
   ]
  },
  {
   "cell_type": "markdown",
   "metadata": {},
   "source": [
    "## Preparations"
   ]
  },
  {
   "cell_type": "code",
   "execution_count": 18,
   "metadata": {
    "editable": true,
    "slideshow": {
     "slide_type": ""
    },
    "tags": []
   },
   "outputs": [],
   "source": [
    "Kp, Ki, Kd = symbols('K_p K_i K_d', positive=True)\n",
    "\n",
    "Ts, N = symbols('T_s N', positive=True)\n",
    "t  = symbols('t', positive=True)\n",
    "s  = symbols('s', complex=True)\n",
    "z  = symbols('z')\n",
    "\n",
    "e, P, I, D = symbols('e P I D')\n",
    "e1p, e0, e1, e2 = symbols('e_{k+1} e_k e_{k-1} e_{k-2}')\n",
    "I1p, I0, I1, I2 = symbols('I_{k+1} I_k I_{k-1} I_{k-2}')\n",
    "D1p, D0, D1, D2 = symbols('D_{k+1} D_k D_{k-1} D_{k-2}')\n"
   ]
  },
  {
   "cell_type": "markdown",
   "metadata": {
    "editable": true,
    "slideshow": {
     "slide_type": ""
    },
    "tags": []
   },
   "source": [
    "## The Three Transformations\n",
    "\n",
    "- `FE` for Forward Euler (ZOH)\n",
    "- `BE` for Backward Euler (ZOH)\n",
    "- `BT` for Bilinear Transformation (Tustin)"
   ]
  },
  {
   "cell_type": "code",
   "execution_count": 19,
   "metadata": {
    "editable": true,
    "slideshow": {
     "slide_type": ""
    },
    "tags": []
   },
   "outputs": [],
   "source": [
    "FE = Ts / (z- 1)\n",
    "BE = z*Ts / (z-1)\n",
    "BT = Ts/2 * (z+1)/(z-1)"
   ]
  },
  {
   "cell_type": "markdown",
   "metadata": {
    "editable": true,
    "slideshow": {
     "slide_type": ""
    },
    "tags": []
   },
   "source": [
    "## Integral Control Action"
   ]
  },
  {
   "cell_type": "markdown",
   "metadata": {
    "editable": true,
    "slideshow": {
     "slide_type": ""
    },
    "tags": []
   },
   "source": [
    "Let us set $G_I$ as the integral control transfer funcion and $K_i$ as the gain."
   ]
  },
  {
   "cell_type": "code",
   "execution_count": 20,
   "metadata": {
    "editable": true,
    "slideshow": {
     "slide_type": ""
    },
    "tags": []
   },
   "outputs": [
    {
     "data": {
      "text/latex": [
       "$\\displaystyle G_I(s)= \\frac{K_{i}}{s}$"
      ],
      "text/plain": [
       "<IPython.core.display.Math object>"
      ]
     },
     "metadata": {},
     "output_type": "display_data"
    }
   ],
   "source": [
    "GI = Ki/s\n",
    "mprint(\"G_I(s)= \", latex(GI))"
   ]
  },
  {
   "cell_type": "markdown",
   "metadata": {
    "editable": true,
    "slideshow": {
     "slide_type": ""
    },
    "tags": []
   },
   "source": [
    "### <u>With Backward Euler</u>"
   ]
  },
  {
   "cell_type": "markdown",
   "metadata": {
    "editable": true,
    "slideshow": {
     "slide_type": ""
    },
    "tags": []
   },
   "source": [
    "Let us set $e$ as the control input and $I$ as the control output."
   ]
  },
  {
   "cell_type": "code",
   "execution_count": 21,
   "metadata": {
    "editable": true,
    "slideshow": {
     "slide_type": ""
    },
    "tags": []
   },
   "outputs": [
    {
     "data": {
      "text/latex": [
       "$\\displaystyle I = \\frac{K_{i} T_{s} e z}{z - 1}$"
      ],
      "text/plain": [
       "<IPython.core.display.Math object>"
      ]
     },
     "metadata": {},
     "output_type": "display_data"
    },
    {
     "data": {
      "text/latex": [
       "$\\displaystyle K_{i} T_{s} e z = I \\left(z - 1\\right)$"
      ],
      "text/plain": [
       "<IPython.core.display.Math object>"
      ]
     },
     "metadata": {},
     "output_type": "display_data"
    },
    {
     "data": {
      "text/latex": [
       "$\\displaystyle K_{i} T_{s} e z = I z - I$"
      ],
      "text/plain": [
       "<IPython.core.display.Math object>"
      ]
     },
     "metadata": {},
     "output_type": "display_data"
    },
    {
     "data": {
      "text/latex": [
       "$\\displaystyle K_{i} T_{s} e_{k+1} = - I_{k} + I_{k+1}$"
      ],
      "text/plain": [
       "<IPython.core.display.Math object>"
      ]
     },
     "metadata": {},
     "output_type": "display_data"
    },
    {
     "data": {
      "text/latex": [
       "$\\displaystyle - I_{k} + I_{k+1} = K_{i} T_{s} e_{k+1}$"
      ],
      "text/plain": [
       "<IPython.core.display.Math object>"
      ]
     },
     "metadata": {},
     "output_type": "display_data"
    },
    {
     "data": {
      "text/latex": [
       "$\\displaystyle \\boxed{I_{k+1} = I_{k} + K_{i} T_{s} e_{k+1}}$"
      ],
      "text/plain": [
       "<IPython.core.display.Math object>"
      ]
     },
     "metadata": {},
     "output_type": "display_data"
    }
   ],
   "source": [
    "eq = Eq(I, e*GI.subs(1/s, BE))\n",
    "mprint(latex(eq))\n",
    "\n",
    "eq = (Eq(numer(eq.rhs), eq.lhs * denom(eq.rhs)))\n",
    "mprint(latex(eq))\n",
    "\n",
    "eq = expand(Eq(eq.lhs, eq.rhs))\n",
    "mprint(latex(eq))\n",
    "\n",
    "eq = expand(eq).subs(e/z**2, e2).subs(e/z, e1).subs(e*z, e1p).subs(e, e0).subs(I/z, I1).subs(I*z, I1p).subs(I, I0)\n",
    "mprint(latex(eq))\n",
    "\n",
    "IBE = Eq(collect(eq.rhs, [1/Ts]), collect(eq.lhs, [Ki]) )\n",
    "mprint(latex(IBE))\n",
    "\n",
    "IBE = Eq(I1p, solve(IBE, I1p)[0])\n",
    "mprintb(latex(IBE))\n"
   ]
  },
  {
   "cell_type": "markdown",
   "metadata": {
    "editable": true,
    "slideshow": {
     "slide_type": ""
    },
    "tags": []
   },
   "source": [
    "### <u>With Forward Euler</u>"
   ]
  },
  {
   "cell_type": "markdown",
   "metadata": {},
   "source": [
    "Let us set $e$ as the control input and $I$ as the control output."
   ]
  },
  {
   "cell_type": "code",
   "execution_count": 22,
   "metadata": {},
   "outputs": [
    {
     "data": {
      "text/latex": [
       "$\\displaystyle I = \\frac{K_{i} T_{s} e}{z - 1}$"
      ],
      "text/plain": [
       "<IPython.core.display.Math object>"
      ]
     },
     "metadata": {},
     "output_type": "display_data"
    },
    {
     "data": {
      "text/latex": [
       "$\\displaystyle K_{i} T_{s} e = I \\left(z - 1\\right)$"
      ],
      "text/plain": [
       "<IPython.core.display.Math object>"
      ]
     },
     "metadata": {},
     "output_type": "display_data"
    },
    {
     "data": {
      "text/latex": [
       "$\\displaystyle K_{i} T_{s} e = I z - I$"
      ],
      "text/plain": [
       "<IPython.core.display.Math object>"
      ]
     },
     "metadata": {},
     "output_type": "display_data"
    },
    {
     "data": {
      "text/latex": [
       "$\\displaystyle K_{i} T_{s} e_{k} = - I_{k} + I_{k+1}$"
      ],
      "text/plain": [
       "<IPython.core.display.Math object>"
      ]
     },
     "metadata": {},
     "output_type": "display_data"
    },
    {
     "data": {
      "text/latex": [
       "$\\displaystyle - I_{k} + I_{k+1} = K_{i} T_{s} e_{k}$"
      ],
      "text/plain": [
       "<IPython.core.display.Math object>"
      ]
     },
     "metadata": {},
     "output_type": "display_data"
    },
    {
     "data": {
      "text/latex": [
       "$\\displaystyle \\boxed{I_{k+1} = I_{k} + K_{i} T_{s} e_{k}}$"
      ],
      "text/plain": [
       "<IPython.core.display.Math object>"
      ]
     },
     "metadata": {},
     "output_type": "display_data"
    }
   ],
   "source": [
    "eq = Eq(I, e*GI.subs(1/s, FE))\n",
    "mprint(latex(eq))\n",
    "\n",
    "eq = (Eq(numer(eq.rhs), eq.lhs * denom(eq.rhs)))\n",
    "mprint(latex(eq))\n",
    "\n",
    "eq = expand(Eq(eq.lhs, eq.rhs ))\n",
    "mprint(latex(eq))\n",
    "\n",
    "eq = expand(eq).subs(e/z**2, e2).subs(e/z, e1).subs(e*z, e1p).subs(e, e0).subs(I/z, I1).subs(I*z, I1p).subs(I, I0)\n",
    "mprint(latex(eq))\n",
    "\n",
    "IFE = Eq(collect(eq.rhs, [1/Ts]), collect(eq.lhs, [Ki]) )\n",
    "mprint(latex(IFE))\n",
    "\n",
    "IFE = Eq(I1p, solve(IFE, I1p)[0])\n",
    "mprintb(latex(IFE))\n"
   ]
  },
  {
   "cell_type": "markdown",
   "metadata": {},
   "source": [
    "### <u>With Bilinear Transformation</u>"
   ]
  },
  {
   "cell_type": "markdown",
   "metadata": {},
   "source": [
    "Let us set $e$ as the control input and $I$ as the control output."
   ]
  },
  {
   "cell_type": "code",
   "execution_count": 23,
   "metadata": {},
   "outputs": [
    {
     "data": {
      "text/latex": [
       "$\\displaystyle I = \\frac{K_{i} T_{s} e \\left(z + 1\\right)}{2 \\left(z - 1\\right)}$"
      ],
      "text/plain": [
       "<IPython.core.display.Math object>"
      ]
     },
     "metadata": {},
     "output_type": "display_data"
    },
    {
     "data": {
      "text/latex": [
       "$\\displaystyle K_{i} T_{s} e \\left(z + 1\\right) = I \\left(2 z - 2\\right)$"
      ],
      "text/plain": [
       "<IPython.core.display.Math object>"
      ]
     },
     "metadata": {},
     "output_type": "display_data"
    },
    {
     "data": {
      "text/latex": [
       "$\\displaystyle K_{i} e z + K_{i} e = \\frac{2 I z}{T_{s}} - \\frac{2 I}{T_{s}}$"
      ],
      "text/plain": [
       "<IPython.core.display.Math object>"
      ]
     },
     "metadata": {},
     "output_type": "display_data"
    },
    {
     "data": {
      "text/latex": [
       "$\\displaystyle K_{i} e_{k} + K_{i} e_{k+1} = - \\frac{2 I_{k}}{T_{s}} + \\frac{2 I_{k+1}}{T_{s}}$"
      ],
      "text/plain": [
       "<IPython.core.display.Math object>"
      ]
     },
     "metadata": {},
     "output_type": "display_data"
    },
    {
     "data": {
      "text/latex": [
       "$\\displaystyle I_{k+1} = I_{k} + \\frac{K_{i} T_{s} e_{k}}{2} + \\frac{K_{i} T_{s} e_{k+1}}{2}$"
      ],
      "text/plain": [
       "<IPython.core.display.Math object>"
      ]
     },
     "metadata": {},
     "output_type": "display_data"
    },
    {
     "data": {
      "text/latex": [
       "$\\displaystyle \\boxed{I_{k+1} = I_{k} + \\frac{K_{i} T_{s} \\left(e_{k} + e_{k+1}\\right)}{2}}$"
      ],
      "text/plain": [
       "<IPython.core.display.Math object>"
      ]
     },
     "metadata": {},
     "output_type": "display_data"
    }
   ],
   "source": [
    "eq = Eq(I, e*GI.subs(1/s, BT))\n",
    "mprint(latex(eq))\n",
    "\n",
    "eq = (Eq(numer(eq.rhs), eq.lhs * denom(eq.rhs)))\n",
    "mprint(latex(eq))\n",
    "\n",
    "eq = expand(Eq(eq.lhs/Ts, eq.rhs/Ts ))\n",
    "mprint(latex(eq))\n",
    "\n",
    "eq = expand(eq).subs(e/z**2, e2).subs(e/z, e1).subs(e*z, e1p).subs(e, e0).subs(I/z, I1).subs(I*z, I1p).subs(I, I0)\n",
    "mprint(latex(eq))\n",
    "\n",
    "IBT = Eq(I1p, solve(eq, I1p)[0])\n",
    "mprint(latex(IBT))\n",
    "\n",
    "IBT = Eq(I1p, collect(IBT.rhs, Ki*Ts/2))\n",
    "mprintb(latex(IBT))"
   ]
  },
  {
   "cell_type": "markdown",
   "metadata": {},
   "source": [
    "## Differential Control Action"
   ]
  },
  {
   "cell_type": "markdown",
   "metadata": {},
   "source": [
    "Let us set $G_D$ as the integral control transfer funcion and $K_d$ as the gain."
   ]
  },
  {
   "cell_type": "code",
   "execution_count": 24,
   "metadata": {},
   "outputs": [
    {
     "data": {
      "text/latex": [
       "$\\displaystyle G_D(s)= K_{d} s$"
      ],
      "text/plain": [
       "<IPython.core.display.Math object>"
      ]
     },
     "metadata": {},
     "output_type": "display_data"
    }
   ],
   "source": [
    "GD = s*Kd\n",
    "mprint(\"G_D(s)= \", latex(GD))"
   ]
  },
  {
   "cell_type": "markdown",
   "metadata": {},
   "source": [
    "### <u>With Backward Euler</u>"
   ]
  },
  {
   "cell_type": "markdown",
   "metadata": {},
   "source": [
    "Let us set $e$ as the control input and $D$ as the control output."
   ]
  },
  {
   "cell_type": "code",
   "execution_count": 25,
   "metadata": {},
   "outputs": [
    {
     "data": {
      "text/latex": [
       "$\\displaystyle D = \\frac{K_{d} e \\left(z - 1\\right)}{T_{s} z}$"
      ],
      "text/plain": [
       "<IPython.core.display.Math object>"
      ]
     },
     "metadata": {},
     "output_type": "display_data"
    },
    {
     "data": {
      "text/latex": [
       "$\\displaystyle D = \\frac{K_{d} e \\left(z - 1\\right)}{T_{s} z}$"
      ],
      "text/plain": [
       "<IPython.core.display.Math object>"
      ]
     },
     "metadata": {},
     "output_type": "display_data"
    },
    {
     "data": {
      "text/latex": [
       "$\\displaystyle K_{d} e \\left(z - 1\\right) = D T_{s} z$"
      ],
      "text/plain": [
       "<IPython.core.display.Math object>"
      ]
     },
     "metadata": {},
     "output_type": "display_data"
    },
    {
     "data": {
      "text/latex": [
       "$\\displaystyle \\frac{K_{d} e}{T_{s}} - \\frac{K_{d} e}{T_{s} z} = D$"
      ],
      "text/plain": [
       "<IPython.core.display.Math object>"
      ]
     },
     "metadata": {},
     "output_type": "display_data"
    },
    {
     "data": {
      "text/latex": [
       "$\\displaystyle \\frac{K_{d} e_{k}}{T_{s}} - \\frac{K_{d} e_{k-1}}{T_{s}} = D_{k}$"
      ],
      "text/plain": [
       "<IPython.core.display.Math object>"
      ]
     },
     "metadata": {},
     "output_type": "display_data"
    },
    {
     "data": {
      "text/latex": [
       "$\\displaystyle \\boxed{D_{k} = \\frac{K_{d} \\left(e_{k} - e_{k-1}\\right)}{T_{s}}}$"
      ],
      "text/plain": [
       "<IPython.core.display.Math object>"
      ]
     },
     "metadata": {},
     "output_type": "display_data"
    }
   ],
   "source": [
    "eq = Eq(D, e*GD.subs(1/s, BE))\n",
    "mprint(latex(eq))\n",
    "\n",
    "eq = factor(eq)\n",
    "mprint(latex(eq))\n",
    "\n",
    "eq = (Eq(numer(eq.rhs), eq.lhs * denom(eq.rhs)))\n",
    "mprint(latex(eq))\n",
    "\n",
    "eq = expand(Eq(eq.lhs/z/Ts, eq.rhs/z/Ts ))\n",
    "mprint(latex(eq))\n",
    "\n",
    "eq = expand(eq).subs(e/z**2, e2).subs(e/z, e1).subs(e, e0).subs(D/z, D1).subs(D, D0)\n",
    "mprint(latex(eq))\n",
    "\n",
    "DBE = Eq(collect(eq.rhs, [D0, D1]), collect(eq.lhs, Kd/Ts))\n",
    "mprintb(latex(DBE))"
   ]
  },
  {
   "cell_type": "markdown",
   "metadata": {},
   "source": [
    "### <u>With Forward Euler</u>"
   ]
  },
  {
   "cell_type": "markdown",
   "metadata": {},
   "source": [
    "Let us set $e$ as the control input and $D$ as the control output."
   ]
  },
  {
   "cell_type": "code",
   "execution_count": 26,
   "metadata": {},
   "outputs": [
    {
     "data": {
      "text/latex": [
       "$\\displaystyle D = \\frac{K_{d} e \\left(z - 1\\right)}{T_{s}}$"
      ],
      "text/plain": [
       "<IPython.core.display.Math object>"
      ]
     },
     "metadata": {},
     "output_type": "display_data"
    },
    {
     "data": {
      "text/latex": [
       "$\\displaystyle D_{k} = - \\frac{K_{d} e_{k}}{T_{s}} + \\frac{K_{d} e_{k+1}}{T_{s}}$"
      ],
      "text/plain": [
       "<IPython.core.display.Math object>"
      ]
     },
     "metadata": {},
     "output_type": "display_data"
    },
    {
     "data": {
      "text/latex": [
       "$\\displaystyle \\boxed{D_{k} = \\frac{K_{d} \\left(- e_{k} + e_{k+1}\\right)}{T_{s}}}$"
      ],
      "text/plain": [
       "<IPython.core.display.Math object>"
      ]
     },
     "metadata": {},
     "output_type": "display_data"
    }
   ],
   "source": [
    "eq = Eq(D, e*GD.subs(1/s, FE))\n",
    "mprint(latex(eq))\n",
    "\n",
    "eq = expand(eq).subs(e/z**2, e2).subs(e/z, e1).subs(e*z, e1p).subs(e, e0).subs(D/z, D1).subs(D, D0)\n",
    "mprint(latex(eq))\n",
    "\n",
    "DFE = Eq(eq.lhs, collect(eq.rhs, Kd/Ts))\n",
    "mprintb(latex(DFE))"
   ]
  },
  {
   "cell_type": "markdown",
   "metadata": {},
   "source": [
    "### <u>With Bilinear Transformation</u>"
   ]
  },
  {
   "cell_type": "markdown",
   "metadata": {},
   "source": [
    "Let us set $e$ as the control input and $D$ as the control output."
   ]
  },
  {
   "cell_type": "code",
   "execution_count": 27,
   "metadata": {},
   "outputs": [
    {
     "data": {
      "text/latex": [
       "$\\displaystyle D = \\frac{2 K_{d} e \\left(z - 1\\right)}{T_{s} \\left(z + 1\\right)}$"
      ],
      "text/plain": [
       "<IPython.core.display.Math object>"
      ]
     },
     "metadata": {},
     "output_type": "display_data"
    },
    {
     "data": {
      "text/latex": [
       "$\\displaystyle D = \\frac{2 K_{d} e \\left(z - 1\\right)}{T_{s} \\left(z + 1\\right)}$"
      ],
      "text/plain": [
       "<IPython.core.display.Math object>"
      ]
     },
     "metadata": {},
     "output_type": "display_data"
    },
    {
     "data": {
      "text/latex": [
       "$\\displaystyle 2 K_{d} e \\left(z - 1\\right) = D T_{s} \\left(z + 1\\right)$"
      ],
      "text/plain": [
       "<IPython.core.display.Math object>"
      ]
     },
     "metadata": {},
     "output_type": "display_data"
    },
    {
     "data": {
      "text/latex": [
       "$\\displaystyle \\frac{2 K_{d} e}{T_{s}} - \\frac{2 K_{d} e}{T_{s} z} = D + \\frac{D}{z}$"
      ],
      "text/plain": [
       "<IPython.core.display.Math object>"
      ]
     },
     "metadata": {},
     "output_type": "display_data"
    },
    {
     "data": {
      "text/latex": [
       "$\\displaystyle \\frac{2 K_{d} e_{k}}{T_{s}} - \\frac{2 K_{d} e_{k-1}}{T_{s}} = D_{k} + D_{k-1}$"
      ],
      "text/plain": [
       "<IPython.core.display.Math object>"
      ]
     },
     "metadata": {},
     "output_type": "display_data"
    },
    {
     "data": {
      "text/latex": [
       "$\\displaystyle D_{k} = \\frac{- D_{k-1} T_{s} + 2 K_{d} e_{k} - 2 K_{d} e_{k-1}}{T_{s}}$"
      ],
      "text/plain": [
       "<IPython.core.display.Math object>"
      ]
     },
     "metadata": {},
     "output_type": "display_data"
    },
    {
     "data": {
      "text/latex": [
       "$\\displaystyle \\boxed{D_{k} = \\frac{- D_{k-1} T_{s} + 2 K_{d} \\left(e_{k} - e_{k-1}\\right)}{T_{s}}}$"
      ],
      "text/plain": [
       "<IPython.core.display.Math object>"
      ]
     },
     "metadata": {},
     "output_type": "display_data"
    }
   ],
   "source": [
    "eq = Eq(D, e*GD.subs(1/s, BT))\n",
    "mprint(latex(eq))\n",
    "\n",
    "eq = factor(eq)\n",
    "mprint(latex(eq))\n",
    "\n",
    "eq = (Eq(numer(eq.rhs), eq.lhs * denom(eq.rhs)))\n",
    "mprint(latex(eq))\n",
    "\n",
    "eq = expand(Eq(eq.lhs/z/Ts, eq.rhs/z/Ts ))\n",
    "mprint(latex(eq))\n",
    "\n",
    "eq = expand(eq).subs(e/z**2, e2).subs(e/z, e1).subs(e, e0).subs(D/z, D1).subs(D, D0)\n",
    "mprint(latex(eq))\n",
    "\n",
    "DBT = Eq(D0, solve(eq, D0)[0])\n",
    "mprint(latex(DBT))\n",
    "\n",
    "DBT = Eq(D0, collect(DBT.rhs, 2*Kd))\n",
    "mprintb(latex(DBT))"
   ]
  },
  {
   "cell_type": "markdown",
   "metadata": {},
   "source": [
    "## Differential Control Action with Derivative Filter"
   ]
  },
  {
   "cell_type": "markdown",
   "metadata": {},
   "source": [
    "Let us set $G_D$ as the integral control transfer funcion, $K_d$ as the gain and $1/N$ as the filter time-constant."
   ]
  },
  {
   "cell_type": "code",
   "execution_count": 28,
   "metadata": {},
   "outputs": [
    {
     "data": {
      "text/latex": [
       "$\\displaystyle G_D(s)= K_{d} s$"
      ],
      "text/plain": [
       "<IPython.core.display.Math object>"
      ]
     },
     "metadata": {},
     "output_type": "display_data"
    },
    {
     "data": {
      "text/latex": [
       "$\\displaystyle G_D(s)= K_{d} s$"
      ],
      "text/plain": [
       "<IPython.core.display.Math object>"
      ]
     },
     "metadata": {},
     "output_type": "display_data"
    }
   ],
   "source": [
    "GDF = s*Kd*1/(1/N*s+1)\n",
    "mprint(\"G_D(s)= \", latex(GD))\n",
    "\n",
    "GDF = simplify(GDF)\n",
    "mprint(\"G_D(s)= \", latex(GD))"
   ]
  },
  {
   "cell_type": "markdown",
   "metadata": {},
   "source": [
    "### <u>With Backward Euler</u>"
   ]
  },
  {
   "cell_type": "markdown",
   "metadata": {},
   "source": [
    "Let us set $e$ as the control input and $D$ as the control output."
   ]
  },
  {
   "cell_type": "code",
   "execution_count": 29,
   "metadata": {},
   "outputs": [
    {
     "data": {
      "text/latex": [
       "$\\displaystyle D = \\frac{K_{d} N e \\left(z - 1\\right)}{T_{s} z \\left(N + \\frac{z - 1}{T_{s} z}\\right)}$"
      ],
      "text/plain": [
       "<IPython.core.display.Math object>"
      ]
     },
     "metadata": {},
     "output_type": "display_data"
    },
    {
     "data": {
      "text/latex": [
       "$\\displaystyle D = \\frac{K_{d} N e \\left(z - 1\\right)}{N T_{s} z + z - 1}$"
      ],
      "text/plain": [
       "<IPython.core.display.Math object>"
      ]
     },
     "metadata": {},
     "output_type": "display_data"
    },
    {
     "data": {
      "text/latex": [
       "$\\displaystyle K_{d} N e \\left(z - 1\\right) = D \\left(N T_{s} z + z - 1\\right)$"
      ],
      "text/plain": [
       "<IPython.core.display.Math object>"
      ]
     },
     "metadata": {},
     "output_type": "display_data"
    },
    {
     "data": {
      "text/latex": [
       "$\\displaystyle \\frac{K_{d} N e}{T_{s}} - \\frac{K_{d} N e}{T_{s} z} = D N + \\frac{D}{T_{s}} - \\frac{D}{T_{s} z}$"
      ],
      "text/plain": [
       "<IPython.core.display.Math object>"
      ]
     },
     "metadata": {},
     "output_type": "display_data"
    },
    {
     "data": {
      "text/latex": [
       "$\\displaystyle \\frac{K_{d} N e_{k}}{T_{s}} - \\frac{K_{d} N e_{k-1}}{T_{s}} = D_{k} N + \\frac{D_{k}}{T_{s}} - \\frac{D_{k-1}}{T_{s}}$"
      ],
      "text/plain": [
       "<IPython.core.display.Math object>"
      ]
     },
     "metadata": {},
     "output_type": "display_data"
    },
    {
     "data": {
      "text/latex": [
       "$\\displaystyle D_{k} \\left(N + \\frac{1}{T_{s}}\\right) - \\frac{D_{k-1}}{T_{s}} = \\frac{K_{d} N \\left(e_{k} - e_{k-1}\\right)}{T_{s}}$"
      ],
      "text/plain": [
       "<IPython.core.display.Math object>"
      ]
     },
     "metadata": {},
     "output_type": "display_data"
    },
    {
     "data": {
      "text/latex": [
       "$\\displaystyle \\boxed{D_{k} = \\frac{D_{k-1} + K_{d} N \\left(e_{k} - e_{k-1}\\right)}{N T_{s} + 1}}$"
      ],
      "text/plain": [
       "<IPython.core.display.Math object>"
      ]
     },
     "metadata": {},
     "output_type": "display_data"
    }
   ],
   "source": [
    "eq = Eq(D, e*GDF.subs(1/s, BE))\n",
    "mprint(latex(eq))\n",
    "\n",
    "eq = factor(eq)\n",
    "mprint(latex(eq))\n",
    "\n",
    "eq = (Eq(numer(eq.rhs), eq.lhs * denom(eq.rhs)))\n",
    "mprint(latex(eq))\n",
    "\n",
    "eq = expand(Eq(eq.lhs/z/Ts, eq.rhs/z/Ts ))\n",
    "mprint(latex(eq))\n",
    "\n",
    "eq = expand(eq).subs(e/z**2, e2).subs(e/z, e1).subs(e, e0).subs(D/z, D1).subs(D, D0)\n",
    "mprint(latex(eq))\n",
    "\n",
    "DBEF = Eq(collect(eq.rhs, [D0, D1]), collect(eq.lhs, N*Kd/Ts))\n",
    "mprint(latex(DBEF))\n",
    "\n",
    "DBEF = Eq(D0, collect(solve(DBEF, D0)[0], Kd*N))\n",
    "mprintb(latex(DBEF))"
   ]
  },
  {
   "cell_type": "markdown",
   "metadata": {},
   "source": [
    "### <u>With Forward Euler</u>"
   ]
  },
  {
   "cell_type": "markdown",
   "metadata": {},
   "source": [
    "Let us set $e$ as the control input and $D$ as the control output."
   ]
  },
  {
   "cell_type": "code",
   "execution_count": 30,
   "metadata": {},
   "outputs": [
    {
     "data": {
      "text/latex": [
       "$\\displaystyle D = \\frac{K_{d} N e \\left(z - 1\\right)}{T_{s} \\left(N + \\frac{z - 1}{T_{s}}\\right)}$"
      ],
      "text/plain": [
       "<IPython.core.display.Math object>"
      ]
     },
     "metadata": {},
     "output_type": "display_data"
    },
    {
     "data": {
      "text/latex": [
       "$\\displaystyle D = \\frac{K_{d} N e \\left(z - 1\\right)}{N T_{s} + z - 1}$"
      ],
      "text/plain": [
       "<IPython.core.display.Math object>"
      ]
     },
     "metadata": {},
     "output_type": "display_data"
    },
    {
     "data": {
      "text/latex": [
       "$\\displaystyle K_{d} N e \\left(z - 1\\right) = D \\left(N T_{s} + z - 1\\right)$"
      ],
      "text/plain": [
       "<IPython.core.display.Math object>"
      ]
     },
     "metadata": {},
     "output_type": "display_data"
    },
    {
     "data": {
      "text/latex": [
       "$\\displaystyle \\frac{K_{d} N e z}{T_{s}} - \\frac{K_{d} N e}{T_{s}} = D N + \\frac{D z}{T_{s}} - \\frac{D}{T_{s}}$"
      ],
      "text/plain": [
       "<IPython.core.display.Math object>"
      ]
     },
     "metadata": {},
     "output_type": "display_data"
    },
    {
     "data": {
      "text/latex": [
       "$\\displaystyle - \\frac{K_{d} N e_{k}}{T_{s}} + \\frac{K_{d} N e_{k+1}}{T_{s}} = D_{k} N - \\frac{D_{k}}{T_{s}} + \\frac{D_{k+1}}{T_{s}}$"
      ],
      "text/plain": [
       "<IPython.core.display.Math object>"
      ]
     },
     "metadata": {},
     "output_type": "display_data"
    },
    {
     "data": {
      "text/latex": [
       "$\\displaystyle D_{k} \\left(N - \\frac{1}{T_{s}}\\right) + \\frac{D_{k+1}}{T_{s}} = \\frac{K_{d} N \\left(- e_{k} + e_{k+1}\\right)}{T_{s}}$"
      ],
      "text/plain": [
       "<IPython.core.display.Math object>"
      ]
     },
     "metadata": {},
     "output_type": "display_data"
    },
    {
     "data": {
      "text/latex": [
       "$\\displaystyle \\boxed{D_{k} = \\frac{- D_{k+1} + K_{d} N \\left(- e_{k} + e_{k+1}\\right)}{N T_{s} - 1}}$"
      ],
      "text/plain": [
       "<IPython.core.display.Math object>"
      ]
     },
     "metadata": {},
     "output_type": "display_data"
    }
   ],
   "source": [
    "eq = Eq(D, e*GDF.subs(1/s, FE))\n",
    "mprint(latex(eq))\n",
    "\n",
    "eq = factor(eq)\n",
    "mprint(latex(eq))\n",
    "\n",
    "eq = (Eq(numer(eq.rhs), eq.lhs * denom(eq.rhs)))\n",
    "mprint(latex(eq))\n",
    "\n",
    "eq = expand(Eq(eq.lhs/Ts, eq.rhs/Ts ))\n",
    "mprint(latex(eq))\n",
    "\n",
    "eq = expand(eq).subs(e/z**2, e2).subs(e/z, e1).subs(e*z, e1p).subs(e, e0).subs(D/z, D1).subs(D*z, D1p).subs(D, D0)\n",
    "mprint(latex(eq))\n",
    "\n",
    "DFEF = Eq(collect(eq.rhs, [D0, D1]), collect(eq.lhs, Kd*N/Ts))\n",
    "mprint(latex(DFEF))\n",
    "\n",
    "DFEF = Eq(D0, collect(solve(DFEF, D0)[0], [Kd*N, D1]))\n",
    "mprintb(latex(DFEF))"
   ]
  },
  {
   "cell_type": "markdown",
   "metadata": {},
   "source": [
    "### <u>With Bilinear Transformation</u>"
   ]
  },
  {
   "cell_type": "markdown",
   "metadata": {},
   "source": [
    "Let us set $e$ as the control input and $D$ as the control output."
   ]
  },
  {
   "cell_type": "code",
   "execution_count": 31,
   "metadata": {},
   "outputs": [
    {
     "data": {
      "text/latex": [
       "$\\displaystyle D = \\frac{2 K_{d} N e \\left(z - 1\\right)}{T_{s} \\left(N + \\frac{2 \\left(z - 1\\right)}{T_{s} \\left(z + 1\\right)}\\right) \\left(z + 1\\right)}$"
      ],
      "text/plain": [
       "<IPython.core.display.Math object>"
      ]
     },
     "metadata": {},
     "output_type": "display_data"
    },
    {
     "data": {
      "text/latex": [
       "$\\displaystyle D = \\frac{2 K_{d} N e \\left(z - 1\\right)}{N T_{s} z + N T_{s} + 2 z - 2}$"
      ],
      "text/plain": [
       "<IPython.core.display.Math object>"
      ]
     },
     "metadata": {},
     "output_type": "display_data"
    },
    {
     "data": {
      "text/latex": [
       "$\\displaystyle 2 K_{d} N e \\left(z - 1\\right) = D \\left(N T_{s} z + N T_{s} + 2 z - 2\\right)$"
      ],
      "text/plain": [
       "<IPython.core.display.Math object>"
      ]
     },
     "metadata": {},
     "output_type": "display_data"
    },
    {
     "data": {
      "text/latex": [
       "$\\displaystyle \\frac{2 K_{d} N e}{T_{s}} - \\frac{2 K_{d} N e}{T_{s} z} = D N + \\frac{D N}{z} + \\frac{2 D}{T_{s}} - \\frac{2 D}{T_{s} z}$"
      ],
      "text/plain": [
       "<IPython.core.display.Math object>"
      ]
     },
     "metadata": {},
     "output_type": "display_data"
    },
    {
     "data": {
      "text/latex": [
       "$\\displaystyle \\frac{2 K_{d} N e_{k}}{T_{s}} - \\frac{2 K_{d} N e_{k-1}}{T_{s}} = D_{k} N + \\frac{2 D_{k}}{T_{s}} + D_{k-1} N - \\frac{2 D_{k-1}}{T_{s}}$"
      ],
      "text/plain": [
       "<IPython.core.display.Math object>"
      ]
     },
     "metadata": {},
     "output_type": "display_data"
    },
    {
     "data": {
      "text/latex": [
       "$\\displaystyle \\boxed{D_{k} = \\frac{D_{k-1} \\left(- N T_{s} + 2\\right) + 2 K_{d} N \\left(e_{k} - e_{k-1}\\right)}{N T_{s} + 2}}$"
      ],
      "text/plain": [
       "<IPython.core.display.Math object>"
      ]
     },
     "metadata": {},
     "output_type": "display_data"
    }
   ],
   "source": [
    "eq = Eq(D, e*GDF.subs(1/s, BT))\n",
    "mprint(latex(eq))\n",
    "\n",
    "eq = factor(eq)\n",
    "mprint(latex(eq))\n",
    "\n",
    "eq = (Eq(numer(eq.rhs), eq.lhs * denom(eq.rhs)))\n",
    "mprint(latex(eq))\n",
    "\n",
    "eq = expand(Eq(eq.lhs/z/Ts, eq.rhs/z/Ts ))\n",
    "mprint(latex(eq))\n",
    "\n",
    "eq = expand(eq).subs(e/z**2, e2).subs(e/z, e1).subs(e, e0).subs(D/z, D1).subs(D, D0)\n",
    "mprint(latex(eq))\n",
    "\n",
    "DBTF = Eq(D0, collect(solve(eq, D0)[0], [2*Kd*N, D1]))\n",
    "mprintb(latex(DBTF))"
   ]
  },
  {
   "cell_type": "markdown",
   "metadata": {},
   "source": [
    "## Summary"
   ]
  },
  {
   "cell_type": "markdown",
   "metadata": {},
   "source": [
    "### <u>Integral Terms</u>"
   ]
  },
  {
   "cell_type": "markdown",
   "metadata": {},
   "source": [
    "Let us summarize the integral terms. Note that the backward Euler method and the bilinear transform method result in implicit-form equations."
   ]
  },
  {
   "cell_type": "code",
   "execution_count": 32,
   "metadata": {
    "editable": true,
    "slideshow": {
     "slide_type": ""
    },
    "tags": [
     "hide-input"
    ]
   },
   "outputs": [
    {
     "data": {
      "text/markdown": [
       "| Method             | Integral term                                                          |\n",
       "|:-------------------|:-----------------------------------------------------------------------|\n",
       "| Backward Euler     | $I_{k+1} = I_{k} + K_{i} T_{s} e_{k+1}$                                |\n",
       "| Forward Euler      | $I_{k+1} = I_{k} + K_{i} T_{s} e_{k}$                                  |\n",
       "| Bilinear Transform | $I_{k+1} = I_{k} + \\frac{K_{i} T_{s} \\left(e_{k} + e_{k+1}\\right)}{2}$ |"
      ],
      "text/plain": [
       "<IPython.core.display.Markdown object>"
      ]
     },
     "execution_count": 32,
     "metadata": {},
     "output_type": "execute_result"
    }
   ],
   "source": [
    "from pandas import DataFrame\n",
    "from IPython.display import Markdown\n",
    "\n",
    "def makelatex(args):\n",
    "    return [\"${}$\".format(latex(a)) for a in args]\n",
    "    \n",
    "descs = [\"Backward Euler\", \n",
    "         \"Forward Euler\",\n",
    "         \"Bilinear Transform\"]\n",
    "\n",
    "vals  = [IBE, IFE, IBT]\n",
    "\n",
    "dic = {'Method': descs, \n",
    "       'Integral term': makelatex(vals),}\n",
    "\n",
    "df = DataFrame(dic)\n",
    "Markdown(df.to_markdown(index=False))"
   ]
  },
  {
   "cell_type": "markdown",
   "metadata": {},
   "source": [
    "### <u>Derivative Terms</u>"
   ]
  },
  {
   "cell_type": "markdown",
   "metadata": {},
   "source": [
    "Let us summarize the derivative terms. Note that forward Euler results in non-causal equation."
   ]
  },
  {
   "cell_type": "code",
   "execution_count": 33,
   "metadata": {
    "editable": true,
    "slideshow": {
     "slide_type": ""
    },
    "tags": [
     "hide-input"
    ]
   },
   "outputs": [
    {
     "data": {
      "text/markdown": [
       "| Method             | Derivative term                                                                |\n",
       "|:-------------------|:-------------------------------------------------------------------------------|\n",
       "| Backward Euler     | $D_{k} = \\frac{K_{d} \\left(e_{k} - e_{k-1}\\right)}{T_{s}}$                     |\n",
       "| Forward Euler      | $D_{k} = \\frac{K_{d} \\left(- e_{k} + e_{k+1}\\right)}{T_{s}}$                   |\n",
       "| Bilinear Transform | $D_{k} = \\frac{- D_{k-1} T_{s} + 2 K_{d} \\left(e_{k} - e_{k-1}\\right)}{T_{s}}$ |"
      ],
      "text/plain": [
       "<IPython.core.display.Markdown object>"
      ]
     },
     "execution_count": 33,
     "metadata": {},
     "output_type": "execute_result"
    }
   ],
   "source": [
    "descs = [\"Backward Euler\", \n",
    "         \"Forward Euler\",\n",
    "         \"Bilinear Transform\"]\n",
    "\n",
    "vals  = [DBE, DFE, DBT]\n",
    "\n",
    "dic = {'Method': descs, \n",
    "       'Derivative term': makelatex(vals),}\n",
    "\n",
    "df = DataFrame(dic)\n",
    "Markdown(df.to_markdown(index=False))"
   ]
  },
  {
   "cell_type": "markdown",
   "metadata": {},
   "source": [
    "### <u>Derivative Terms with Low-Pass Filters</u>"
   ]
  },
  {
   "cell_type": "markdown",
   "metadata": {},
   "source": [
    "Let us summarize the filtered derivative terms. Note that forward Euler also results in non-causal equation."
   ]
  },
  {
   "cell_type": "code",
   "execution_count": 34,
   "metadata": {
    "editable": true,
    "slideshow": {
     "slide_type": ""
    },
    "tags": [
     "hide-input"
    ]
   },
   "outputs": [
    {
     "data": {
      "text/markdown": [
       "| Method             | Derivative term + low-pass filter                                                                         |\n",
       "|:-------------------|:----------------------------------------------------------------------------------------------------------|\n",
       "| Backward Euler     | $D_{k} = \\frac{D_{k-1} + K_{d} N \\left(e_{k} - e_{k-1}\\right)}{N T_{s} + 1}$                              |\n",
       "| Forward Euler      | $D_{k} = \\frac{- D_{k+1} + K_{d} N \\left(- e_{k} + e_{k+1}\\right)}{N T_{s} - 1}$                          |\n",
       "| Bilinear Transform | $D_{k} = \\frac{D_{k-1} \\left(- N T_{s} + 2\\right) + 2 K_{d} N \\left(e_{k} - e_{k-1}\\right)}{N T_{s} + 2}$ |"
      ],
      "text/plain": [
       "<IPython.core.display.Markdown object>"
      ]
     },
     "execution_count": 34,
     "metadata": {},
     "output_type": "execute_result"
    }
   ],
   "source": [
    "descs = [\"Backward Euler\", \n",
    "         \"Forward Euler\",\n",
    "         \"Bilinear Transform\"]\n",
    "\n",
    "vals  = [DBEF, DFEF, DBTF]\n",
    "\n",
    "dic = {'Method': descs, \n",
    "       'Derivative term + low-pass filter': makelatex(vals),}\n",
    "\n",
    "df = DataFrame(dic)\n",
    "Markdown(df.to_markdown(index=False))"
   ]
  }
 ],
 "metadata": {
  "kernelspec": {
   "display_name": "ipykernel 3.12.4",
   "language": "python",
   "name": "py.3.12.4"
  },
  "language_info": {
   "codemirror_mode": {
    "name": "ipython",
    "version": 3
   },
   "file_extension": ".py",
   "mimetype": "text/x-python",
   "name": "python",
   "nbconvert_exporter": "python",
   "pygments_lexer": "ipython3",
   "version": "3.12.3"
  }
 },
 "nbformat": 4,
 "nbformat_minor": 4
}

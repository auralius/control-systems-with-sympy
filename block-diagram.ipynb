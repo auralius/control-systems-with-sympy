{
 "cells": [
  {
   "cell_type": "markdown",
   "metadata": {},
   "source": [
    "# Block Diagram"
   ]
  },
  {
   "cell_type": "markdown",
   "metadata": {},
   "source": [
    "## Series, Parallel and Feedback"
   ]
  },
  {
   "cell_type": "code",
   "execution_count": 1,
   "metadata": {},
   "outputs": [],
   "source": [
    "from sympy import symbols, prod,simplify"
   ]
  },
  {
   "cell_type": "code",
   "execution_count": 2,
   "metadata": {},
   "outputs": [],
   "source": [
    "def series(*argv):\n",
    "    return prod(argv)\n",
    "\n",
    "def parallels(*argv):\n",
    "    return sum(argv)\n",
    "\n",
    "def negative_feedbacks(G, *argv):\n",
    "    ret = G\n",
    "    for k in range(len(argv)):\n",
    "        ret = ret / (1 + ret * argv[k])\n",
    "\n",
    "    return ret\n",
    "\n",
    "def positive_feedbacks(G, *argv):\n",
    "    ret = G\n",
    "    for k in range(len(argv)):\n",
    "        ret = ret / (1 - ret * argv[k])\n",
    "    \n",
    "    return ret"
   ]
  },
  {
   "cell_type": "markdown",
   "metadata": {},
   "source": [
    "## Example 1\n",
    "\n",
    "Simplify the following block diagram:\n",
    "\n",
    "![](./images/diagram1.png)\n",
    "\n",
    "Our first step is to modify the block diagram such that it contains ony three connection configurations:  \n",
    "\n",
    "- serial connections\n",
    "- parallel connections\n",
    "- feedback connections (positive or negative)\n",
    "\n",
    "The next figure presents the modified block diagram that is composed only by those three connections. \n",
    "\n",
    "![](./images/diagram2.png)\n"
   ]
  },
  {
   "cell_type": "markdown",
   "metadata": {},
   "source": [
    "```\n",
    "M1 = series(G3, G4)\n",
    "M2 = positive_feedbacks(M1, H4)\n",
    "M3 = series(M2, G2)\n",
    "M4 = negative_feedbacks(M3, H3/G4)\n",
    "M5 = series(M4, G1)\n",
    "G = negative_feedbacks(M5, H3/G4, H2/G4, H1)\n",
    "```\n",
    "Or we can combine them into one line of codes: \n",
    "```\n",
    "G = negative_feedbacks(series(negative_feedbacks(series(positive_feedbacks(series(G3, G4), H4), G2), H3/G4), G1), H3/G4, H2/G4, H1)\n",
    "```"
   ]
  },
  {
   "cell_type": "code",
   "execution_count": 3,
   "metadata": {},
   "outputs": [
    {
     "data": {
      "text/latex": [
       "$\\displaystyle \\frac{G_{1} G_{2} G_{3} G_{4}}{G_{1} G_{2} G_{3} G_{4} H_{1} + G_{1} G_{2} G_{3} H_{2} + G_{1} G_{2} G_{3} H_{3} + G_{2} G_{3} H_{3} - G_{3} G_{4} H_{4} + 1}$"
      ],
      "text/plain": [
       "G1*G2*G3*G4/(G1*G2*G3*G4*H1 + G1*G2*G3*H2 + G1*G2*G3*H3 + G2*G3*H3 - G3*G4*H4 + 1)"
      ]
     },
     "metadata": {},
     "output_type": "display_data"
    }
   ],
   "source": [
    "G1, G2, G3, G4, H1, H2, H3, H4 = symbols('G1 G2 G3 G4 H1 H2 H3 H4')\n",
    "\n",
    "G = negative_feedbacks(series(negative_feedbacks(series(positive_feedbacks(series(G3, G4), H4), G2), H3/G4), G1), H3/G4, H2/G4, H1);\n",
    "display(simplify(G))"
   ]
  }
 ],
 "metadata": {
  "kernelspec": {
   "display_name": "Python 3 (ipykernel)",
   "language": "python",
   "name": "python3"
  },
  "language_info": {
   "codemirror_mode": {
    "name": "ipython",
    "version": 3
   },
   "file_extension": ".py",
   "mimetype": "text/x-python",
   "name": "python",
   "nbconvert_exporter": "python",
   "pygments_lexer": "ipython3",
   "version": "3.12.3"
  }
 },
 "nbformat": 4,
 "nbformat_minor": 4
}

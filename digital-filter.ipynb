{
 "cells": [
  {
   "cell_type": "markdown",
   "id": "af49982a-414e-4ace-ab0b-3d490398a7d0",
   "metadata": {},
   "source": [
    "# Digital Low-Pass Filter"
   ]
  },
  {
   "cell_type": "markdown",
   "id": "97a9aab2-bf21-4323-839c-0024a69b32ae",
   "metadata": {},
   "source": [
    "In this section, we are going to do the following activities:\n",
    "\n",
    "- discretize a continuous-time low-pass filter by using bilinear transform (trapezoidal or Tustin) method\n",
    "- implement the discretized low-pass filter into MATLAB Simulink\n",
    "- compare the results from the implemented discrete low-pass filter to the shipped discrete low-pass filter in MATLAB Simulink"
   ]
  },
  {
   "cell_type": "markdown",
   "id": "84e058b0-1340-4587-8960-5af5f8ac3f0e",
   "metadata": {},
   "source": [
    "## Required Imports"
   ]
  },
  {
   "cell_type": "code",
   "execution_count": 1,
   "id": "b89f1f6d-1b6d-4318-b125-8bf7c51c80ae",
   "metadata": {},
   "outputs": [],
   "source": [
    "from IPython.core.display import HTML\n",
    "from sympy import *\n",
    "from mathprint import *"
   ]
  },
  {
   "cell_type": "code",
   "execution_count": 2,
   "id": "56e98db3",
   "metadata": {},
   "outputs": [],
   "source": [
    "Ts, tau = symbols('T_s tau', positive=True)\n",
    "s = symbols('s', complex=True)\n",
    "z = symbols('z')\n",
    "wc = symbols('omega_c', positive=True)\n",
    "\n",
    "x, y = symbols('x y')\n",
    "x0, x1, x2, x3 = symbols('x_k x_{k-1} x_{k-2} x_{k-3}')\n",
    "y0, y1, y2, y3 = symbols('y_k y_{k-1} y_{k-2} y_{k-3}')"
   ]
  },
  {
   "cell_type": "markdown",
   "id": "1dc55cff",
   "metadata": {},
   "source": [
    "---\n"
   ]
  },
  {
   "cell_type": "markdown",
   "id": "0879a7b5",
   "metadata": {},
   "source": [
    "## First-Order Low-Pass Filter"
   ]
  },
  {
   "cell_type": "markdown",
   "id": "9fbb4ac6",
   "metadata": {},
   "source": [
    "Transfer function of a first order lowpass filter (time-constant filter):\n",
    "\n",
    "$$ H(s) = \\frac{1}  {\\tau s+1} $$\n",
    "\n",
    "where $\\tau$ is the filter time constant (in seconds)."
   ]
  },
  {
   "cell_type": "markdown",
   "id": "bfc1790f",
   "metadata": {},
   "source": [
    "### Discretization with Bilinear Transformation"
   ]
  },
  {
   "cell_type": "markdown",
   "id": "f5237068",
   "metadata": {},
   "source": [
    "Next, we transform $s$ into $z$ by applying the following substitution.\n",
    "\n",
    "$$ \\frac{1}{s} \\longleftarrow \\frac{T_s}{2} \\frac{z+1}{z-1} $$"
   ]
  },
  {
   "cell_type": "code",
   "execution_count": 3,
   "id": "21fead56",
   "metadata": {},
   "outputs": [
    {
     "data": {
      "text/latex": [
       "$\\displaystyle H=\\frac{1}{s \\tau + 1}$"
      ],
      "text/plain": [
       "<IPython.core.display.Math object>"
      ]
     },
     "metadata": {},
     "output_type": "display_data"
    },
    {
     "data": {
      "text/latex": [
       "$\\displaystyle H=\\frac{1}{1 + \\frac{2 \\tau \\left(z - 1\\right)}{T_{s} \\left(z + 1\\right)}}$"
      ],
      "text/plain": [
       "<IPython.core.display.Math object>"
      ]
     },
     "metadata": {},
     "output_type": "display_data"
    }
   ],
   "source": [
    "H = 1 / (tau*s+1)\n",
    "mprint('H=',latex(H))\n",
    "\n",
    "H = H.subs(1/s, Ts/2 * (z+1)/(z-1))\n",
    "mprint('H=',latex(H))"
   ]
  },
  {
   "cell_type": "markdown",
   "id": "65e3a715",
   "metadata": {},
   "source": [
    "Let us define $x$ as the input to the filter and $y$ as the output (filtered input)."
   ]
  },
  {
   "cell_type": "code",
   "execution_count": 4,
   "id": "26bff831",
   "metadata": {},
   "outputs": [
    {
     "data": {
      "text/latex": [
       "$\\displaystyle y = \\frac{x}{1 + \\frac{2 \\tau \\left(z - 1\\right)}{T_{s} \\left(z + 1\\right)}}$"
      ],
      "text/plain": [
       "<IPython.core.display.Math object>"
      ]
     },
     "metadata": {},
     "output_type": "display_data"
    },
    {
     "data": {
      "text/latex": [
       "$\\displaystyle y = \\frac{T_{s} x \\left(z + 1\\right)}{T_{s} \\left(z + 1\\right) + 2 \\tau \\left(z - 1\\right)}$"
      ],
      "text/plain": [
       "<IPython.core.display.Math object>"
      ]
     },
     "metadata": {},
     "output_type": "display_data"
    },
    {
     "data": {
      "text/latex": [
       "$\\displaystyle T_{s} x \\left(z + 1\\right) = T_{s} y z + T_{s} y + 2 \\tau y z - 2 \\tau y$"
      ],
      "text/plain": [
       "<IPython.core.display.Math object>"
      ]
     },
     "metadata": {},
     "output_type": "display_data"
    },
    {
     "data": {
      "text/latex": [
       "$\\displaystyle y + \\frac{y}{z} + \\frac{2 \\tau y}{T_{s}} - \\frac{2 \\tau y}{T_{s} z} = x + \\frac{x}{z}$"
      ],
      "text/plain": [
       "<IPython.core.display.Math object>"
      ]
     },
     "metadata": {},
     "output_type": "display_data"
    }
   ],
   "source": [
    "eq = Eq(y, H * x)\n",
    "mprint(latex(eq))\n",
    "\n",
    "eq = simplify(eq)\n",
    "mprint(latex(eq))\n",
    "\n",
    "eq = Eq(numer(eq.rhs), expand(eq.lhs * denom(eq.rhs)))\n",
    "mprint(latex(eq))\n",
    "\n",
    "eq =expand(Eq(numer(eq.rhs)/z/Ts, eq.lhs * denom(eq.rhs)/z/Ts))\n",
    "mprint(latex(eq))"
   ]
  },
  {
   "cell_type": "markdown",
   "id": "8e8b34da-0819-452a-9d71-a5f0f626025f",
   "metadata": {},
   "source": [
    "Apply the following substitutions:\n",
    "\n",
    "* $y$ becomes $y_{k}$\n",
    "* $y/z$ becomes $y_{k-1}$\n",
    "* $x$ becomes $x_{k}$\n",
    "* $x/z$ becomes $x_{k-1}$"
   ]
  },
  {
   "cell_type": "code",
   "execution_count": 5,
   "id": "7d5b48f8",
   "metadata": {},
   "outputs": [
    {
     "data": {
      "text/latex": [
       "$\\displaystyle \\small y_{k} + y_{k-1} + \\frac{2 \\tau y_{k}}{T_{s}} - \\frac{2 \\tau y_{k-1}}{T_{s}} = x_{k} + x_{k-1}$"
      ],
      "text/plain": [
       "<IPython.core.display.Math object>"
      ]
     },
     "metadata": {},
     "output_type": "display_data"
    }
   ],
   "source": [
    "eq = eq.subs(x/z**3, x3).subs(x/z**2, x2).subs(x/z, x1).subs(x, x0).subs(y/z**3, y3).subs(y/z**2, y2).subs(y/z, y1).subs(y, y0)\n",
    "mprint(\"\\\\small \", latex(eq))"
   ]
  },
  {
   "cell_type": "markdown",
   "id": "e60ed31c-d020-452e-9b1d-fcb773038973",
   "metadata": {},
   "source": [
    "Finally, by grouping the variables, we obtain:"
   ]
  },
  {
   "cell_type": "code",
   "execution_count": 6,
   "id": "c533a8c7",
   "metadata": {},
   "outputs": [
    {
     "data": {
      "text/latex": [
       "$\\displaystyle \\boxed{\\small x_{k} + x_{k-1} = y_{k} \\left(1 + \\frac{2 \\tau}{T_{s}}\\right) + y_{k-1} \\left(1 - \\frac{2 \\tau}{T_{s}}\\right)}$"
      ],
      "text/plain": [
       "<IPython.core.display.Math object>"
      ]
     },
     "metadata": {},
     "output_type": "display_data"
    }
   ],
   "source": [
    "eq = Eq(collect(eq.rhs, [x0, x1, x2, x3]), collect(eq.lhs, [y0, y1, y2, y3]) )\n",
    "mprintb(\"\\\\small \", latex(eq))"
   ]
  },
  {
   "cell_type": "markdown",
   "id": "a2ddcfa5",
   "metadata": {},
   "source": [
    "----"
   ]
  },
  {
   "cell_type": "markdown",
   "id": "cabd8228-e856-4d5a-827b-0f0992ec52e7",
   "metadata": {},
   "source": [
    "## Second Order Low-Pass Butterworth Filter"
   ]
  },
  {
   "cell_type": "markdown",
   "id": "dff6d74a-d140-4e5e-98eb-9774dd40f0b3",
   "metadata": {},
   "source": [
    "Transfer function of a second order lowpass filter (Butterworth):\n",
    "\n",
    "$$ H(s) = \\frac{\\omega_{c}^{2}}{\\omega_{c}^{2} + \\sqrt{2} \\omega_{c} s + s^{2}} $$\n",
    "\n",
    "where $\\omega_c$ is the filter cut-off frequency (in Hz).\n"
   ]
  },
  {
   "cell_type": "markdown",
   "id": "6a8affc1-3277-48bf-81cf-b83508107153",
   "metadata": {},
   "source": [
    "### Discretization with Bilinear Transformation"
   ]
  },
  {
   "cell_type": "markdown",
   "id": "796ca0b6",
   "metadata": {},
   "source": [
    "Similiar to the previous section, here we also transform $s$ into $z$ by applying the following substitution.\n",
    "\n",
    "$$ \\frac{1}{s} \\longleftarrow \\frac{T_s}{2} \\frac{z+1}{z-1} $$"
   ]
  },
  {
   "cell_type": "code",
   "execution_count": 7,
   "id": "e5eb15d7-5c1c-49ce-be93-8d4dbdfffa74",
   "metadata": {},
   "outputs": [
    {
     "data": {
      "text/latex": [
       "$\\displaystyle H=\\frac{\\omega_{c}^{2}}{\\omega_{c}^{2} + \\sqrt{2} \\omega_{c} s + s^{2}}$"
      ],
      "text/plain": [
       "<IPython.core.display.Math object>"
      ]
     },
     "metadata": {},
     "output_type": "display_data"
    },
    {
     "data": {
      "text/latex": [
       "$\\displaystyle H=\\frac{\\omega_{c}^{2}}{\\omega_{c}^{2} + \\frac{2 \\sqrt{2} \\omega_{c} \\left(z - 1\\right)}{T_{s} \\left(z + 1\\right)} + \\frac{4 \\left(z - 1\\right)^{2}}{T_{s}^{2} \\left(z + 1\\right)^{2}}}$"
      ],
      "text/plain": [
       "<IPython.core.display.Math object>"
      ]
     },
     "metadata": {},
     "output_type": "display_data"
    }
   ],
   "source": [
    "H = wc**2 / (wc**2+sqrt(2)*s*wc+s**2)\n",
    "mprint('H=',latex(H))\n",
    "\n",
    "H = H.subs(1/s, Ts/2 * (z+1)/(z-1))\n",
    "mprint('H=',latex(H))"
   ]
  },
  {
   "cell_type": "markdown",
   "id": "0c86853f",
   "metadata": {},
   "source": [
    "Let us define $x$ as the input to the filter and $y$ as the output (filtered input)."
   ]
  },
  {
   "cell_type": "code",
   "execution_count": 8,
   "id": "b208ea7c-afd2-4ce4-a01d-43b211fffc6a",
   "metadata": {},
   "outputs": [
    {
     "data": {
      "text/latex": [
       "$\\displaystyle y = \\frac{\\omega_{c}^{2} x}{\\omega_{c}^{2} + \\frac{2 \\sqrt{2} \\omega_{c} \\left(z - 1\\right)}{T_{s} \\left(z + 1\\right)} + \\frac{4 \\left(z - 1\\right)^{2}}{T_{s}^{2} \\left(z + 1\\right)^{2}}}$"
      ],
      "text/plain": [
       "<IPython.core.display.Math object>"
      ]
     },
     "metadata": {},
     "output_type": "display_data"
    },
    {
     "data": {
      "text/latex": [
       "$\\displaystyle y = \\frac{T_{s}^{2} \\omega_{c}^{2} x \\left(z + 1\\right)^{2}}{T_{s}^{2} \\omega_{c}^{2} \\left(z + 1\\right)^{2} + 2 \\sqrt{2} T_{s} \\omega_{c} \\left(z - 1\\right) \\left(z + 1\\right) + 4 \\left(z - 1\\right)^{2}}$"
      ],
      "text/plain": [
       "<IPython.core.display.Math object>"
      ]
     },
     "metadata": {},
     "output_type": "display_data"
    },
    {
     "data": {
      "text/latex": [
       "$\\displaystyle T_{s}^{2} \\omega_{c}^{2} x \\left(z + 1\\right)^{2} = T_{s}^{2} \\omega_{c}^{2} y z^{2} + 2 T_{s}^{2} \\omega_{c}^{2} y z + T_{s}^{2} \\omega_{c}^{2} y + 2 \\sqrt{2} T_{s} \\omega_{c} y z^{2} - 2 \\sqrt{2} T_{s} \\omega_{c} y + 4 y z^{2} - 8 y z + 4 y$"
      ],
      "text/plain": [
       "<IPython.core.display.Math object>"
      ]
     },
     "metadata": {},
     "output_type": "display_data"
    },
    {
     "data": {
      "text/latex": [
       "$\\displaystyle y + \\frac{2 y}{z} + \\frac{y}{z^{2}} + \\frac{2 \\sqrt{2} y}{T_{s} \\omega_{c}} - \\frac{2 \\sqrt{2} y}{T_{s} \\omega_{c} z^{2}} + \\frac{4 y}{T_{s}^{2} \\omega_{c}^{2}} - \\frac{8 y}{T_{s}^{2} \\omega_{c}^{2} z} + \\frac{4 y}{T_{s}^{2} \\omega_{c}^{2} z^{2}} = x + \\frac{2 x}{z} + \\frac{x}{z^{2}}$"
      ],
      "text/plain": [
       "<IPython.core.display.Math object>"
      ]
     },
     "metadata": {},
     "output_type": "display_data"
    }
   ],
   "source": [
    "eq = Eq(y, H * x)\n",
    "mprint(latex(eq))\n",
    "\n",
    "eq = simplify(eq)\n",
    "mprint(latex(eq))\n",
    "\n",
    "eq = Eq(numer(eq.rhs), expand(eq.lhs * denom(eq.rhs)))\n",
    "mprint(latex(eq))\n",
    "\n",
    "eq =expand(Eq(numer(eq.rhs)/z**2/Ts**2/wc**2, eq.lhs * denom(eq.rhs)/z**2/Ts**2/wc**2))\n",
    "mprint(latex(eq))"
   ]
  },
  {
   "cell_type": "markdown",
   "id": "608a66a0-bf3c-4060-afa3-9b06476564c6",
   "metadata": {},
   "source": [
    "Apply the following substitutions:\n",
    "\n",
    "* $y$ becomes $y_{k}$\n",
    "* $y/z$ becomes $y_{k-1}$\n",
    "* $y/z^2$ becomes $y_{k-2}$\n",
    "* $x$ becomes $x_{k}$\n",
    "* $x/z$ becomes $x_{k-1}$\n",
    "* $x/z^2$ becomes $x_{k-2}$"
   ]
  },
  {
   "cell_type": "code",
   "execution_count": 9,
   "id": "3fd8c46e-0914-461a-bfe6-f55da48c14b6",
   "metadata": {},
   "outputs": [
    {
     "data": {
      "text/latex": [
       "$\\displaystyle y_{k} + 2 y_{k-1} + y_{k-2} + \\frac{2 \\sqrt{2} y_{k}}{T_{s} \\omega_{c}} - \\frac{2 \\sqrt{2} y_{k-2}}{T_{s} \\omega_{c}} + \\frac{4 y_{k}}{T_{s}^{2} \\omega_{c}^{2}} - \\frac{8 y_{k-1}}{T_{s}^{2} \\omega_{c}^{2}} + \\frac{4 y_{k-2}}{T_{s}^{2} \\omega_{c}^{2}} = x_{k} + 2 x_{k-1} + x_{k-2}$"
      ],
      "text/plain": [
       "<IPython.core.display.Math object>"
      ]
     },
     "metadata": {},
     "output_type": "display_data"
    }
   ],
   "source": [
    "eq = eq.subs(x/z**3, x3).subs(x/z**2, x2).subs(x/z, x1).subs(x, x0).subs(y/z**3, y3).subs(y/z**2, y2).subs(y/z, y1).subs(y, y0)\n",
    "mprint(latex(eq))"
   ]
  },
  {
   "cell_type": "markdown",
   "id": "3b53d6fc-0f95-440f-b45c-ceef9e1015a2",
   "metadata": {},
   "source": [
    "Finally, by grouping the variables, we obtain:"
   ]
  },
  {
   "cell_type": "code",
   "execution_count": 11,
   "id": "3bd506e0-0242-49de-b85a-0ff999c497e0",
   "metadata": {},
   "outputs": [
    {
     "data": {
      "text/latex": [
       "$\\displaystyle \\boxed{y_{k} \\left(1 + \\frac{2 \\sqrt{2}}{T_{s} \\omega_{c}} + \\frac{4}{T_{s}^{2} \\omega_{c}^{2}}\\right) + y_{k-1} \\left(2 - \\frac{8}{T_{s}^{2} \\omega_{c}^{2}}\\right) + y_{k-2} \\left(1 - \\frac{2 \\sqrt{2}}{T_{s} \\omega_{c}} + \\frac{4}{T_{s}^{2} \\omega_{c}^{2}}\\right) = x_{k} + 2 x_{k-1} + x_{k-2}}$"
      ],
      "text/plain": [
       "<IPython.core.display.Math object>"
      ]
     },
     "metadata": {},
     "output_type": "display_data"
    }
   ],
   "source": [
    "eq = Eq(collect(eq.rhs, [x0, x1, x2, x3]), collect(eq.lhs, [y0, y1, y2, y3]) )\n",
    "mprintb(latex(eq))"
   ]
  },
  {
   "cell_type": "markdown",
   "id": "17bae3c2-ea2b-4e72-b334-3a974d588955",
   "metadata": {},
   "source": [
    "### Implementation in Simulink\n",
    "\n",
    "[Download the Simulink file here (R2024b).](https://www.dropbox.com/scl/fi/k3pyr1w9zjjy9xytu2tai/lpfbuttter2nd.slx?rlkey=1fxpi9xvcoqnb5085nd2v8y8t&dl=0)\n",
    "\n",
    "```octave\n",
    "function y = LPF(y1, y2, x0, x1, x2, wc, Ts)\n",
    "% y1 is y(k-1)\n",
    "% y2 is y(k-2)\n",
    "% x0 is x(k)\n",
    "% x1 is x(k-1)\n",
    "% x2 is x(k-2)\n",
    "\n",
    "sq22 = 2*sqrt(2);\n",
    "Tswc = Ts * wc;\n",
    "\n",
    "A = 1 + sq22/Tswc + 4/Tswc^2;\n",
    "B = 2 - 8/Tswc^2;  \n",
    "C = 1 - sq22/Tswc + 4/Tswc^2;\n",
    "\n",
    "y = (x0 + 2*x1 + x2 - y1*B - y2*C ) / A;\n",
    "```"
   ]
  },
  {
   "cell_type": "markdown",
   "id": "c6f0a72b-64c6-42cc-9a37-966d55af7481",
   "metadata": {},
   "source": [
    "![](./images/p17.png)\n",
    "\n",
    "![](./images/p18.png)"
   ]
  }
 ],
 "metadata": {
  "kernelspec": {
   "display_name": "ipykernel 3.12.4",
   "language": "python",
   "name": "py.3.12.4"
  },
  "language_info": {
   "codemirror_mode": {
    "name": "ipython",
    "version": 3
   },
   "file_extension": ".py",
   "mimetype": "text/x-python",
   "name": "python",
   "nbconvert_exporter": "python",
   "pygments_lexer": "ipython3",
   "version": "3.12.3"
  }
 },
 "nbformat": 4,
 "nbformat_minor": 5
}

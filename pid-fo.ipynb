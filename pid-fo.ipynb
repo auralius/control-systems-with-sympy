{
 "cells": [
  {
   "cell_type": "markdown",
   "id": "30022a77-3c28-4d1c-a133-3dc6687e266c",
   "metadata": {},
   "source": [
    "# First-order system and PID-control"
   ]
  },
  {
   "cell_type": "markdown",
   "id": "4ab8bb24-5d96-4213-86d4-41e8fae5684a",
   "metadata": {},
   "source": [
    "## Preparations"
   ]
  },
  {
   "cell_type": "code",
   "execution_count": 1,
   "id": "4a49a70a-6539-4d6c-aafe-32f6e30d9398",
   "metadata": {},
   "outputs": [],
   "source": [
    "    from IPython.core.display import HTML\n",
    "    import numpy as np\n",
    "    \n",
    "    import matplotlib.pyplot as plt\n",
    "    plt.rcParams.update({\n",
    "        \"text.usetex\": True,\n",
    "        \"font.family\": \"Helvetica\",\n",
    "        \"font.size\": 10,\n",
    "    })\n",
    "    \n",
    "    from sympy import *\n",
    "    from sympy.plotting import plot\n",
    "    \n",
    "    from mathprint import *"
   ]
  },
  {
   "cell_type": "code",
   "execution_count": 2,
   "id": "665a739b-2754-41c2-8f05-3da9ffb6ac19",
   "metadata": {},
   "outputs": [],
   "source": [
    "from sympy.physics.control.lti import TransferFunction\n",
    "Kp, Ki, Kd = symbols('K_p K_i K_d', positive=True)\n",
    "\n",
    "t       = symbols('t', positive=True)\n",
    "s       = symbols('s', complex=True)\n",
    "tau     = symbols('tau', positive=True)\n",
    "\n",
    "omega   = symbols(\"omega\", positive=True)\n",
    "omega_n = symbols('omega_n', positive=True)\n",
    "zeta    = symbols('zeta', positive=True)"
   ]
  },
  {
   "cell_type": "code",
   "execution_count": 3,
   "id": "d433354e-b359-44f7-9258-ae489e898631",
   "metadata": {},
   "outputs": [],
   "source": [
    "def laplace(f):\n",
    "    F = laplace_transform(f, t, s, noconds=True)\n",
    "    return F\n",
    "\n",
    "def ilaplace(F):\n",
    "    f = inverse_laplace_transform(F, s, t)\n",
    "    return f\n",
    "\n",
    "def frac_to_tf(frac):\n",
    "    return TransferFunction(fraction(frac)[0], fraction(frac)[1], s)"
   ]
  },
  {
   "cell_type": "markdown",
   "id": "dfcc9e70-0396-4fca-b192-a45e66ee7f5f",
   "metadata": {},
   "source": [
    "## System and the control equations\n",
    "\n",
    "![](./images/p13.png)"
   ]
  },
  {
   "cell_type": "code",
   "execution_count": 4,
   "id": "93f26467-cce5-4c0b-a8fb-5ea7c2420d71",
   "metadata": {},
   "outputs": [
    {
     "name": "stdout",
     "output_type": "stream",
     "text": [
      "first-order system:\n"
     ]
    },
    {
     "data": {
      "text/latex": [
       "$\\displaystyle H(s)=\\frac{1}{s \\tau + 1}$"
      ],
      "text/plain": [
       "<IPython.core.display.Math object>"
      ]
     },
     "metadata": {},
     "output_type": "display_data"
    },
    {
     "name": "stdout",
     "output_type": "stream",
     "text": [
      "PID-control:\n"
     ]
    },
    {
     "data": {
      "text/latex": [
       "$\\displaystyle G(s)= K_{d} s + \\frac{K_{i}}{s} + K_{p}$"
      ],
      "text/plain": [
       "<IPython.core.display.Math object>"
      ]
     },
     "metadata": {},
     "output_type": "display_data"
    },
    {
     "name": "stdout",
     "output_type": "stream",
     "text": [
      "the resulting closed-loop system:\n"
     ]
    },
    {
     "data": {
      "text/latex": [
       "$\\displaystyle Q(s)=\\frac{K_{d} s^{2} + K_{i} + K_{p} s}{K_{d} s^{2} + K_{i} + K_{p} s + s^{2} \\tau + s}$"
      ],
      "text/plain": [
       "<IPython.core.display.Math object>"
      ]
     },
     "metadata": {},
     "output_type": "display_data"
    }
   ],
   "source": [
    "H = 1 / (tau*s+1)\n",
    "G = Kp + Ki/s + Kd*s   # PID-control\n",
    "Q = factor(((G*H / (1 + G*H))))\n",
    "\n",
    "print(\"first-order system:\")\n",
    "mprint(\"H(s)=\", latex(H))\n",
    "\n",
    "print(\"PID-control:\")\n",
    "mprint(\"G(s)= \", latex(G))\n",
    "\n",
    "print(\"the resulting closed-loop system:\")\n",
    "mprint(\"Q(s)=\", latex(Q))"
   ]
  },
  {
   "cell_type": "markdown",
   "id": "d0a99f59-ee7a-4b27-a9f2-33b5c216add4",
   "metadata": {},
   "source": [
    "## First order system with P-control "
   ]
  },
  {
   "cell_type": "markdown",
   "id": "0ba0f709-28a6-4843-a861-d71d5f2d072e",
   "metadata": {},
   "source": [
    "Closed-loop transfer function:"
   ]
  },
  {
   "cell_type": "code",
   "execution_count": 5,
   "id": "06c86fa3-730f-47ff-a8ac-7f7cc8cf7884",
   "metadata": {},
   "outputs": [
    {
     "data": {
      "text/latex": [
       "$\\displaystyle \\frac{K_{p}}{K_{p} + s \\tau + 1}$"
      ],
      "text/plain": [
       "<IPython.core.display.Math object>"
      ]
     },
     "metadata": {},
     "output_type": "display_data"
    }
   ],
   "source": [
    "Qp = simplify(Q.subs(([Kd, 0],\n",
    "                      [Ki, 0])))\n",
    "\n",
    "mprint(latex(Qp))"
   ]
  },
  {
   "cell_type": "markdown",
   "id": "343d00e1-889c-42fb-a4a1-8130415f2ba2",
   "metadata": {},
   "source": [
    "The controlled system remains a first order system. $K_p$ changes the pole location.\n",
    "New pole location:"
   ]
  },
  {
   "cell_type": "markdown",
   "id": "37617348-b65c-4b7f-81ae-44ce8b0204d8",
   "metadata": {},
   "source": [
    "### Closed-loop poles and zeros"
   ]
  },
  {
   "cell_type": "code",
   "execution_count": 6,
   "id": "c9b0433d-0805-405e-93c0-33c7f28fe65a",
   "metadata": {},
   "outputs": [
    {
     "name": "stdout",
     "output_type": "stream",
     "text": [
      "closed-loop zeros:\n"
     ]
    },
    {
     "data": {
      "text/latex": [
       "$\\displaystyle \\left[ \\right]$"
      ],
      "text/plain": [
       "<IPython.core.display.Math object>"
      ]
     },
     "metadata": {},
     "output_type": "display_data"
    },
    {
     "name": "stdout",
     "output_type": "stream",
     "text": [
      "closed-loop poles:\n"
     ]
    },
    {
     "data": {
      "text/latex": [
       "$\\displaystyle \\left[ - \\frac{K_{p} + 1}{\\tau}\\right]$"
      ],
      "text/plain": [
       "<IPython.core.display.Math object>"
      ]
     },
     "metadata": {},
     "output_type": "display_data"
    }
   ],
   "source": [
    "f = frac_to_tf(Qp)\n",
    "zerosp = f.zeros()\n",
    "polesp = f.poles()\n",
    "\n",
    "print(\"closed-loop zeros:\")\n",
    "mprint(latex(zerosp))\n",
    "       \n",
    "print(\"closed-loop poles:\")\n",
    "mprint(latex(polesp))"
   ]
  },
  {
   "cell_type": "markdown",
   "id": "00d1da47-508a-4fc6-8fce-08a958d50a7f",
   "metadata": {},
   "source": [
    "### Step response"
   ]
  },
  {
   "cell_type": "markdown",
   "id": "140e036e-5fd5-45ed-88f7-6f61037f4de7",
   "metadata": {},
   "source": [
    "Let us define some numerical values for our simulations."
   ]
  },
  {
   "cell_type": "code",
   "execution_count": 7,
   "id": "c9708cf8-2fe0-4d46-b7b7-ef563a32383f",
   "metadata": {},
   "outputs": [],
   "source": [
    "tau_ = 1\n",
    "Kp_  = [1, 5, 10, 20]"
   ]
  },
  {
   "cell_type": "markdown",
   "id": "4cef4ff6-b753-4e8f-a586-bd22c65e540e",
   "metadata": {},
   "source": [
    "We simply perform an inverse Laplace operation to $C(s)$ and obtain $c(t)$ as the result. Additionally, we will also compute the steady state-value for the output ($c_{ss}$)."
   ]
  },
  {
   "cell_type": "code",
   "execution_count": 8,
   "id": "3d7cdda7-68a7-4160-ae23-c8cb0e728b6b",
   "metadata": {},
   "outputs": [
    {
     "data": {
      "text/latex": [
       "$\\displaystyle \\boxed{c(t) = K_{p} \\left(- \\frac{\\tau e^{- \\frac{t \\left(K_{p}^{2} + 2 K_{p} + 1\\right)}{K_{p} \\tau + \\tau}}}{K_{p} \\tau + \\tau} + \\frac{1}{K_{p} + 1}\\right)}$"
      ],
      "text/plain": [
       "<IPython.core.display.Math object>"
      ]
     },
     "metadata": {},
     "output_type": "display_data"
    },
    {
     "data": {
      "text/latex": [
       "$\\displaystyle \\boxed{c_{ss} = \\frac{K_{p}}{K_{p} + 1}}$"
      ],
      "text/plain": [
       "<IPython.core.display.Math object>"
      ]
     },
     "metadata": {},
     "output_type": "display_data"
    }
   ],
   "source": [
    "cp = ilaplace(Qp * 1/s)\n",
    "\n",
    "cssp = simplify(limit(cp, t, 'oo'))\n",
    "c0p  = limit(cp, t, 0)\n",
    "\n",
    "mprintb(\"c(t) = \", latex(cp))\n",
    "mprintb(\"c_{ss} = \", latex(cssp))"
   ]
  },
  {
   "cell_type": "code",
   "execution_count": 9,
   "id": "adc611ae-cfba-415b-ba8a-20ff7db3f0f3",
   "metadata": {},
   "outputs": [
    {
     "data": {
      "image/png": "[encoded data removed]",
      "text/plain": [
       "<Figure size 500x250 with 1 Axes>"
      ]
     },
     "metadata": {},
     "output_type": "display_data"
    }
   ],
   "source": [
    "p = [plot(cp.subs(([tau, tau_], [Kp, Kp_[j]])), (t, 0, 5), size=(5, 2.5), ylabel='$c(t)$', show=False, legend=True) for j in range(len(Kp_))]\n",
    "\n",
    "for j in range(len(p)):\n",
    "    p[j][0].label = \"$K_p=\" + str(Kp_[j]) + \"$\"\n",
    "    if j > 0:\n",
    "        p[0].append(p[j][0])\n",
    "\n",
    "p[0].show()"
   ]
  },
  {
   "cell_type": "markdown",
   "id": "f1093b7a-fa31-4ff3-9c69-b454623afff7",
   "metadata": {},
   "source": [
    "## First-order system with PD-control "
   ]
  },
  {
   "cell_type": "markdown",
   "id": "3052a3fd-2a06-4b58-a78f-2aef3eef4820",
   "metadata": {},
   "source": [
    "Closed-loop transfer function:"
   ]
  },
  {
   "cell_type": "code",
   "execution_count": 10,
   "id": "f50c68ee-6149-4178-9d95-d96de3133c79",
   "metadata": {},
   "outputs": [
    {
     "data": {
      "text/latex": [
       "$\\displaystyle \\frac{K_{d} s + K_{p}}{K_{d} s + K_{p} + s \\tau + 1}$"
      ],
      "text/plain": [
       "<IPython.core.display.Math object>"
      ]
     },
     "metadata": {},
     "output_type": "display_data"
    }
   ],
   "source": [
    "Qpd = simplify(Q.subs(Ki, 0))\n",
    "\n",
    "mprint(latex(Qpd))"
   ]
  },
  {
   "cell_type": "markdown",
   "id": "e8c5b14a-b028-4046-873c-d31b50d8ce6d",
   "metadata": {},
   "source": [
    "### Closed-loop poles and zeros"
   ]
  },
  {
   "cell_type": "code",
   "execution_count": 11,
   "id": "2c50e372-845b-4884-b5b7-dd0f191a5c40",
   "metadata": {},
   "outputs": [
    {
     "name": "stdout",
     "output_type": "stream",
     "text": [
      "closed-loop zeros:\n"
     ]
    },
    {
     "data": {
      "text/latex": [
       "$\\displaystyle \\left[ - \\frac{K_{p}}{K_{d}}\\right]$"
      ],
      "text/plain": [
       "<IPython.core.display.Math object>"
      ]
     },
     "metadata": {},
     "output_type": "display_data"
    },
    {
     "name": "stdout",
     "output_type": "stream",
     "text": [
      "closed-loop zeros:\n"
     ]
    },
    {
     "data": {
      "text/latex": [
       "$\\displaystyle \\left[ - \\frac{K_{p} + 1}{K_{d} + \\tau}\\right]$"
      ],
      "text/plain": [
       "<IPython.core.display.Math object>"
      ]
     },
     "metadata": {},
     "output_type": "display_data"
    }
   ],
   "source": [
    "f = frac_to_tf(Qpd)\n",
    "zerospd = f.zeros()\n",
    "polespd = f.poles()\n",
    "\n",
    "print(\"closed-loop zeros:\")\n",
    "mprint(latex(zerospd))\n",
    "\n",
    "print(\"closed-loop zeros:\")\n",
    "mprint(latex(polespd))"
   ]
  },
  {
   "cell_type": "markdown",
   "id": "70cdb586-9415-4aea-bc8f-4143e5c27bf4",
   "metadata": {},
   "source": [
    "### Step response"
   ]
  },
  {
   "cell_type": "markdown",
   "id": "049bfff0-0ae3-40f0-9419-db43e4d84a6c",
   "metadata": {},
   "source": [
    "We simply perform an inverse Laplace operation to $C(s)$ and obtain $c(t)$ as the result. Additionally, we will also compute the steady state-value for the output ($c_{ss}$).\n",
    "\n",
    "A phenomenon that can be observed in a derivative control is the \"kick\" that happens when a step input is applied to the controlled system. Because of the kick, system output does not start from zero. "
   ]
  },
  {
   "cell_type": "code",
   "execution_count": 12,
   "id": "8f06ea5e-f9a3-45b7-87bd-e40f117f5fda",
   "metadata": {},
   "outputs": [
    {
     "data": {
      "text/latex": [
       "$\\displaystyle \\boxed{c(t) = \\frac{K_{p}}{K_{p} + 1} + \\frac{\\left(K_{d} - K_{p} \\tau\\right) e^{- \\frac{t \\left(K_{p}^{2} + 2 K_{p} + 1\\right)}{K_{d} K_{p} + K_{d} + K_{p} \\tau + \\tau}}}{K_{d} K_{p} + K_{d} + K_{p} \\tau + \\tau}}$"
      ],
      "text/plain": [
       "<IPython.core.display.Math object>"
      ]
     },
     "metadata": {},
     "output_type": "display_data"
    },
    {
     "data": {
      "text/latex": [
       "$\\displaystyle \\boxed{c_{ss} = \\frac{K_{p}}{K_{p} + 1}}$"
      ],
      "text/plain": [
       "<IPython.core.display.Math object>"
      ]
     },
     "metadata": {},
     "output_type": "display_data"
    },
    {
     "data": {
      "text/latex": [
       "$\\displaystyle \\boxed{c(0) = \\frac{K_{d}}{K_{d} + \\tau}}$"
      ],
      "text/plain": [
       "<IPython.core.display.Math object>"
      ]
     },
     "metadata": {},
     "output_type": "display_data"
    }
   ],
   "source": [
    "cpd   = logcombine(ilaplace(Qpd * 1/s))\n",
    "csspd = limit(cpd, t, 'oo')\n",
    "c0pd  = limit(cpd, t, 0)\n",
    "\n",
    "mprintb(\"c(t) = \", latex(cpd))\n",
    "mprintb(\"c_{ss} = \", latex(csspd))\n",
    "mprintb(\"c(0) = \", latex(c0pd))"
   ]
  },
  {
   "cell_type": "markdown",
   "id": "f2293a68-a2b6-4dd1-b1a7-e3063d634b27",
   "metadata": {},
   "source": [
    "Next, we set up arbitrary numerical values to some parameters and run sumulate the controlled system."
   ]
  },
  {
   "cell_type": "code",
   "execution_count": 13,
   "id": "009354a4-30cf-4654-b520-2a0f440358af",
   "metadata": {},
   "outputs": [],
   "source": [
    "tau_ = 1\n",
    "Kp_  = 20\n",
    "Kd_  = [0.1, 0.5, 1]"
   ]
  },
  {
   "cell_type": "code",
   "execution_count": 14,
   "id": "b1a36889-d0e4-424d-9e77-9f0caff1c897",
   "metadata": {},
   "outputs": [
    {
     "data": {
      "image/png": "[encoded data removed]",
      "text/plain": [
       "<Figure size 500x250 with 1 Axes>"
      ]
     },
     "metadata": {},
     "output_type": "display_data"
    }
   ],
   "source": [
    "p = [plot(cpd.subs(([tau, tau_], [Kp, Kp_],[Kd, Kd_[j]])), (t, 0, .5), size=(5, 2.5), ylabel='$c(t)$', show=False, legend=True, axis_center=[0,0]) for j in range(len(Kd_))]\n",
    "\n",
    "for j in range(len(p)):\n",
    "    p[j][0].label = \"$K_d=\" + str(Kd_[j]) + \"$\"\n",
    "    if j > 0:\n",
    "        p[0].append(p[j][0])\n",
    "\n",
    "q = plot(csspd.subs(Kp, Kp_), (t, 0, .5), line_color='k', show=False)\n",
    "\n",
    "q[0].label = \"$ c_{ss} (t) = \" + latex(csspd.subs(Kp, Kp_)) + \" $\"\n",
    "p[0].append(q[0])\n",
    "p[0].show()\n"
   ]
  },
  {
   "cell_type": "markdown",
   "id": "303ad8fb-5b95-43ab-9e99-27880703b30c",
   "metadata": {},
   "source": [
    "## First-order system with PI-control "
   ]
  },
  {
   "cell_type": "markdown",
   "id": "e622d0cc-6cd8-4668-ac5b-0fce10e6a93f",
   "metadata": {},
   "source": [
    "Closed-loop transfer function:"
   ]
  },
  {
   "cell_type": "code",
   "execution_count": 15,
   "id": "f94fad12-203f-42b8-af8e-466dbb21c9de",
   "metadata": {},
   "outputs": [
    {
     "data": {
      "text/latex": [
       "$\\displaystyle \\boxed{\\frac{K_{i} + K_{p} s}{K_{i} + K_{p} s + s^{2} \\tau + s}}$"
      ],
      "text/plain": [
       "<IPython.core.display.Math object>"
      ]
     },
     "metadata": {},
     "output_type": "display_data"
    }
   ],
   "source": [
    "Qpi = simplify(Q.subs(Kd, 0))\n",
    "\n",
    "mprintb(latex(Qpi))"
   ]
  },
  {
   "cell_type": "markdown",
   "id": "8e918f94-cb90-4aaa-9437-d5cea56fe540",
   "metadata": {},
   "source": [
    "### Closed-loop poles and zeros"
   ]
  },
  {
   "cell_type": "code",
   "execution_count": 16,
   "id": "f9aeecd1-cb4b-4e44-a237-3a84a4b798a6",
   "metadata": {},
   "outputs": [
    {
     "name": "stdout",
     "output_type": "stream",
     "text": [
      "closed-loop zeros:\n"
     ]
    },
    {
     "data": {
      "text/latex": [
       "$\\displaystyle \\left[ - \\frac{K_{i}}{K_{p}}\\right]$"
      ],
      "text/plain": [
       "<IPython.core.display.Math object>"
      ]
     },
     "metadata": {},
     "output_type": "display_data"
    },
    {
     "name": "stdout",
     "output_type": "stream",
     "text": [
      "closed-loop zeros:\n"
     ]
    },
    {
     "data": {
      "text/latex": [
       "$\\displaystyle \\left[ - \\frac{K_{p} + 1}{2 \\tau} - \\frac{\\sqrt{- 4 K_{i} \\tau + K_{p}^{2} + 2 K_{p} + 1}}{2 \\tau}, \\  - \\frac{K_{p} + 1}{2 \\tau} + \\frac{\\sqrt{- 4 K_{i} \\tau + K_{p}^{2} + 2 K_{p} + 1}}{2 \\tau}\\right]$"
      ],
      "text/plain": [
       "<IPython.core.display.Math object>"
      ]
     },
     "metadata": {},
     "output_type": "display_data"
    }
   ],
   "source": [
    "f = frac_to_tf(Qpi)\n",
    "zerospi = f.zeros()\n",
    "polespi = f.poles()\n",
    "\n",
    "print(\"closed-loop zeros:\")\n",
    "mprint(latex(zerospi))\n",
    "\n",
    "print(\"closed-loop zeros:\")\n",
    "mprint(latex(polespi))"
   ]
  },
  {
   "cell_type": "markdown",
   "id": "adba6711-26f9-4d4c-a721-12ee003e210c",
   "metadata": {},
   "source": [
    "### Step response"
   ]
  },
  {
   "cell_type": "markdown",
   "id": "9896eb07-753d-4b70-b20d-6847e362cf7d",
   "metadata": {},
   "source": [
    "We simply perform an inverse Laplace operation to $C(s)$ and obtain $c(t)$ as the result. Additionally, we will also compute the steady state-value for the output ($c_{ss}$)."
   ]
  },
  {
   "cell_type": "code",
   "execution_count": 17,
   "id": "8aef7391-09e6-4a3d-8869-2b7ed81a0083",
   "metadata": {},
   "outputs": [
    {
     "data": {
      "text/latex": [
       "$\\displaystyle \\boxed{c(t) = \\frac{\\left(K_{p} - 1\\right) e^{- \\frac{t \\left(K_{p} + 1\\right)}{2 \\tau}} \\sin{\\left(\\frac{t \\sqrt{4 K_{i} \\tau - K_{p}^{2} - 2 K_{p} - 1}}{2 \\tau} \\right)}}{\\sqrt{4 K_{i} \\tau - K_{p}^{2} - 2 K_{p} - 1}} + 1 - e^{- \\frac{t \\left(K_{p} + 1\\right)}{2 \\tau}} \\cos{\\left(\\frac{t \\sqrt{4 K_{i} \\tau - K_{p}^{2} - 2 K_{p} - 1}}{2 \\tau} \\right)}}$"
      ],
      "text/plain": [
       "<IPython.core.display.Math object>"
      ]
     },
     "metadata": {},
     "output_type": "display_data"
    },
    {
     "data": {
      "text/latex": [
       "$\\displaystyle \\boxed{c_{ss} = 1}$"
      ],
      "text/plain": [
       "<IPython.core.display.Math object>"
      ]
     },
     "metadata": {},
     "output_type": "display_data"
    }
   ],
   "source": [
    "cpi = ilaplace(Qpi * 1/s)\n",
    "cpi = sum([simplify(cpi.args[j]) for j in range(len(cpi.args))])\n",
    "\n",
    "csspi = limit(cpi, t, 'oo')\n",
    "\n",
    "mprintb(\"c(t) = \", latex(cpi))\n",
    "mprintb(\"c_{ss} = \", latex(csspi))"
   ]
  },
  {
   "cell_type": "markdown",
   "id": "a03314d9-8832-43f5-8cb2-4c0ed2ce9be7",
   "metadata": {},
   "source": [
    "Next, we set up arbitrary numerical values to some parameters and run sumulate the controlled system."
   ]
  },
  {
   "cell_type": "code",
   "execution_count": 18,
   "id": "048e3f9e-838f-4cda-8810-d456d71a02a6",
   "metadata": {},
   "outputs": [],
   "source": [
    "tau_ = 1\n",
    "Kp_ = 20\n",
    "Ki_ = [1, 10, 100, 1000]\n",
    "Kd_ = 0"
   ]
  },
  {
   "cell_type": "code",
   "execution_count": 19,
   "id": "66922d37-3247-4b6a-b6f1-c69025dc3dab",
   "metadata": {},
   "outputs": [
    {
     "data": {
      "image/png": "[encoded data removed]",
      "text/plain": [
       "<Figure size 500x250 with 1 Axes>"
      ]
     },
     "metadata": {},
     "output_type": "display_data"
    }
   ],
   "source": [
    "p = [plot(cpi.subs(([tau, tau_], [Kp, Kp_],[Ki, Ki_[j]])), (t, 0, 1), size=(5, 2.5), ylabel='$c(t)$', show=False, legend=True) for j in range(len(Ki_))]\n",
    "\n",
    "for j in range(len(p)):\n",
    "    p[j][0].label = \"$K_i=\" + str(Ki_[j]) + \"$\"\n",
    "    if j > 0:\n",
    "        p[0].append(p[j][0])\n",
    "\n",
    "q = plot(csspi.subs(Kp, Kp_), (t, 0, 1), line_color='k', show=False)\n",
    "q[0].label = \"$ c_{ss} (t) = \" + latex(csspi.subs(Kp, Kp_)) + \" $\"\n",
    "p[0].append(q[0])\n",
    "p[0].show()\n"
   ]
  },
  {
   "cell_type": "markdown",
   "id": "562d9268-cddf-45e9-8513-349243c5f191",
   "metadata": {},
   "source": [
    "### First-order system with PID-control "
   ]
  },
  {
   "cell_type": "code",
   "execution_count": 49,
   "id": "2f10ec9a-c68b-4d07-9a29-5241ff41fe81",
   "metadata": {},
   "outputs": [
    {
     "name": "stdout",
     "output_type": "stream",
     "text": [
      "closed-loop zeros:\n"
     ]
    },
    {
     "data": {
      "text/latex": [
       "$\\displaystyle \\left[ - \\frac{K_{p}}{2 K_{d}} - \\frac{\\sqrt{- 4 K_{d} K_{i} + K_{p}^{2}}}{2 K_{d}}, \\  - \\frac{K_{p}}{2 K_{d}} + \\frac{\\sqrt{- 4 K_{d} K_{i} + K_{p}^{2}}}{2 K_{d}}\\right]$"
      ],
      "text/plain": [
       "<IPython.core.display.Math object>"
      ]
     },
     "metadata": {},
     "output_type": "display_data"
    },
    {
     "name": "stdout",
     "output_type": "stream",
     "text": [
      "closed-loop poles:\n"
     ]
    },
    {
     "data": {
      "text/latex": [
       "$\\displaystyle \\left[ - \\frac{K_{p} + 1}{2 \\left(K_{d} + \\tau\\right)} - \\frac{\\sqrt{- 4 K_{d} K_{i} - 4 K_{i} \\tau + K_{p}^{2} + 2 K_{p} + 1}}{2 \\left(K_{d} + \\tau\\right)}, \\  - \\frac{K_{p} + 1}{2 \\left(K_{d} + \\tau\\right)} + \\frac{\\sqrt{- 4 K_{d} K_{i} - 4 K_{i} \\tau + K_{p}^{2} + 2 K_{p} + 1}}{2 \\left(K_{d} + \\tau\\right)}\\right]$"
      ],
      "text/plain": [
       "<IPython.core.display.Math object>"
      ]
     },
     "metadata": {},
     "output_type": "display_data"
    }
   ],
   "source": [
    "f = frac_to_tf(Q)\n",
    "zerospid = f.zeros()\n",
    "polespid = f.poles()\n",
    "\n",
    "print(\"closed-loop zeros:\")\n",
    "mprint(latex(zerospid))\n",
    "       \n",
    "print(\"closed-loop poles:\")\n",
    "mprint(latex(polespid))"
   ]
  },
  {
   "cell_type": "code",
   "execution_count": 21,
   "id": "1c5dabb7-a8dd-46af-8945-60cc63956760",
   "metadata": {
    "editable": true,
    "slideshow": {
     "slide_type": ""
    },
    "tags": []
   },
   "outputs": [
    {
     "data": {
      "text/latex": [
       "$\\displaystyle \\boxed{c(t) = - \\frac{\\tau e^{- \\frac{t \\left(K_{p} + 1\\right)}{2 \\left(K_{d} + \\tau\\right)}} \\cos{\\left(\\frac{t \\sqrt{K_{d} K_{i} + K_{i} \\tau - \\frac{K_{p}^{2}}{4} - \\frac{K_{p}}{2} - \\frac{1}{4}}}{K_{d} + \\tau} \\right)}}{K_{d} + \\tau} + \\frac{2 \\left(K_{d} + \\tau\\right) \\left(\\frac{\\tau \\left(K_{p} + 1\\right)}{2 \\left(K_{d} + \\tau\\right)^{2}} - \\frac{1}{K_{d} + \\tau}\\right) e^{- \\frac{t \\left(K_{p} + 1\\right)}{2 \\left(K_{d} + \\tau\\right)}} \\sin{\\left(\\frac{t \\sqrt{4 K_{d} K_{i} + 4 K_{i} \\tau - K_{p}^{2} - 2 K_{p} - 1}}{2 \\left(K_{d} + \\tau\\right)} \\right)}}{\\sqrt{4 K_{d} K_{i} + 4 K_{i} \\tau - K_{p}^{2} - 2 K_{p} - 1}} + 1}$"
      ],
      "text/plain": [
       "<IPython.core.display.Math object>"
      ]
     },
     "metadata": {},
     "output_type": "display_data"
    },
    {
     "data": {
      "text/latex": [
       "$\\displaystyle \\boxed{c_{ss} = 1}$"
      ],
      "text/plain": [
       "<IPython.core.display.Math object>"
      ]
     },
     "metadata": {},
     "output_type": "display_data"
    },
    {
     "data": {
      "text/latex": [
       "$\\displaystyle \\boxed{c(0) = \\frac{K_{d}}{K_{d} + \\tau}}$"
      ],
      "text/plain": [
       "<IPython.core.display.Math object>"
      ]
     },
     "metadata": {},
     "output_type": "display_data"
    }
   ],
   "source": [
    "cpid   = logcombine(ilaplace(Q * 1/s))\n",
    "csspid = limit(cpid, t, 'oo')\n",
    "c0pid  = limit(cpid, t, 0)\n",
    "\n",
    "mprintb(\"c(t) = \", latex(cpid))\n",
    "mprintb(\"c_{ss} = \", latex(csspid))\n",
    "mprintb(\"c(0) = \", latex(c0pid))"
   ]
  },
  {
   "cell_type": "markdown",
   "id": "3a7458e9-f9ce-460e-8e7f-40e61b458797",
   "metadata": {},
   "source": [
    "## Summary"
   ]
  },
  {
   "cell_type": "code",
   "execution_count": 60,
   "id": "90aca96f-126e-4d0f-86b7-a06aa164e960",
   "metadata": {
    "editable": true,
    "slideshow": {
     "slide_type": ""
    },
    "tags": [
     "full-width"
    ]
   },
   "outputs": [],
   "source": [
    "from pandas import DataFrame, set_option\n",
    "from IPython.display import Markdown, display\n",
    "\n",
    "def makelatex(args):\n",
    "    return [\"${}$\".format(latex(a)) for a in args]\n",
    "\n",
    "descs = [\"P\", \n",
    "         \"PD\",\n",
    "         \"PI\",\n",
    "         \"PID\"]\n",
    "\n",
    "css_label = [cssp, csspd, csspi, csspid]\n",
    "c_label   = [cp, cpd, cpi, cpid]\n",
    "cl_zeros  = [zerosp, zerospd, zerospi, zerospid]\n",
    "cl_poles  = [polesp, polespd, polespi, polespid]\n",
    "kicks     = [0, c0pd, 0, c0pid]\n",
    "\n",
    "\n",
    "dic1 = {''         : makelatex(descs), \n",
    "        '$c_{ss}$' : makelatex(css_label),\n",
    "        '$c(0)$'   : makelatex(kicks)}\n",
    "\n",
    "dic2 = {''         : makelatex(descs), \n",
    "        'Zeros'    : makelatex(cl_zeros),\n",
    "        'Poles'    : makelatex(cl_poles)}\n",
    "\n",
    "df1 = DataFrame(dic1)\n",
    "df2 = DataFrame(dic2)"
   ]
  },
  {
   "cell_type": "markdown",
   "id": "c650a70d-63af-48a5-b16c-f0f165d9e2f5",
   "metadata": {},
   "source": [
    "#### Initial and steady-state output for unit-step input"
   ]
  },
  {
   "cell_type": "code",
   "execution_count": 61,
   "id": "5971d97c-2aca-4301-bfa0-6081cfe3a84e",
   "metadata": {},
   "outputs": [
    {
     "data": {
      "text/markdown": [
       "|                       | $c_{ss}$                  | $c(0)$                       |\n",
       "|:----------------------|:--------------------------|:-----------------------------|\n",
       "| $\\mathtt{\\text{P}}$   | $\\frac{K_{p}}{K_{p} + 1}$ | $0$                          |\n",
       "| $\\mathtt{\\text{PD}}$  | $\\frac{K_{p}}{K_{p} + 1}$ | $\\frac{K_{d}}{K_{d} + \\tau}$ |\n",
       "| $\\mathtt{\\text{PI}}$  | $1$                       | $0$                          |\n",
       "| $\\mathtt{\\text{PID}}$ | $1$                       | $\\frac{K_{d}}{K_{d} + \\tau}$ |"
      ],
      "text/plain": [
       "<IPython.core.display.Markdown object>"
      ]
     },
     "execution_count": 61,
     "metadata": {},
     "output_type": "execute_result"
    }
   ],
   "source": [
    "Markdown(df1.to_markdown(index=False))"
   ]
  },
  {
   "cell_type": "markdown",
   "id": "be4e1c0f-9328-4c48-8363-dcae673d7816",
   "metadata": {},
   "source": [
    "#### Zeros and poles"
   ]
  },
  {
   "cell_type": "code",
   "execution_count": 59,
   "id": "ad7e472f-b90a-4505-9571-1aa10539d2b1",
   "metadata": {
    "editable": true,
    "slideshow": {
     "slide_type": ""
    },
    "tags": []
   },
   "outputs": [
    {
     "data": {
      "text/markdown": [
       "|                       | Zeros                                                                                                                                                                         | Poles                                                                                                                                                                                                                                                                                                                           |\n",
       "|:----------------------|:------------------------------------------------------------------------------------------------------------------------------------------------------------------------------|:--------------------------------------------------------------------------------------------------------------------------------------------------------------------------------------------------------------------------------------------------------------------------------------------------------------------------------|\n",
       "| $\\mathtt{\\text{P}}$   | $\\left[ \\right]$                                                                                                                                                              | $\\left[ - \\frac{K_{p} + 1}{\\tau}\\right]$                                                                                                                                                                                                                                                                                        |\n",
       "| $\\mathtt{\\text{PD}}$  | $\\left[ - \\frac{K_{p}}{K_{d}}\\right]$                                                                                                                                         | $\\left[ - \\frac{K_{p} + 1}{K_{d} + \\tau}\\right]$                                                                                                                                                                                                                                                                                |\n",
       "| $\\mathtt{\\text{PI}}$  | $\\left[ - \\frac{K_{i}}{K_{p}}\\right]$                                                                                                                                         | $\\left[ - \\frac{K_{p} + 1}{2 \\tau} - \\frac{\\sqrt{- 4 K_{i} \\tau + K_{p}^{2} + 2 K_{p} + 1}}{2 \\tau}, \\  - \\frac{K_{p} + 1}{2 \\tau} + \\frac{\\sqrt{- 4 K_{i} \\tau + K_{p}^{2} + 2 K_{p} + 1}}{2 \\tau}\\right]$                                                                                                                     |\n",
       "| $\\mathtt{\\text{PID}}$ | $\\left[ - \\frac{K_{p}}{2 K_{d}} - \\frac{\\sqrt{- 4 K_{d} K_{i} + K_{p}^{2}}}{2 K_{d}}, \\  - \\frac{K_{p}}{2 K_{d}} + \\frac{\\sqrt{- 4 K_{d} K_{i} + K_{p}^{2}}}{2 K_{d}}\\right]$ | $\\left[ - \\frac{K_{p} + 1}{2 \\left(K_{d} + \\tau\\right)} - \\frac{\\sqrt{- 4 K_{d} K_{i} - 4 K_{i} \\tau + K_{p}^{2} + 2 K_{p} + 1}}{2 \\left(K_{d} + \\tau\\right)}, \\  - \\frac{K_{p} + 1}{2 \\left(K_{d} + \\tau\\right)} + \\frac{\\sqrt{- 4 K_{d} K_{i} - 4 K_{i} \\tau + K_{p}^{2} + 2 K_{p} + 1}}{2 \\left(K_{d} + \\tau\\right)}\\right]$ |"
      ],
      "text/plain": [
       "<IPython.core.display.Markdown object>"
      ]
     },
     "execution_count": 59,
     "metadata": {},
     "output_type": "execute_result"
    }
   ],
   "source": [
    "Markdown(df2.to_markdown(index=False))"
   ]
  },
  {
   "cell_type": "code",
   "execution_count": null,
   "id": "e5115f97-345a-4db9-9432-c7b1800161b4",
   "metadata": {},
   "outputs": [],
   "source": []
  }
 ],
 "metadata": {
  "kernelspec": {
   "display_name": "Python 3 (ipykernel)",
   "language": "python",
   "name": "python3"
  },
  "language_info": {
   "codemirror_mode": {
    "name": "ipython",
    "version": 3
   },
   "file_extension": ".py",
   "mimetype": "text/x-python",
   "name": "python",
   "nbconvert_exporter": "python",
   "pygments_lexer": "ipython3",
   "version": "3.12.3"
  }
 },
 "nbformat": 4,
 "nbformat_minor": 5
}
